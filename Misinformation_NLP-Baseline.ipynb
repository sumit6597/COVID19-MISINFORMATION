{
  "nbformat": 4,
  "nbformat_minor": 0,
  "metadata": {
    "colab": {
      "name": "CMU_Misinformation_NLP-Baseline",
      "provenance": [],
      "collapsed_sections": []
    },
    "kernelspec": {
      "name": "python3",
      "display_name": "Python 3"
    },
    "accelerator": "GPU",
    "widgets": {
      "application/vnd.jupyter.widget-state+json": {
        "f785c16027d04ca388176612cc5de457": {
          "model_module": "@jupyter-widgets/controls",
          "model_name": "HBoxModel",
          "state": {
            "_view_name": "HBoxView",
            "_dom_classes": [],
            "_model_name": "HBoxModel",
            "_view_module": "@jupyter-widgets/controls",
            "_model_module_version": "1.5.0",
            "_view_count": null,
            "_view_module_version": "1.5.0",
            "box_style": "",
            "layout": "IPY_MODEL_4166ec463f4740f8a8bba3c0c8e977f7",
            "_model_module": "@jupyter-widgets/controls",
            "children": [
              "IPY_MODEL_6207edee484748f3a00c8953e9538a48",
              "IPY_MODEL_f98e1d507916482bae54d1f21cce9940"
            ]
          }
        },
        "4166ec463f4740f8a8bba3c0c8e977f7": {
          "model_module": "@jupyter-widgets/base",
          "model_name": "LayoutModel",
          "state": {
            "_view_name": "LayoutView",
            "grid_template_rows": null,
            "right": null,
            "justify_content": null,
            "_view_module": "@jupyter-widgets/base",
            "overflow": null,
            "_model_module_version": "1.2.0",
            "_view_count": null,
            "flex_flow": null,
            "width": null,
            "min_width": null,
            "border": null,
            "align_items": null,
            "bottom": null,
            "_model_module": "@jupyter-widgets/base",
            "top": null,
            "grid_column": null,
            "overflow_y": null,
            "overflow_x": null,
            "grid_auto_flow": null,
            "grid_area": null,
            "grid_template_columns": null,
            "flex": null,
            "_model_name": "LayoutModel",
            "justify_items": null,
            "grid_row": null,
            "max_height": null,
            "align_content": null,
            "visibility": null,
            "align_self": null,
            "height": null,
            "min_height": null,
            "padding": null,
            "grid_auto_rows": null,
            "grid_gap": null,
            "max_width": null,
            "order": null,
            "_view_module_version": "1.2.0",
            "grid_template_areas": null,
            "object_position": null,
            "object_fit": null,
            "grid_auto_columns": null,
            "margin": null,
            "display": null,
            "left": null
          }
        },
        "6207edee484748f3a00c8953e9538a48": {
          "model_module": "@jupyter-widgets/controls",
          "model_name": "FloatProgressModel",
          "state": {
            "_view_name": "ProgressView",
            "style": "IPY_MODEL_7c6934b9fead4d0eb612a1c09e684a67",
            "_dom_classes": [],
            "description": "Downloading: 100%",
            "_model_name": "FloatProgressModel",
            "bar_style": "success",
            "max": 625,
            "_view_module": "@jupyter-widgets/controls",
            "_model_module_version": "1.5.0",
            "value": 625,
            "_view_count": null,
            "_view_module_version": "1.5.0",
            "orientation": "horizontal",
            "min": 0,
            "description_tooltip": null,
            "_model_module": "@jupyter-widgets/controls",
            "layout": "IPY_MODEL_45f6e416d93b4165995b166fabce1887"
          }
        },
        "f98e1d507916482bae54d1f21cce9940": {
          "model_module": "@jupyter-widgets/controls",
          "model_name": "HTMLModel",
          "state": {
            "_view_name": "HTMLView",
            "style": "IPY_MODEL_5ade5057f11d4a6d872a61a5491bb3a9",
            "_dom_classes": [],
            "description": "",
            "_model_name": "HTMLModel",
            "placeholder": "​",
            "_view_module": "@jupyter-widgets/controls",
            "_model_module_version": "1.5.0",
            "value": " 625/625 [02:19&lt;00:00, 4.47B/s]",
            "_view_count": null,
            "_view_module_version": "1.5.0",
            "description_tooltip": null,
            "_model_module": "@jupyter-widgets/controls",
            "layout": "IPY_MODEL_e2caf7cf7c494a0585cc3610c59eafb0"
          }
        },
        "7c6934b9fead4d0eb612a1c09e684a67": {
          "model_module": "@jupyter-widgets/controls",
          "model_name": "ProgressStyleModel",
          "state": {
            "_view_name": "StyleView",
            "_model_name": "ProgressStyleModel",
            "description_width": "initial",
            "_view_module": "@jupyter-widgets/base",
            "_model_module_version": "1.5.0",
            "_view_count": null,
            "_view_module_version": "1.2.0",
            "bar_color": null,
            "_model_module": "@jupyter-widgets/controls"
          }
        },
        "45f6e416d93b4165995b166fabce1887": {
          "model_module": "@jupyter-widgets/base",
          "model_name": "LayoutModel",
          "state": {
            "_view_name": "LayoutView",
            "grid_template_rows": null,
            "right": null,
            "justify_content": null,
            "_view_module": "@jupyter-widgets/base",
            "overflow": null,
            "_model_module_version": "1.2.0",
            "_view_count": null,
            "flex_flow": null,
            "width": null,
            "min_width": null,
            "border": null,
            "align_items": null,
            "bottom": null,
            "_model_module": "@jupyter-widgets/base",
            "top": null,
            "grid_column": null,
            "overflow_y": null,
            "overflow_x": null,
            "grid_auto_flow": null,
            "grid_area": null,
            "grid_template_columns": null,
            "flex": null,
            "_model_name": "LayoutModel",
            "justify_items": null,
            "grid_row": null,
            "max_height": null,
            "align_content": null,
            "visibility": null,
            "align_self": null,
            "height": null,
            "min_height": null,
            "padding": null,
            "grid_auto_rows": null,
            "grid_gap": null,
            "max_width": null,
            "order": null,
            "_view_module_version": "1.2.0",
            "grid_template_areas": null,
            "object_position": null,
            "object_fit": null,
            "grid_auto_columns": null,
            "margin": null,
            "display": null,
            "left": null
          }
        },
        "5ade5057f11d4a6d872a61a5491bb3a9": {
          "model_module": "@jupyter-widgets/controls",
          "model_name": "DescriptionStyleModel",
          "state": {
            "_view_name": "StyleView",
            "_model_name": "DescriptionStyleModel",
            "description_width": "",
            "_view_module": "@jupyter-widgets/base",
            "_model_module_version": "1.5.0",
            "_view_count": null,
            "_view_module_version": "1.2.0",
            "_model_module": "@jupyter-widgets/controls"
          }
        },
        "e2caf7cf7c494a0585cc3610c59eafb0": {
          "model_module": "@jupyter-widgets/base",
          "model_name": "LayoutModel",
          "state": {
            "_view_name": "LayoutView",
            "grid_template_rows": null,
            "right": null,
            "justify_content": null,
            "_view_module": "@jupyter-widgets/base",
            "overflow": null,
            "_model_module_version": "1.2.0",
            "_view_count": null,
            "flex_flow": null,
            "width": null,
            "min_width": null,
            "border": null,
            "align_items": null,
            "bottom": null,
            "_model_module": "@jupyter-widgets/base",
            "top": null,
            "grid_column": null,
            "overflow_y": null,
            "overflow_x": null,
            "grid_auto_flow": null,
            "grid_area": null,
            "grid_template_columns": null,
            "flex": null,
            "_model_name": "LayoutModel",
            "justify_items": null,
            "grid_row": null,
            "max_height": null,
            "align_content": null,
            "visibility": null,
            "align_self": null,
            "height": null,
            "min_height": null,
            "padding": null,
            "grid_auto_rows": null,
            "grid_gap": null,
            "max_width": null,
            "order": null,
            "_view_module_version": "1.2.0",
            "grid_template_areas": null,
            "object_position": null,
            "object_fit": null,
            "grid_auto_columns": null,
            "margin": null,
            "display": null,
            "left": null
          }
        },
        "28110b2709264954a02f14fcc849a0ef": {
          "model_module": "@jupyter-widgets/controls",
          "model_name": "HBoxModel",
          "state": {
            "_view_name": "HBoxView",
            "_dom_classes": [],
            "_model_name": "HBoxModel",
            "_view_module": "@jupyter-widgets/controls",
            "_model_module_version": "1.5.0",
            "_view_count": null,
            "_view_module_version": "1.5.0",
            "box_style": "",
            "layout": "IPY_MODEL_cf790430530c457d86634ad0a1e44824",
            "_model_module": "@jupyter-widgets/controls",
            "children": [
              "IPY_MODEL_0ee5968ce22e495fa9cd482dcf703c3b",
              "IPY_MODEL_687b3a4b5ad846c4813246e87936b631"
            ]
          }
        },
        "cf790430530c457d86634ad0a1e44824": {
          "model_module": "@jupyter-widgets/base",
          "model_name": "LayoutModel",
          "state": {
            "_view_name": "LayoutView",
            "grid_template_rows": null,
            "right": null,
            "justify_content": null,
            "_view_module": "@jupyter-widgets/base",
            "overflow": null,
            "_model_module_version": "1.2.0",
            "_view_count": null,
            "flex_flow": null,
            "width": null,
            "min_width": null,
            "border": null,
            "align_items": null,
            "bottom": null,
            "_model_module": "@jupyter-widgets/base",
            "top": null,
            "grid_column": null,
            "overflow_y": null,
            "overflow_x": null,
            "grid_auto_flow": null,
            "grid_area": null,
            "grid_template_columns": null,
            "flex": null,
            "_model_name": "LayoutModel",
            "justify_items": null,
            "grid_row": null,
            "max_height": null,
            "align_content": null,
            "visibility": null,
            "align_self": null,
            "height": null,
            "min_height": null,
            "padding": null,
            "grid_auto_rows": null,
            "grid_gap": null,
            "max_width": null,
            "order": null,
            "_view_module_version": "1.2.0",
            "grid_template_areas": null,
            "object_position": null,
            "object_fit": null,
            "grid_auto_columns": null,
            "margin": null,
            "display": null,
            "left": null
          }
        },
        "0ee5968ce22e495fa9cd482dcf703c3b": {
          "model_module": "@jupyter-widgets/controls",
          "model_name": "FloatProgressModel",
          "state": {
            "_view_name": "ProgressView",
            "style": "IPY_MODEL_e45406fb3d974d1c80ce09b40ab6b8c9",
            "_dom_classes": [],
            "description": "Downloading: 100%",
            "_model_name": "FloatProgressModel",
            "bar_style": "success",
            "max": 1460062736,
            "_view_module": "@jupyter-widgets/controls",
            "_model_module_version": "1.5.0",
            "value": 1460062736,
            "_view_count": null,
            "_view_module_version": "1.5.0",
            "orientation": "horizontal",
            "min": 0,
            "description_tooltip": null,
            "_model_module": "@jupyter-widgets/controls",
            "layout": "IPY_MODEL_5bcb25cb65734b1998d909cf65e564c3"
          }
        },
        "687b3a4b5ad846c4813246e87936b631": {
          "model_module": "@jupyter-widgets/controls",
          "model_name": "HTMLModel",
          "state": {
            "_view_name": "HTMLView",
            "style": "IPY_MODEL_a8745a82a8d541edba388953af9ddd17",
            "_dom_classes": [],
            "description": "",
            "_model_name": "HTMLModel",
            "placeholder": "​",
            "_view_module": "@jupyter-widgets/controls",
            "_model_module_version": "1.5.0",
            "value": " 1.46G/1.46G [02:17&lt;00:00, 10.6MB/s]",
            "_view_count": null,
            "_view_module_version": "1.5.0",
            "description_tooltip": null,
            "_model_module": "@jupyter-widgets/controls",
            "layout": "IPY_MODEL_5355ee4750a945ff90f5ef264b8cc2fb"
          }
        },
        "e45406fb3d974d1c80ce09b40ab6b8c9": {
          "model_module": "@jupyter-widgets/controls",
          "model_name": "ProgressStyleModel",
          "state": {
            "_view_name": "StyleView",
            "_model_name": "ProgressStyleModel",
            "description_width": "initial",
            "_view_module": "@jupyter-widgets/base",
            "_model_module_version": "1.5.0",
            "_view_count": null,
            "_view_module_version": "1.2.0",
            "bar_color": null,
            "_model_module": "@jupyter-widgets/controls"
          }
        },
        "5bcb25cb65734b1998d909cf65e564c3": {
          "model_module": "@jupyter-widgets/base",
          "model_name": "LayoutModel",
          "state": {
            "_view_name": "LayoutView",
            "grid_template_rows": null,
            "right": null,
            "justify_content": null,
            "_view_module": "@jupyter-widgets/base",
            "overflow": null,
            "_model_module_version": "1.2.0",
            "_view_count": null,
            "flex_flow": null,
            "width": null,
            "min_width": null,
            "border": null,
            "align_items": null,
            "bottom": null,
            "_model_module": "@jupyter-widgets/base",
            "top": null,
            "grid_column": null,
            "overflow_y": null,
            "overflow_x": null,
            "grid_auto_flow": null,
            "grid_area": null,
            "grid_template_columns": null,
            "flex": null,
            "_model_name": "LayoutModel",
            "justify_items": null,
            "grid_row": null,
            "max_height": null,
            "align_content": null,
            "visibility": null,
            "align_self": null,
            "height": null,
            "min_height": null,
            "padding": null,
            "grid_auto_rows": null,
            "grid_gap": null,
            "max_width": null,
            "order": null,
            "_view_module_version": "1.2.0",
            "grid_template_areas": null,
            "object_position": null,
            "object_fit": null,
            "grid_auto_columns": null,
            "margin": null,
            "display": null,
            "left": null
          }
        },
        "a8745a82a8d541edba388953af9ddd17": {
          "model_module": "@jupyter-widgets/controls",
          "model_name": "DescriptionStyleModel",
          "state": {
            "_view_name": "StyleView",
            "_model_name": "DescriptionStyleModel",
            "description_width": "",
            "_view_module": "@jupyter-widgets/base",
            "_model_module_version": "1.5.0",
            "_view_count": null,
            "_view_module_version": "1.2.0",
            "_model_module": "@jupyter-widgets/controls"
          }
        },
        "5355ee4750a945ff90f5ef264b8cc2fb": {
          "model_module": "@jupyter-widgets/base",
          "model_name": "LayoutModel",
          "state": {
            "_view_name": "LayoutView",
            "grid_template_rows": null,
            "right": null,
            "justify_content": null,
            "_view_module": "@jupyter-widgets/base",
            "overflow": null,
            "_model_module_version": "1.2.0",
            "_view_count": null,
            "flex_flow": null,
            "width": null,
            "min_width": null,
            "border": null,
            "align_items": null,
            "bottom": null,
            "_model_module": "@jupyter-widgets/base",
            "top": null,
            "grid_column": null,
            "overflow_y": null,
            "overflow_x": null,
            "grid_auto_flow": null,
            "grid_area": null,
            "grid_template_columns": null,
            "flex": null,
            "_model_name": "LayoutModel",
            "justify_items": null,
            "grid_row": null,
            "max_height": null,
            "align_content": null,
            "visibility": null,
            "align_self": null,
            "height": null,
            "min_height": null,
            "padding": null,
            "grid_auto_rows": null,
            "grid_gap": null,
            "max_width": null,
            "order": null,
            "_view_module_version": "1.2.0",
            "grid_template_areas": null,
            "object_position": null,
            "object_fit": null,
            "grid_auto_columns": null,
            "margin": null,
            "display": null,
            "left": null
          }
        },
        "8350a8afc6d04c399503769a6b33239f": {
          "model_module": "@jupyter-widgets/controls",
          "model_name": "HBoxModel",
          "state": {
            "_view_name": "HBoxView",
            "_dom_classes": [],
            "_model_name": "HBoxModel",
            "_view_module": "@jupyter-widgets/controls",
            "_model_module_version": "1.5.0",
            "_view_count": null,
            "_view_module_version": "1.5.0",
            "box_style": "",
            "layout": "IPY_MODEL_d2f6dd65db074350a71940ebea193aa7",
            "_model_module": "@jupyter-widgets/controls",
            "children": [
              "IPY_MODEL_ac5b4c5e4ced4523bffe1da7d69206f6",
              "IPY_MODEL_5f623f96546d465285300ac35d63f72d"
            ]
          }
        },
        "d2f6dd65db074350a71940ebea193aa7": {
          "model_module": "@jupyter-widgets/base",
          "model_name": "LayoutModel",
          "state": {
            "_view_name": "LayoutView",
            "grid_template_rows": null,
            "right": null,
            "justify_content": null,
            "_view_module": "@jupyter-widgets/base",
            "overflow": null,
            "_model_module_version": "1.2.0",
            "_view_count": null,
            "flex_flow": null,
            "width": null,
            "min_width": null,
            "border": null,
            "align_items": null,
            "bottom": null,
            "_model_module": "@jupyter-widgets/base",
            "top": null,
            "grid_column": null,
            "overflow_y": null,
            "overflow_x": null,
            "grid_auto_flow": null,
            "grid_area": null,
            "grid_template_columns": null,
            "flex": null,
            "_model_name": "LayoutModel",
            "justify_items": null,
            "grid_row": null,
            "max_height": null,
            "align_content": null,
            "visibility": null,
            "align_self": null,
            "height": null,
            "min_height": null,
            "padding": null,
            "grid_auto_rows": null,
            "grid_gap": null,
            "max_width": null,
            "order": null,
            "_view_module_version": "1.2.0",
            "grid_template_areas": null,
            "object_position": null,
            "object_fit": null,
            "grid_auto_columns": null,
            "margin": null,
            "display": null,
            "left": null
          }
        },
        "ac5b4c5e4ced4523bffe1da7d69206f6": {
          "model_module": "@jupyter-widgets/controls",
          "model_name": "FloatProgressModel",
          "state": {
            "_view_name": "ProgressView",
            "style": "IPY_MODEL_d5f632fa13464318b5cbe9bb0b0a1671",
            "_dom_classes": [],
            "description": "Downloading: 100%",
            "_model_name": "FloatProgressModel",
            "bar_style": "success",
            "max": 213450,
            "_view_module": "@jupyter-widgets/controls",
            "_model_module_version": "1.5.0",
            "value": 213450,
            "_view_count": null,
            "_view_module_version": "1.5.0",
            "orientation": "horizontal",
            "min": 0,
            "description_tooltip": null,
            "_model_module": "@jupyter-widgets/controls",
            "layout": "IPY_MODEL_5a0ae3e1a07d4fb494a65b27213a325a"
          }
        },
        "5f623f96546d465285300ac35d63f72d": {
          "model_module": "@jupyter-widgets/controls",
          "model_name": "HTMLModel",
          "state": {
            "_view_name": "HTMLView",
            "style": "IPY_MODEL_7bc284bdc7cd41bcb0ba08b80e5fdad0",
            "_dom_classes": [],
            "description": "",
            "_model_name": "HTMLModel",
            "placeholder": "​",
            "_view_module": "@jupyter-widgets/controls",
            "_model_module_version": "1.5.0",
            "value": " 213k/213k [00:00&lt;00:00, 318kB/s]",
            "_view_count": null,
            "_view_module_version": "1.5.0",
            "description_tooltip": null,
            "_model_module": "@jupyter-widgets/controls",
            "layout": "IPY_MODEL_9ededbce85384dd38fd885c6f6f205d6"
          }
        },
        "d5f632fa13464318b5cbe9bb0b0a1671": {
          "model_module": "@jupyter-widgets/controls",
          "model_name": "ProgressStyleModel",
          "state": {
            "_view_name": "StyleView",
            "_model_name": "ProgressStyleModel",
            "description_width": "initial",
            "_view_module": "@jupyter-widgets/base",
            "_model_module_version": "1.5.0",
            "_view_count": null,
            "_view_module_version": "1.2.0",
            "bar_color": null,
            "_model_module": "@jupyter-widgets/controls"
          }
        },
        "5a0ae3e1a07d4fb494a65b27213a325a": {
          "model_module": "@jupyter-widgets/base",
          "model_name": "LayoutModel",
          "state": {
            "_view_name": "LayoutView",
            "grid_template_rows": null,
            "right": null,
            "justify_content": null,
            "_view_module": "@jupyter-widgets/base",
            "overflow": null,
            "_model_module_version": "1.2.0",
            "_view_count": null,
            "flex_flow": null,
            "width": null,
            "min_width": null,
            "border": null,
            "align_items": null,
            "bottom": null,
            "_model_module": "@jupyter-widgets/base",
            "top": null,
            "grid_column": null,
            "overflow_y": null,
            "overflow_x": null,
            "grid_auto_flow": null,
            "grid_area": null,
            "grid_template_columns": null,
            "flex": null,
            "_model_name": "LayoutModel",
            "justify_items": null,
            "grid_row": null,
            "max_height": null,
            "align_content": null,
            "visibility": null,
            "align_self": null,
            "height": null,
            "min_height": null,
            "padding": null,
            "grid_auto_rows": null,
            "grid_gap": null,
            "max_width": null,
            "order": null,
            "_view_module_version": "1.2.0",
            "grid_template_areas": null,
            "object_position": null,
            "object_fit": null,
            "grid_auto_columns": null,
            "margin": null,
            "display": null,
            "left": null
          }
        },
        "7bc284bdc7cd41bcb0ba08b80e5fdad0": {
          "model_module": "@jupyter-widgets/controls",
          "model_name": "DescriptionStyleModel",
          "state": {
            "_view_name": "StyleView",
            "_model_name": "DescriptionStyleModel",
            "description_width": "",
            "_view_module": "@jupyter-widgets/base",
            "_model_module_version": "1.5.0",
            "_view_count": null,
            "_view_module_version": "1.2.0",
            "_model_module": "@jupyter-widgets/controls"
          }
        },
        "9ededbce85384dd38fd885c6f6f205d6": {
          "model_module": "@jupyter-widgets/base",
          "model_name": "LayoutModel",
          "state": {
            "_view_name": "LayoutView",
            "grid_template_rows": null,
            "right": null,
            "justify_content": null,
            "_view_module": "@jupyter-widgets/base",
            "overflow": null,
            "_model_module_version": "1.2.0",
            "_view_count": null,
            "flex_flow": null,
            "width": null,
            "min_width": null,
            "border": null,
            "align_items": null,
            "bottom": null,
            "_model_module": "@jupyter-widgets/base",
            "top": null,
            "grid_column": null,
            "overflow_y": null,
            "overflow_x": null,
            "grid_auto_flow": null,
            "grid_area": null,
            "grid_template_columns": null,
            "flex": null,
            "_model_name": "LayoutModel",
            "justify_items": null,
            "grid_row": null,
            "max_height": null,
            "align_content": null,
            "visibility": null,
            "align_self": null,
            "height": null,
            "min_height": null,
            "padding": null,
            "grid_auto_rows": null,
            "grid_gap": null,
            "max_width": null,
            "order": null,
            "_view_module_version": "1.2.0",
            "grid_template_areas": null,
            "object_position": null,
            "object_fit": null,
            "grid_auto_columns": null,
            "margin": null,
            "display": null,
            "left": null
          }
        }
      }
    }
  },
  "cells": [
    {
      "cell_type": "code",
      "metadata": {
        "id": "icc0wAn80pTB",
        "colab": {
          "base_uri": "https://localhost:8080/",
          "height": 117
        },
        "outputId": "a7f4e993-43dd-4fef-c6a8-5be9d919ad4b"
      },
      "source": [
        "# !pip install transformers -q\n",
        "!pip install tensorflow==2.1 -q"
      ],
      "execution_count": null,
      "outputs": [
        {
          "output_type": "stream",
          "text": [
            "\u001b[K     |████████████████████████████████| 421.8MB 28kB/s \n",
            "\u001b[K     |████████████████████████████████| 3.9MB 54.4MB/s \n",
            "\u001b[K     |████████████████████████████████| 450kB 45.2MB/s \n",
            "\u001b[K     |████████████████████████████████| 51kB 7.8MB/s \n",
            "\u001b[?25h  Building wheel for gast (setup.py) ... \u001b[?25l\u001b[?25hdone\n",
            "\u001b[31mERROR: tensorflow-probability 0.11.0 has requirement gast>=0.3.2, but you'll have gast 0.2.2 which is incompatible.\u001b[0m\n"
          ],
          "name": "stdout"
        }
      ]
    },
    {
      "cell_type": "code",
      "metadata": {
        "id": "qOfuZN_0C-IE"
      },
      "source": [
        "#@title CyclicLR\n",
        "from tensorflow.keras.callbacks import *\n",
        "from tensorflow.keras import backend as K\n",
        "import numpy as np\n",
        "\n",
        "class CyclicLR(Callback):\n",
        "    def __init__(self, base_lr=0.001, max_lr=0.006, step_size=2000., mode='triangular',\n",
        "                 gamma=1., scale_fn=None, scale_mode='cycle'):\n",
        "        super(CyclicLR, self).__init__()\n",
        "\n",
        "        self.base_lr = base_lr\n",
        "        self.max_lr = max_lr\n",
        "        self.step_size = step_size\n",
        "        self.mode = mode\n",
        "        self.gamma = gamma\n",
        "        if scale_fn == None:\n",
        "            if self.mode == 'triangular':\n",
        "                self.scale_fn = lambda x: 1.\n",
        "                self.scale_mode = 'cycle'\n",
        "            elif self.mode == 'triangular2':\n",
        "                self.scale_fn = lambda x: 1/(2.**(x-1))\n",
        "                self.scale_mode = 'cycle'\n",
        "            elif self.mode == 'exp_range':\n",
        "                self.scale_fn = lambda x: gamma**(x)\n",
        "                self.scale_mode = 'iterations'\n",
        "        else:\n",
        "            self.scale_fn = scale_fn\n",
        "            self.scale_mode = scale_mode\n",
        "        self.clr_iterations = 0.\n",
        "        self.trn_iterations = 0.\n",
        "        self.history = {}\n",
        "\n",
        "        self._reset()\n",
        "\n",
        "    def _reset(self, new_base_lr=None, new_max_lr=None,\n",
        "               new_step_size=None):\n",
        "        \"\"\"Resets cycle iterations.\n",
        "        Optional boundary/step size adjustment.\n",
        "        \"\"\"\n",
        "        if new_base_lr != None:\n",
        "            self.base_lr = new_base_lr\n",
        "        if new_max_lr != None:\n",
        "            self.max_lr = new_max_lr\n",
        "        if new_step_size != None:\n",
        "            self.step_size = new_step_size\n",
        "        self.clr_iterations = 0.\n",
        "        \n",
        "    def clr(self):\n",
        "        cycle = np.floor(1+self.clr_iterations/(2*self.step_size))\n",
        "        x = np.abs(self.clr_iterations/self.step_size - 2*cycle + 1)\n",
        "        if self.scale_mode == 'cycle':\n",
        "            return self.base_lr + (self.max_lr-self.base_lr)*np.maximum(0, (1-x))*self.scale_fn(cycle)\n",
        "        else:\n",
        "            return self.base_lr + (self.max_lr-self.base_lr)*np.maximum(0, (1-x))*self.scale_fn(self.clr_iterations)\n",
        "        \n",
        "    def on_train_begin(self, logs={}):\n",
        "        logs = logs or {}\n",
        "\n",
        "        if self.clr_iterations == 0:\n",
        "            K.set_value(self.model.optimizer.lr, self.base_lr)\n",
        "        else:\n",
        "            K.set_value(self.model.optimizer.lr, self.clr())        \n",
        "            \n",
        "    def on_batch_end(self, epoch, logs=None):\n",
        "        \n",
        "        logs = logs or {}\n",
        "        self.trn_iterations += 1\n",
        "        self.clr_iterations += 1\n",
        "\n",
        "        self.history.setdefault('lr', []).append(K.get_value(self.model.optimizer.lr))\n",
        "        self.history.setdefault('iterations', []).append(self.trn_iterations)\n",
        "\n",
        "        for k, v in logs.items():\n",
        "            self.history.setdefault(k, []).append(v)\n",
        "        \n",
        "        K.set_value(self.model.optimizer.lr, self.clr())"
      ],
      "execution_count": null,
      "outputs": []
    },
    {
      "cell_type": "code",
      "metadata": {
        "id": "F8pBeao6AuPf"
      },
      "source": [
        "import pandas as pd\n",
        "data = pd.read_csv(\"/content/result_3.csv\",encoding=\"iso-8859-1\")"
      ],
      "execution_count": null,
      "outputs": []
    },
    {
      "cell_type": "code",
      "metadata": {
        "id": "mlzC4oPSA0Oo"
      },
      "source": [
        "data['text'] = data['text'].apply(lambda x: x.replace(\"\\n\",\" \")) "
      ],
      "execution_count": null,
      "outputs": []
    },
    {
      "cell_type": "code",
      "metadata": {
        "id": "OTyIbvKNzqpR"
      },
      "source": [
        "import numpy as np\n",
        "from sklearn.metrics import accuracy_score\n",
        "\n",
        "\n",
        "def eval_acc(y_true, y_pred):\n",
        "    y_true = np.argmax(y_true, axis=-1)\n",
        "    y_pred = np.argmax(y_pred, axis=-1)\n",
        "\n",
        "    acc = accuracy_score(y_true, y_pred)\n",
        "    return acc\n",
        "\n",
        "def recall(y_true, y_pred):\n",
        " \n",
        "    true_positives = K.sum(K.round(K.clip(y_true * y_pred, 0, 1)))\n",
        "    possible_positives = K.sum(K.round(K.clip(y_true, 0, 1)))\n",
        "    recall = true_positives / (possible_positives + K.epsilon())\n",
        "    return recall\n",
        " \n",
        " \n",
        "def precision(y_true, y_pred):\n",
        " \n",
        "    true_positives = K.sum(K.round(K.clip(y_true * y_pred, 0, 1)))\n",
        "    predicted_positives = K.sum(K.round(K.clip(y_pred, 0, 1)))\n",
        "    precision = true_positives / (predicted_positives + K.epsilon())\n",
        "    return precision\n",
        " \n",
        " \n",
        "def f1(y_true, y_pred):\n",
        "    p = precision(y_true, y_pred)\n",
        "    r = recall(y_true, y_pred)\n",
        "    return 2 * ((p * r) / (p + r))"
      ],
      "execution_count": null,
      "outputs": []
    },
    {
      "cell_type": "code",
      "metadata": {
        "id": "Kupm4TkLyqsE"
      },
      "source": [
        "import abc\n",
        "\n",
        "\n",
        "class BaseModel(object):\n",
        "    def __init__(self):\n",
        "        super(BaseModel, self).__init__()\n",
        "\n",
        "        self.model = None\n",
        "\n",
        "    @abc.abstractmethod\n",
        "    def build(self):\n",
        "        \"\"\"Build the model\"\"\"\n",
        "\n",
        "    @abc.abstractmethod\n",
        "    def train(self, data_train, data_dev):\n",
        "        \"\"\"Train the model\"\"\"\n",
        "\n",
        "    @abc.abstractmethod\n",
        "    def load_weights(self, filename):\n",
        "        \"\"\"Load weights from the `filename`\"\"\"\n",
        "\n",
        "    @abc.abstractmethod\n",
        "    def evaluate(self, data):\n",
        "        \"\"\"Evaluate the model on the provided data\"\"\"\n",
        "\n",
        "    @abc.abstractmethod\n",
        "    def predict(self, data):\n",
        "        \"\"\"Predict for the provided data\"\"\""
      ],
      "execution_count": null,
      "outputs": []
    },
    {
      "cell_type": "code",
      "metadata": {
        "id": "ld2aFhGCExHS",
        "colab": {
          "base_uri": "https://localhost:8080/",
          "height": 392
        },
        "outputId": "0bbdde9d-03be-44de-9e28-5f7ea046f62d"
      },
      "source": [
        "data"
      ],
      "execution_count": null,
      "outputs": [
        {
          "output_type": "execute_result",
          "data": {
            "text/html": [
              "<div>\n",
              "<style scoped>\n",
              "    .dataframe tbody tr th:only-of-type {\n",
              "        vertical-align: middle;\n",
              "    }\n",
              "\n",
              "    .dataframe tbody tr th {\n",
              "        vertical-align: top;\n",
              "    }\n",
              "\n",
              "    .dataframe thead th {\n",
              "        text-align: right;\n",
              "    }\n",
              "</style>\n",
              "<table border=\"1\" class=\"dataframe\">\n",
              "  <thead>\n",
              "    <tr style=\"text-align: right;\">\n",
              "      <th></th>\n",
              "      <th>Unnamed: 0</th>\n",
              "      <th>ID</th>\n",
              "      <th>Primary</th>\n",
              "      <th>text</th>\n",
              "      <th>clean_text</th>\n",
              "    </tr>\n",
              "  </thead>\n",
              "  <tbody>\n",
              "    <tr>\n",
              "      <th>0</th>\n",
              "      <td>0</td>\n",
              "      <td>2.024274e+08</td>\n",
              "      <td>0</td>\n",
              "      <td>Many people have different idea #3DPrinting du...</td>\n",
              "      <td>many people different idea time coronavirus li...</td>\n",
              "    </tr>\n",
              "    <tr>\n",
              "      <th>1</th>\n",
              "      <td>1</td>\n",
              "      <td>2.032557e+08</td>\n",
              "      <td>0</td>\n",
              "      <td>Enniente...\\nA me \\u2018sto #coronavirus fa an...</td>\n",
              "      <td>enniente na coronavirus fa ancora paura nquind...</td>\n",
              "    </tr>\n",
              "    <tr>\n",
              "      <th>2</th>\n",
              "      <td>2</td>\n",
              "      <td>2.160349e+08</td>\n",
              "      <td>0</td>\n",
              "      <td>People, there are gonna be more of these fiasc...</td>\n",
              "      <td>people gon na fiascos coming month election un...</td>\n",
              "    </tr>\n",
              "    <tr>\n",
              "      <th>3</th>\n",
              "      <td>3</td>\n",
              "      <td>2.603767e+08</td>\n",
              "      <td>0</td>\n",
              "      <td>Guidelines for your journey. \\nhttps://t.co/1F...</td>\n",
              "      <td>guideline journeyn coronavirus transpo travel ...</td>\n",
              "    </tr>\n",
              "    <tr>\n",
              "      <th>4</th>\n",
              "      <td>4</td>\n",
              "      <td>2.780104e+08</td>\n",
              "      <td>0</td>\n",
              "      <td>If only these poor people in #Tulsa understood...</td>\n",
              "      <td>poor people tulsa understood danger coronaviru...</td>\n",
              "    </tr>\n",
              "    <tr>\n",
              "      <th>...</th>\n",
              "      <td>...</td>\n",
              "      <td>...</td>\n",
              "      <td>...</td>\n",
              "      <td>...</td>\n",
              "      <td>...</td>\n",
              "    </tr>\n",
              "    <tr>\n",
              "      <th>1995</th>\n",
              "      <td>1995</td>\n",
              "      <td>1.224120e+18</td>\n",
              "      <td>1</td>\n",
              "      <td>@cnnbrk 2019 novel coronavirus, the biological...</td>\n",
              "      <td>cnn break news novel coronavirus biological we...</td>\n",
              "    </tr>\n",
              "    <tr>\n",
              "      <th>1996</th>\n",
              "      <td>1996</td>\n",
              "      <td>1.223800e+18</td>\n",
              "      <td>1</td>\n",
              "      <td>RT @flyer4life: Robert Steele: China Coronavir...</td>\n",
              "      <td>robe steele china coronavirus update biowar b...</td>\n",
              "    </tr>\n",
              "    <tr>\n",
              "      <th>1997</th>\n",
              "      <td>1997</td>\n",
              "      <td>1.223940e+18</td>\n",
              "      <td>1</td>\n",
              "      <td>Siri, Wuhan is home to China's first 5G instal...</td>\n",
              "      <td>siri wuhan home china first installation infec...</td>\n",
              "    </tr>\n",
              "    <tr>\n",
              "      <th>1998</th>\n",
              "      <td>1998</td>\n",
              "      <td>1.223760e+18</td>\n",
              "      <td>1</td>\n",
              "      <td>@smashleyhamer So what I hear you say is that ...</td>\n",
              "      <td>smashleyhamer hear say research use kill coron...</td>\n",
              "    </tr>\n",
              "    <tr>\n",
              "      <th>1999</th>\n",
              "      <td>1999</td>\n",
              "      <td>1.223760e+18</td>\n",
              "      <td>1</td>\n",
              "      <td>RT @jespet71: Wuhan in China was the province ...</td>\n",
              "      <td>wuhan china province roll center deadly virus</td>\n",
              "    </tr>\n",
              "  </tbody>\n",
              "</table>\n",
              "<p>2000 rows × 5 columns</p>\n",
              "</div>"
            ],
            "text/plain": [
              "      Unnamed: 0  ...                                         clean_text\n",
              "0              0  ...  many people different idea time coronavirus li...\n",
              "1              1  ...  enniente na coronavirus fa ancora paura nquind...\n",
              "2              2  ...  people gon na fiascos coming month election un...\n",
              "3              3  ...  guideline journeyn coronavirus transpo travel ...\n",
              "4              4  ...  poor people tulsa understood danger coronaviru...\n",
              "...          ...  ...                                                ...\n",
              "1995        1995  ...  cnn break news novel coronavirus biological we...\n",
              "1996        1996  ...   robe steele china coronavirus update biowar b...\n",
              "1997        1997  ...  siri wuhan home china first installation infec...\n",
              "1998        1998  ...  smashleyhamer hear say research use kill coron...\n",
              "1999        1999  ...      wuhan china province roll center deadly virus\n",
              "\n",
              "[2000 rows x 5 columns]"
            ]
          },
          "metadata": {
            "tags": []
          },
          "execution_count": 5
        }
      ]
    },
    {
      "cell_type": "code",
      "metadata": {
        "id": "h9mpO8xVD69u"
      },
      "source": [
        "#@title CONFIG -- Changes Here\n",
        "class Config(object):\n",
        "    def __init__(self):\n",
        "        # input configuration\n",
        "        self.input_level = 'word'\n",
        "        self.word_max_len = 128\n",
        "        self.char_max_len = 200\n",
        "        self.max_len = {'word': self.word_max_len,\n",
        "                        'char': self.char_max_len\n",
        "                        }\n",
        "        self.han_max_sent = 10\n",
        "        self.word_embed_dim = 300\n",
        "        self.word_embed_type = 'glove'\n",
        "        self.word_embed_trainable = False\n",
        "        self.word_embeddings = None\n",
        "\n",
        "        # model structure configuration\n",
        "        self.exp_name = None\n",
        "        self.model_name = None\n",
        "        self.rnn_units = 300\n",
        "        self.dense_units = 512\n",
        "\n",
        "        # model training configuration\n",
        "        self.batch_size = 128\n",
        "        self.n_epoch = 10\n",
        "        self.learning_rate = 0.001\n",
        "        self.optimizer = Adam(self.learning_rate)\n",
        "        self.dropout = 0.5\n",
        "        self.l2_reg = 0.001\n",
        "\n",
        "        # output configuration\n",
        "        self.n_class = 4\n",
        "\n",
        "        # checkpoint configuration\n",
        "        self.checkpoint_dir = 'ckpt'\n",
        "        self.checkpoint_monitor = 'val_loss'\n",
        "        self.checkpoint_save_best_only = True\n",
        "        self.checkpoint_save_weights_only = True\n",
        "        self.checkpoint_verbose = 1\n",
        "\n",
        "        # early_stopping configuration\n",
        "        self.early_stopping_monitor = 'val_loss'\n",
        "        self.early_stopping_patience = 5\n",
        "        self.early_stopping_verbose = 1"
      ],
      "execution_count": null,
      "outputs": []
    },
    {
      "cell_type": "code",
      "metadata": {
        "id": "E3_U0Mrfzh90"
      },
      "source": [
        "import os\n",
        "import abc\n",
        "import logging\n",
        "\n",
        "class KerasBaseModel(BaseModel):\n",
        "    def __init__(self, config, **kwargs):\n",
        "        super(KerasBaseModel, self).__init__()\n",
        "        self.config = config\n",
        "        self.level = self.config.input_level\n",
        "        self.max_len = self.config.max_len[self.config.input_level]\n",
        "        self.word_embeddings = config.word_embeddings\n",
        "        self.n_class = config.n_class\n",
        "\n",
        "        self.callbacks = []\n",
        "        self.init_callbacks()\n",
        "\n",
        "        self.model = self.build(**kwargs)\n",
        "\n",
        "    def init_callbacks(self):\n",
        "        self.callbacks.append(ModelCheckpoint(\n",
        "            filepath=self.config.checkpoint_dir,\n",
        "            monitor=self.config.checkpoint_monitor,\n",
        "            save_best_only=self.config.checkpoint_save_best_only,\n",
        "            save_weights_only=self.config.checkpoint_save_weights_only,\n",
        "            verbose=self.config.checkpoint_verbose\n",
        "        ))\n",
        "\n",
        "        self.callbacks.append(EarlyStopping(\n",
        "            monitor=self.config.early_stopping_monitor,\n",
        "            patience=self.config.early_stopping_patience,\n",
        "            verbose=self.config.early_stopping_verbose\n",
        "        ))\n",
        "        self.callbacks.append(CyclicLR())\n",
        "    def load_weights(self, filename):\n",
        "        self.model.load_weights(filename)\n",
        "\n",
        "    def load_best_model(self):\n",
        "        logging.info('loading model checkpoint: %s.hdf5\\n' % self.config.exp_name)\n",
        "        self.load_weights(os.path.join(self.config.checkpoint_dir, '%s.hdf5' % self.config.exp_name))\n",
        "        logging.info('Model loaded')\n",
        "\n",
        "    @abc.abstractmethod\n",
        "    def build(self):\n",
        "        \"\"\"Build the model\"\"\"\n",
        "\n",
        "    def train(self, data_train, data_dev=None):\n",
        "        x_train, y_train = data_train\n",
        "\n",
        "        logging.info('start training...')\n",
        "        self.model.fit(x=x_train, y=y_train, batch_size=self.config.batch_size, epochs=self.config.n_epoch,\n",
        "                       validation_data=data_dev, callbacks=self.callbacks)\n",
        "        logging.info('training end...')\n",
        "\n",
        "    def evaluate(self, data):\n",
        "        input_data, label = data\n",
        "        prediction = self.predict(input_data)\n",
        "        acc = eval_acc(label, prediction)\n",
        "        logging.info('acc : %f', acc)\n",
        "        return acc\n",
        "\n",
        "    def predict(self, data):\n",
        "        return self.model.predict(data)"
      ],
      "execution_count": null,
      "outputs": []
    },
    {
      "cell_type": "code",
      "metadata": {
        "id": "OS6cGo5yzE5z"
      },
      "source": [
        "class BiLSTM(KerasBaseModel):\n",
        "    def __init__(self, config, **kwargs):\n",
        "        super(BiLSTM, self).__init__(config, **kwargs)\n",
        "\n",
        "    def build(self):\n",
        "        input_text = Input(shape=(self.max_len,),dtype='int64')\n",
        "\n",
        "        embedding_layer = Embedding(self.word_embeddings.shape[0], self.word_embeddings.shape[1],\n",
        "                                    weights=[self.word_embeddings],\n",
        "                                    trainable=self.config.word_embed_trainable, mask_zero=True)(input_text)\n",
        "        text_embed = SpatialDropout1D(0.2)(embedding_layer)\n",
        "\n",
        "        hidden_states = Bidirectional(LSTM(units=self.config.rnn_units, return_sequences=True))(text_embed)\n",
        "        global_max_pooling = Lambda(lambda x: K.max(x, axis=1))  # GlobalMaxPooling1D didn't support masking\n",
        "        sentence_embed = global_max_pooling(hidden_states)\n",
        "\n",
        "        dense_layer = Dense(256, activation='relu')(sentence_embed)\n",
        "        output = Dense(self.n_class, activation='softmax')(dense_layer)\n",
        "\n",
        "        model = Model(input_text, output)\n",
        "        model.compile(loss='categorical_crossentropy', metrics=['accuracy'], optimizer=self.config.optimizer)\n",
        "        return model"
      ],
      "execution_count": null,
      "outputs": []
    },
    {
      "cell_type": "code",
      "metadata": {
        "id": "gmd7Q4Tg01_I",
        "colab": {
          "base_uri": "https://localhost:8080/",
          "height": 67
        },
        "outputId": "caec7797-32a0-4855-cb47-a3fe0310d760"
      },
      "source": [
        "# import pandas as pd\n",
        "# import numpy as np\n",
        "# from tensorflow.keras.utils import to_categorical\n",
        "# data = pd.read_csv(r'https://query.data.world/s/nxbqt3li4mjjlsqxr77c4l7odqzdot',encoding = 'latin-1')\n",
        "# data.drop(columns=['_unit_id', '_golden', '_unit_state', '_trusted_judgments', '_last_judgment_at', 'choose_one:confidence', 'keyword', 'location', 'tweetid', 'userid'],inplace=True)\n",
        "# data.drop(index=data[data['choose_one']==\"Can't Decide\"].index,columns=['choose_one_gold'],inplace=True)\n",
        "# data['choose_one'].value_counts()"
      ],
      "execution_count": null,
      "outputs": [
        {
          "output_type": "execute_result",
          "data": {
            "text/plain": [
              "Not Relevant    6187\n",
              "Relevant        4673\n",
              "Name: choose_one, dtype: int64"
            ]
          },
          "metadata": {
            "tags": []
          },
          "execution_count": 13
        }
      ]
    },
    {
      "cell_type": "code",
      "metadata": {
        "id": "9Rp6tZmH1lJT",
        "cellView": "both"
      },
      "source": [
        "\n",
        "import re\n",
        "import string\n",
        "def clean(tweet):\n",
        "            \n",
        "    # Special characters\n",
        "    tweet = re.sub(r\"\\x89Û_\", \"\", tweet)\n",
        "    tweet = re.sub(r\"\\x89ÛÒ\", \"\", tweet)\n",
        "    tweet = re.sub(r\"\\x89ÛÓ\", \"\", tweet)\n",
        "    tweet = re.sub(r\"\\x89ÛÏWhen\", \"When\", tweet)\n",
        "    tweet = re.sub(r\"\\x89ÛÏ\", \"\", tweet)\n",
        "    tweet = re.sub(r\"China\\x89Ûªs\", \"China's\", tweet)\n",
        "    tweet = re.sub(r\"let\\x89Ûªs\", \"let's\", tweet)\n",
        "    tweet = re.sub(r\"\\x89Û÷\", \"\", tweet)\n",
        "    tweet = re.sub(r\"\\x89Ûª\", \"\", tweet)\n",
        "    tweet = re.sub(r\"\\x89Û\\x9d\", \"\", tweet)\n",
        "    tweet = re.sub(r\"å_\", \"\", tweet)\n",
        "    tweet = re.sub(r\"\\x89Û¢\", \"\", tweet)\n",
        "    tweet = re.sub(r\"\\x89Û¢åÊ\", \"\", tweet)\n",
        "    tweet = re.sub(r\"fromåÊwounds\", \"from wounds\", tweet)\n",
        "    tweet = re.sub(r\"åÊ\", \"\", tweet)\n",
        "    tweet = re.sub(r\"åÈ\", \"\", tweet)\n",
        "    tweet = re.sub(r\"JapÌ_n\", \"Japan\", tweet)    \n",
        "    tweet = re.sub(r\"Ì©\", \"e\", tweet)\n",
        "    tweet = re.sub(r\"å¨\", \"\", tweet)\n",
        "    tweet = re.sub(r\"SuruÌ¤\", \"Suruc\", tweet)\n",
        "    tweet = re.sub(r\"åÇ\", \"\", tweet)\n",
        "    tweet = re.sub(r\"å£3million\", \"3 million\", tweet)\n",
        "    tweet = re.sub(r\"åÀ\", \"\", tweet)\n",
        "    \n",
        "    # Contractions\n",
        "    tweet = re.sub(r\"he's\", \"he is\", tweet)\n",
        "    tweet = re.sub(r\"there's\", \"there is\", tweet)\n",
        "    tweet = re.sub(r\"We're\", \"We are\", tweet)\n",
        "    tweet = re.sub(r\"That's\", \"That is\", tweet)\n",
        "    tweet = re.sub(r\"won't\", \"will not\", tweet)\n",
        "    tweet = re.sub(r\"they're\", \"they are\", tweet)\n",
        "    tweet = re.sub(r\"Can't\", \"Cannot\", tweet)\n",
        "    tweet = re.sub(r\"wasn't\", \"was not\", tweet)\n",
        "    tweet = re.sub(r\"don\\x89Ûªt\", \"do not\", tweet)\n",
        "    tweet = re.sub(r\"aren't\", \"are not\", tweet)\n",
        "    tweet = re.sub(r\"isn't\", \"is not\", tweet)\n",
        "    tweet = re.sub(r\"What's\", \"What is\", tweet)\n",
        "    tweet = re.sub(r\"haven't\", \"have not\", tweet)\n",
        "    tweet = re.sub(r\"hasn't\", \"has not\", tweet)\n",
        "    tweet = re.sub(r\"There's\", \"There is\", tweet)\n",
        "    tweet = re.sub(r\"He's\", \"He is\", tweet)\n",
        "    tweet = re.sub(r\"It's\", \"It is\", tweet)\n",
        "    tweet = re.sub(r\"You're\", \"You are\", tweet)\n",
        "    tweet = re.sub(r\"I'M\", \"I am\", tweet)\n",
        "    tweet = re.sub(r\"shouldn't\", \"should not\", tweet)\n",
        "    tweet = re.sub(r\"wouldn't\", \"would not\", tweet)\n",
        "    tweet = re.sub(r\"i'm\", \"I am\", tweet)\n",
        "    tweet = re.sub(r\"I\\x89Ûªm\", \"I am\", tweet)\n",
        "    tweet = re.sub(r\"I'm\", \"I am\", tweet)\n",
        "    tweet = re.sub(r\"Isn't\", \"is not\", tweet)\n",
        "    tweet = re.sub(r\"Here's\", \"Here is\", tweet)\n",
        "    tweet = re.sub(r\"you've\", \"you have\", tweet)\n",
        "    tweet = re.sub(r\"you\\x89Ûªve\", \"you have\", tweet)\n",
        "    tweet = re.sub(r\"we're\", \"we are\", tweet)\n",
        "    tweet = re.sub(r\"what's\", \"what is\", tweet)\n",
        "    tweet = re.sub(r\"couldn't\", \"could not\", tweet)\n",
        "    tweet = re.sub(r\"we've\", \"we have\", tweet)\n",
        "    tweet = re.sub(r\"it\\x89Ûªs\", \"it is\", tweet)\n",
        "    tweet = re.sub(r\"doesn\\x89Ûªt\", \"does not\", tweet)\n",
        "    tweet = re.sub(r\"It\\x89Ûªs\", \"It is\", tweet)\n",
        "    tweet = re.sub(r\"Here\\x89Ûªs\", \"Here is\", tweet)\n",
        "    tweet = re.sub(r\"who's\", \"who is\", tweet)\n",
        "    tweet = re.sub(r\"I\\x89Ûªve\", \"I have\", tweet)\n",
        "    tweet = re.sub(r\"y'all\", \"you all\", tweet)\n",
        "    tweet = re.sub(r\"can\\x89Ûªt\", \"cannot\", tweet)\n",
        "    tweet = re.sub(r\"would've\", \"would have\", tweet)\n",
        "    tweet = re.sub(r\"it'll\", \"it will\", tweet)\n",
        "    tweet = re.sub(r\"we'll\", \"we will\", tweet)\n",
        "    tweet = re.sub(r\"wouldn\\x89Ûªt\", \"would not\", tweet)\n",
        "    tweet = re.sub(r\"We've\", \"We have\", tweet)\n",
        "    tweet = re.sub(r\"he'll\", \"he will\", tweet)\n",
        "    tweet = re.sub(r\"Y'all\", \"You all\", tweet)\n",
        "    tweet = re.sub(r\"Weren't\", \"Were not\", tweet)\n",
        "    tweet = re.sub(r\"Didn't\", \"Did not\", tweet)\n",
        "    tweet = re.sub(r\"they'll\", \"they will\", tweet)\n",
        "    tweet = re.sub(r\"they'd\", \"they would\", tweet)\n",
        "    tweet = re.sub(r\"DON'T\", \"DO NOT\", tweet)\n",
        "    tweet = re.sub(r\"That\\x89Ûªs\", \"That is\", tweet)\n",
        "    tweet = re.sub(r\"they've\", \"they have\", tweet)\n",
        "    tweet = re.sub(r\"i'd\", \"I would\", tweet)\n",
        "    tweet = re.sub(r\"should've\", \"should have\", tweet)\n",
        "    tweet = re.sub(r\"You\\x89Ûªre\", \"You are\", tweet)\n",
        "    tweet = re.sub(r\"where's\", \"where is\", tweet)\n",
        "    tweet = re.sub(r\"Don\\x89Ûªt\", \"Do not\", tweet)\n",
        "    tweet = re.sub(r\"we'd\", \"we would\", tweet)\n",
        "    tweet = re.sub(r\"i'll\", \"I will\", tweet)\n",
        "    tweet = re.sub(r\"weren't\", \"were not\", tweet)\n",
        "    tweet = re.sub(r\"They're\", \"They are\", tweet)\n",
        "    tweet = re.sub(r\"Can\\x89Ûªt\", \"Cannot\", tweet)\n",
        "    tweet = re.sub(r\"you\\x89Ûªll\", \"you will\", tweet)\n",
        "    tweet = re.sub(r\"I\\x89Ûªd\", \"I would\", tweet)\n",
        "    tweet = re.sub(r\"let's\", \"let us\", tweet)\n",
        "    tweet = re.sub(r\"it's\", \"it is\", tweet)\n",
        "    tweet = re.sub(r\"can't\", \"cannot\", tweet)\n",
        "    tweet = re.sub(r\"don't\", \"do not\", tweet)\n",
        "    tweet = re.sub(r\"you're\", \"you are\", tweet)\n",
        "    tweet = re.sub(r\"i've\", \"I have\", tweet)\n",
        "    tweet = re.sub(r\"that's\", \"that is\", tweet)\n",
        "    tweet = re.sub(r\"i'll\", \"I will\", tweet)\n",
        "    tweet = re.sub(r\"doesn't\", \"does not\", tweet)\n",
        "    tweet = re.sub(r\"i'd\", \"I would\", tweet)\n",
        "    tweet = re.sub(r\"didn't\", \"did not\", tweet)\n",
        "    tweet = re.sub(r\"ain't\", \"am not\", tweet)\n",
        "    tweet = re.sub(r\"you'll\", \"you will\", tweet)\n",
        "    tweet = re.sub(r\"I've\", \"I have\", tweet)\n",
        "    tweet = re.sub(r\"Don't\", \"do not\", tweet)\n",
        "    tweet = re.sub(r\"I'll\", \"I will\", tweet)\n",
        "    tweet = re.sub(r\"I'd\", \"I would\", tweet)\n",
        "    tweet = re.sub(r\"Let's\", \"Let us\", tweet)\n",
        "    tweet = re.sub(r\"you'd\", \"You would\", tweet)\n",
        "    tweet = re.sub(r\"It's\", \"It is\", tweet)\n",
        "    tweet = re.sub(r\"Ain't\", \"am not\", tweet)\n",
        "    tweet = re.sub(r\"Haven't\", \"Have not\", tweet)\n",
        "    tweet = re.sub(r\"Could've\", \"Could have\", tweet)\n",
        "    tweet = re.sub(r\"youve\", \"you have\", tweet)  \n",
        "    tweet = re.sub(r\"donå«t\", \"do not\", tweet)   \n",
        "            \n",
        "    # Character entity references\n",
        "    tweet = re.sub(r\"&gt;\", \">\", tweet)\n",
        "    tweet = re.sub(r\"&lt;\", \"<\", tweet)\n",
        "    tweet = re.sub(r\"&amp;\", \"&\", tweet)\n",
        "    \n",
        "    # Typos, slang and informal abbreviations\n",
        "    tweet = re.sub(r\"w/e\", \"whatever\", tweet)\n",
        "    tweet = re.sub(r\"w/\", \"with\", tweet)\n",
        "    tweet = re.sub(r\"USAgov\", \"USA government\", tweet)\n",
        "    tweet = re.sub(r\"recentlu\", \"recently\", tweet)\n",
        "    tweet = re.sub(r\"Ph0tos\", \"Photos\", tweet)\n",
        "    tweet = re.sub(r\"amirite\", \"am I right\", tweet)\n",
        "    tweet = re.sub(r\"exp0sed\", \"exposed\", tweet)\n",
        "    tweet = re.sub(r\"<3\", \"love\", tweet)\n",
        "    tweet = re.sub(r\"amageddon\", \"armageddon\", tweet)\n",
        "    tweet = re.sub(r\"Trfc\", \"Traffic\", tweet)\n",
        "    tweet = re.sub(r\"8/5/2015\", \"2015-08-05\", tweet)\n",
        "    tweet = re.sub(r\"WindStorm\", \"Wind Storm\", tweet)\n",
        "    tweet = re.sub(r\"8/6/2015\", \"2015-08-06\", tweet)\n",
        "    tweet = re.sub(r\"10:38PM\", \"10:38 PM\", tweet)\n",
        "    tweet = re.sub(r\"10:30pm\", \"10:30 PM\", tweet)\n",
        "    tweet = re.sub(r\"16yr\", \"16 year\", tweet)\n",
        "    tweet = re.sub(r\"lmao\", \"laughing my ass off\", tweet)   \n",
        "    tweet = re.sub(r\"TRAUMATISED\", \"traumatized\", tweet)\n",
        "    \n",
        "  # re.sub(r\"humanconsumption\", \"human consumption\", tweet)\n",
        "  #   tweet = re.sub(r\"Typhoon-Devastated\", \"Typhoon Devastated\", tweet)\n",
        "  #   tweet = re.sub(r\"Meat-Loving\", \"Meat Loving\", tweet)\n",
        "  #   tweet = re.sub(r\"facialabuse\", \"facial abuse\", tweet)\n",
        "  #   tweet = re.sub(r\"LakeCounty\", \"Lake County\", tweet)\n",
        "  #   tweet = re.sub(r\"BeingAuthor\", \"Being Author\", tweet)\n",
        "  #   tweet = re.sub(r\"withheavenly\", \"with heavenly\", tweet)\n",
        "  #   tweet = re.sub(r\"thankU\", \"thank you\", tweet)\n",
        "  #   tweet = re.sub(r\"iTunesMusic\", \"iTunes Music\", tweet)\n",
        "  #   tweet = re.sub(r\"OffensiveContent\", \"Offensive Content\", tweet)\n",
        "  #   tweet = re.sub(r\"WorstSummerJob\", \"Worst Summer Job\", tweet)\n",
        "  #   tweet = re.sub(r\"HarryBeCareful\", \"Harry Be Careful\", tweet)\n",
        "  #   tweet = re.sub(r\"NASASolarSystem\", \"NASA Solar System\", tweet)\n",
        "  #   tweet = re.sub(r\"animalrescue\", \"animal rescue\", tweet)\n",
        "  #   tweet = re.sub(r\"KurtSchlichter\", \"Kurt Schlichter\", tweet)\n",
        "  #   tweet = re.sub(r\"aRmageddon\", \"armageddon\", tweet)\n",
        "  #   tweet = re.sub(r\"Throwingknifes\", \"Throwing knives\", tweet)\n",
        "  #   tweet = re.sub(r\"GodsLove\", \"God's Love\", tweet)\n",
        "  #   tweet = re.sub(r\"bookboost\", \"book boost\", tweet)\n",
        "  #   tweet = re.sub(r\"ibooklove\", \"I book love\", tweet)\n",
        "  #   tweet = re.sub(r\"NestleIndia\", \"Nestle India\", tweet)\n",
        "  #   tweet = re.sub(r\"realDonaldTrump\", \"Donald Trump\", tweet)\n",
        "  #   tweet = re.sub(r\"DavidVonderhaar\", \"David Vonderhaar\", tweet)\n",
        "  #   tweet = re.sub(r\"CecilTheLion\", \"Cecil The Lion\", tweet)\n",
        "  #   tweet = re.sub(r\"weathernetwork\", \"weather network\", tweet)\n",
        "  #   tweet = re.sub(r\"withBioterrorism  # Hashtags and usernames\n",
        "  #   tweet = re.sub(r\"IranDeal\", \"Iran Deal\", tweet)\n",
        "  #   tweet = re.sub(r\"ArianaGrande\", \"Ariana Grande\", tweet)\n",
        "  #   tweet = re.sub(r\"camilacabello97\", \"camila cabello\", tweet) \n",
        "  #   tweet = re.sub(r\"RondaRousey\", \"Ronda Rousey\", tweet)     \n",
        "  #   tweet = re.sub(r\"MTVHottest\", \"MTV Hottest\", tweet)\n",
        "  #   tweet = re.sub(r\"TrapMusic\", \"Trap Music\", tweet)\n",
        "  #   tweet = re.sub(r\"ProphetMuhammad\", \"Prophet Muhammad\", tweet)\n",
        "  #   tweet = re.sub(r\"PantherAttack\", \"Panther Attack\", tweet)\n",
        "  #   tweet = re.sub(r\"StrategicPatience\", \"Strategic Patience\", tweet)\n",
        "  #   tweet = re.sub(r\"socialnews\", \"social news\", tweet)\n",
        "  #   tweet = re.sub(r\"NASAHurricane\", \"NASA Hurricane\", tweet)\n",
        "  #   tweet = re.sub(r\"onlinecommunities\", \"online communities\", tweet)\n",
        "  #   tweet = &use\", \"with Bioterrorism & use\", tweet)\n",
        "  #   tweet = re.sub(r\"Hostage&2\", \"Hostage & 2\", tweet)\n",
        "  #   tweet = re.sub(r\"GOPDebate\", \"GOP Debate\", tweet)\n",
        "  #   tweet = re.sub(r\"RickPerry\", \"Rick Perry\", tweet)\n",
        "  #   tweet = re.sub(r\"frontpage\", \"front page\", tweet)\n",
        "  #   tweet = re.sub(r\"NewsInTweets\", \"News In Tweets\", tweet)\n",
        "  #   tweet = re.sub(r\"ViralSpell\", \"Viral Spell\", tweet)\n",
        "  #   tweet = re.sub(r\"til_now\", \"until now\", tweet)\n",
        "  #   tweet = re.sub(r\"volcanoinRussia\", \"volcano in Russia\", tweet)\n",
        "  #   tweet = re.sub(r\"ZippedNews\", \"Zipped News\", tweet)\n",
        "  #   tweet = re.sub(r\"MicheleBachman\", \"Michele Bachman\", tweet)\n",
        "  #   tweet = re.sub(r\"53inch\", \"53 inch\", tweet)\n",
        "  #   tweet = re.sub(r\"KerrickTrial\", \"Kerrick Trial\", tweet)\n",
        "  #   tweet = re.sub(r\"abstorm\", \"Alberta Storm\", tweet)\n",
        "  #   tweet = re.sub(r\"Beyhive\", \"Beyonce hive\", tweet)\n",
        "  #   tweet = re.sub(r\"IDFire\", \"Idaho Fire\", tweet)\n",
        "  #   tweet = re.sub(r\"DETECTADO\", \"Detected\", tweet)\n",
        "  #   tweet = re.sub(r\"RockyFire\", \"Rocky Fire\", tweet)\n",
        "  #   tweet = re.sub(r\"Listen/Buy\", \"Listen / Buy\", tweet)\n",
        "  #   tweet = re.sub(r\"NickCannon\", \"Nick Cannon\", tweet)\n",
        "  #   tweet = re.sub(r\"FaroeIslands\", \"Faroe Islands\", tweet)\n",
        "  #   tweet = re.sub(r\"yycstorm\", \"Calgary Storm\", tweet)\n",
        "  #   tweet = re.sub(r\"IDPs:\", \"Internally Displaced People :\", tweet)\n",
        "  #   tweet = re.sub(r\"ArtistsUnited\", \"Artists United\", tweet)\n",
        "  #   tweet = re.sub(r\"ClaytonBryant\", \"Clayton Bryant\", tweet)\n",
        "  #   tweet = re.sub(r\"jimmyfallon\", \"jimmy fallon\", tweet)\n",
        "  #   tweet = re.sub(r\"justinbieber\", \"justin bieber\", tweet)  \n",
        "  #   tweet = re.sub(r\"UTC2015\", \"UTC 2015\", tweet)\n",
        "  #   tweet = re.sub(r\"Time2015\", \"Time 2015\", tweet)\n",
        "  #   tweet = re.sub(r\"djicemoon\", \"dj icemoon\", tweet)\n",
        "  #   tweet = re.sub(r\"LivingSafely\", \"Living Safely\", tweet)\n",
        "  #   tweet = re.sub(r\"FIFA16\", \"Fifa 2016\", tweet)\n",
        "  #   tweet = re.sub(r\"thisiswhywecanthavenicethings\", \"this is why we cannot have nice things\", tweet)\n",
        "  #   tweet = re.sub(r\"bbcnews\", \"bbc news\", tweet)\n",
        "  #   tweet = re.sub(r\"UndergroundRailraod\", \"Underground Railraod\", tweet)\n",
        "  #   tweet = re.sub(r\"c4news\", \"c4 news\", tweet)\n",
        "  #   tweet = re.sub(r\"OBLITERATION\", \"obliteration\", tweet)\n",
        "  #   tweet = re.sub(r\"MUDSLIDE\", \"mudslide\", tweet)\n",
        "  #   tweet = re.sub(r\"NoSurrender\", \"No Surrender\", tweet)\n",
        "  #   tweet = re.sub(r\"NotExplained\", \"Not Explained\", tweet)\n",
        "  #   tweet = re.sub(r\"greatbritishbakeoff\", \"great british bake off\", tweet)\n",
        "  #   tweet = re.sub(r\"LondonFire\", \"London Fire\", tweet)\n",
        "  #   tweet = re.sub(r\"KOTAWeather\", \"KOTA Weather\", tweet)\n",
        "  #   tweet = re.sub(r\"LuchaUnderground\", \"Lucha Underground\", tweet)\n",
        "  #   tweet = re.sub(r\"KOIN6News\", \"KOIN 6 News\", tweet)\n",
        "  #   tweet = re.sub(r\"LiveOnK2\", \"Live On K2\", tweet)\n",
        "  #   tweet = re.sub(r\"9NewsGoldCoast\", \"9 News Gold Coast\", tweet)\n",
        "  #   tweet = re.sub(r\"nikeplus\", \"nike plus\", tweet)\n",
        "  #   tweet = re.sub(r\"david_cameron\", \"David Cameron\", tweet)\n",
        "  #   tweet = re.sub(r\"peterjukes\", \"Peter Jukes\", tweet)\n",
        "  #   tweet = re.sub(r\"JamesMelville\", \"James Melville\", tweet)\n",
        "  #   tweet = re.sub(r\"megynkelly\", \"Megyn Kelly\", tweet)\n",
        "  #   tweet = re.sub(r\"cnewslive\", \"C News Live\", tweet)\n",
        "  #   tweet = re.sub(r\"JamaicaObserver\", \"Jamaica Observer\", tweet)\n",
        "  #   tweet = re.sub(r\"TweetLikeItsSeptember11th2001\", \"Tweet like it is september 11th 2001\", tweet)\n",
        "  #   tweet = re.sub(r\"cbplawyers\", \"cbp lawyers\", tweet)\n",
        "  #   tweet = re.sub(r\"fewmoretweets\", \"few more tweets\", tweet)\n",
        "  #   tweet = re.sub(r\"BlackLivesMatter\", \"Black Lives Matter\", tweet)\n",
        "  #   tweet = re.sub(r\"cjoyner\", \"Chris Joyner\", tweet)\n",
        "  #   tweet = re.sub(r\"ENGvAUS\", \"England vs Australia\", tweet)\n",
        "  #   tweet = re.sub(r\"ScottWalker\", \"Scott Walker\", tweet)\n",
        "  #   tweet = re.sub(r\"MikeParrActor\", \"Michael Parr\", tweet)\n",
        "  #   tweet = re.sub(r\"4PlayThursdays\", \"Foreplay Thursdays\", tweet)\n",
        "  #   tweet = re.sub(r\"TGF2015\", \"Tontitown Grape Festival\", tweet)\n",
        "  #   tweet = re.sub(r\"realmandyrain\", \"Mandy Rain\", tweet)\n",
        "  #   tweet = re.sub(r\"GraysonDolan\", \"Grayson Dolan\", tweet)\n",
        "  #   tweet = re.sub(r\"ApolloBrown\", \"Apollo Brown\", tweet)\n",
        "  #   tweet = re.sub(r\"saddlebrooke\", \"Saddlebrooke\", tweet)\n",
        "  #   tweet = re.sub(r\"TontitownGrape\", \"Tontitown Grape\", tweet)\n",
        "  #   tweet = re.sub(r\"AbbsWinston\", \"Abbs Winston\", tweet)\n",
        "  #   tweet = re.sub(r\"ShaunKing\", \"Shaun King\", tweet)\n",
        "  #   tweet = re.sub(r\"MeekMill\", \"Meek Mill\", tweet)\n",
        "  #   tweet = re.sub(r\"TornadoGiveaway\", \"Tornado Giveaway\", tweet)\n",
        "  #   tweet = re.sub(r\"GRupdates\", \"GR updates\", tweet)\n",
        "  #   tweet = re.sub(r\"SouthDowns\", \"South Downs\", tweet)\n",
        "  #   tweet = re.sub(r\"braininjury\", \"brain injury\", tweet)\n",
        "  #   tweet = re.sub(r\"auspol\", \"Australian politics\", tweet)\n",
        "  #   tweet = re.sub(r\"PlannedParenthood\", \"Planned Parenthood\", tweet)\n",
        "  #   tweet = re.sub(r\"calgaryweather\", \"Calgary Weather\", tweet)\n",
        "  #   tweet = re.sub(r\"weallheartonedirection\", \"we all heart one direction\", tweet)\n",
        "  #   tweet = re.sub(r\"edsheeran\", \"Ed Sheeran\", tweet)\n",
        "  #   tweet = re.sub(r\"TrueHeroes\", \"True Heroes\", tweet)\n",
        "  #   tweet = re.sub(r\"S3XLEAK\", \"sex leak\", tweet)\n",
        "  #   tweet = re.sub(r\"ComplexMag\", \"Complex Magazine\", tweet)\n",
        "  #   tweet = re.sub(r\"TheAdvocateMag\", \"The Advocate Magazine\", tweet)\n",
        "  #   tweet = re.sub(r\"CityofCalgary\", \"City of Calgary\", tweet)\n",
        "  #   tweet = re.sub(r\"EbolaOutbreak\", \"Ebola Outbreak\", tweet)\n",
        "  #   tweet = re.sub(r\"SummerFate\", \"Summer Fate\", tweet)\n",
        "  #   tweet = re.sub(r\"RAmag\", \"Royal Academy Magazine\", tweet)\n",
        "  #   tweet = re.sub(r\"offers2go\", \"offers to go\", tweet)\n",
        "  #   tweet = re.sub(r\"foodscare\", \"food scare\", tweet)\n",
        "  #   tweet = re.sub(r\"MNPDNashville\", \"Metropolitan Nashville Police Department\", tweet)\n",
        "  #   tweet = re.sub(r\"TfLBusAlerts\", \"TfL Bus Alerts\", tweet)\n",
        "  #   tweet = re.sub(r\"GamerGate\", \"Gamer Gate\", tweet)\n",
        "  #   tweet = re.sub(r\"IHHen\", \"Humanitarian Relief\", tweet)\n",
        "  #   tweet = re.sub(r\"spinningbot\", \"spinning bot\", tweet)\n",
        "  #   tweet = re.sub(r\"ModiMinistry\", \"Modi Ministry\", tweet)\n",
        "  #   tweet = re.sub(r\"TAXIWAYS\", \"taxi ways\", tweet)\n",
        "  #   tweet = re.sub(r\"Calum5SOS\", \"Calum Hood\", tweet)\n",
        "  #   tweet = re.sub(r\"po_st\", \"po.st\", tweet)\n",
        "  #   tweet = re.sub(r\"scoopit\", \"scoop.it\", tweet)\n",
        "  #   tweet = re.sub(r\"UltimaLucha\", \"Ultima Lucha\", tweet)\n",
        "  #   tweet = re.sub(r\"JonathanFerrell\", \"Jonathan Ferrell\", tweet)\n",
        "  #   tweet = re.sub(r\"aria_ahrary\", \"Aria Ahrary\", tweet)\n",
        "  #   tweet = re.sub(r\"rapidcity\", \"Rapid City\", tweet)\n",
        "  #   tweet = re.sub(r\"OutBid\", \"outbid\", tweet)\n",
        "  #   tweet = re.sub(r\"lavenderpoetrycafe\", \"lavender poetry cafe\", tweet)\n",
        "  #   tweet = re.sub(r\"EudryLantiqua\", \"Eudry Lantiqua\", tweet)\n",
        "  #   tweet = re.sub(r\"15PM\", \"15 PM\", tweet)\n",
        "  #   tweet = re.sub(r\"OriginalFunko\", \"Funko\", tweet)\n",
        "  #   tweet = re.sub(r\"rightwaystan\", \"Richard Tan\", tweet)\n",
        "  #   tweet = re.sub(r\"CindyNoonan\", \"Cindy Noonan\", tweet)\n",
        "  #   tweet = re.sub(r\"RT_America\", \"RT America\", tweet)\n",
        "  #   tweet = re.sub(r\"narendramodi\", \"Narendra Modi\", tweet)\n",
        "  #   tweet = re.sub(r\"BakeOffFriends\", \"Bake Off Friends\", tweet)\n",
        "  #   tweet = re.sub(r\"TeamHendrick\", \"Hendrick Motorsports\", tweet)\n",
        "  #   tweet = re.sub(r\"alexbelloli\", \"Alex Belloli\", tweet)\n",
        "  #   tweet = re.sub(r\"itsjustinstuart\", \"Justin Stuart\", tweet)\n",
        "  #   tweet = re.sub(r\"gunsense\", \"gun sense\", tweet)\n",
        "  #   tweet = re.sub(r\"DebateQuestionsWeWantToHear\", \"debate questions we want to hear\", tweet)\n",
        "  #   tweet = re.sub(r\"RoyalCarribean\", \"Royal Carribean\", tweet)\n",
        "  #   tweet = re.sub(r\"samanthaturne19\", \"Samantha Turner\", tweet)\n",
        "  #   tweet = re.sub(r\"JonVoyage\", \"Jon Stewart\", tweet)\n",
        "  #   tweet = re.sub(r\"renew911health\", \"renew 911 health\", tweet)\n",
        "  #   tweet = re.sub(r\"SuryaRay\", \"Surya Ray\", tweet)\n",
        "  #   tweet = re.sub(r\"pattonoswalt\", \"Patton Oswalt\", tweet)\n",
        "  #   tweet = re.sub(r\"minhazmerchant\", \"Minhaz Merchant\", tweet)\n",
        "  #   tweet = re.sub(r\"TLVFaces\", \"Israel Diaspora Coalition\", tweet)\n",
        "  #   tweet = re.sub(r\"pmarca\", \"Marc Andreessen\", tweet)\n",
        "  #   tweet = re.sub(r\"pdx911\", \"Portland Police\", tweet)\n",
        "  #   tweet = re.sub(r\"jamaicaplain\", \"Jamaica Plain\", tweet)\n",
        "  #   tweet = re.sub(r\"Japton\", \"Arkansas\", tweet)\n",
        "  #   tweet = re.sub(r\"RouteComplex\", \"Route Complex\", tweet)\n",
        "  #   tweet = re.sub(r\"INSubcontinent\", \"Indian Subcontinent\", tweet)\n",
        "  #   tweet = re.sub(r\"NJTurnpike\", \"New Jersey Turnpike\", tweet)\n",
        "  #   tweet = re.sub(r\"Politifiact\", \"PolitiFact\", tweet)\n",
        "  #   tweet = re.sub(r\"Hiroshima70\", \"Hiroshima\", tweet)\n",
        "  #   tweet = re.sub(r\"GMMBC\", \"Greater Mt Moriah Baptist Church\", tweet)\n",
        "  #   tweet = re.sub(r\"versethe\", \"verse the\", tweet)\n",
        "  #   tweet = re.sub(r\"TubeStrike\", \"Tube Strike\", tweet)\n",
        "  #   tweet = re.sub(r\"MissionHills\", \"Mission Hills\", tweet)\n",
        "  #   tweet = re.sub(r\"ProtectDenaliWolves\", \"Protect Denali Wolves\", tweet)\n",
        "  #   tweet = re.sub(r\"NANKANA\", \"Nankana\", tweet)\n",
        "  #   tweet = re.sub(r\"SAHIB\", \"Sahib\", tweet)\n",
        "  #   tweet = re.sub(r\"PAKPATTAN\", \"Pakpattan\", tweet)\n",
        "  #   tweet = re.sub(r\"Newz_Sacramento\", \"News Sacramento\", tweet)\n",
        "  #   tweet = re.sub(r\"gofundme\", \"go fund me\", tweet)\n",
        "  #   tweet = re.sub(r\"pmharper\", \"Stephen Harper\", tweet)\n",
        "  #   tweet = re.sub(r\"IvanBerroa\", \"Ivan Berroa\", tweet)\n",
        "  #   tweet = re.sub(r\"LosDelSonido\", \"Los Del Sonido\", tweet)\n",
        "  #   tweet = re.sub(r\"bancodeseries\", \"banco de series\", tweet)\n",
        "  #   tweet = re.sub(r\"timkaine\", \"Tim Kaine\", tweet)\n",
        "  #   tweet = re.sub(r\"IdentityTheft\", \"Identity Theft\", tweet)\n",
        "  #   tweet = re.sub(r\"AllLivesMatter\", \"All Lives Matter\", tweet)\n",
        "  #   tweet = re.sub(r\"mishacollins\", \"Misha Collins\", tweet)\n",
        "  #   tweet = re.sub(r\"BillNeelyNBC\", \"Bill Neely\", tweet)\n",
        "  #   tweet = re.sub(r\"BeClearOnCancer\", \"be clear on cancer\", tweet)\n",
        "  #   tweet = re.sub(r\"Kowing\", \"Knowing\", tweet)\n",
        "  #   tweet = re.sub(r\"ScreamQueens\", \"Scream Queens\", tweet)\n",
        "  #   tweet = re.sub(r\"AskCharley\", \"Ask Charley\", tweet)\n",
        "  #   tweet = re.sub(r\"BlizzHeroes\", \"Heroes of the Storm\", tweet)\n",
        "  #   tweet = re.sub(r\"BradleyBrad47\", \"Bradley Brad\", tweet)\n",
        "  #   tweet = re.sub(r\"HannaPH\", \"Typhoon Hanna\", tweet)\n",
        "  #   tweet = re.sub(r\"meinlcymbals\", \"MEINL Cymbals\", tweet)\n",
        "  #   tweet = re.sub(r\"Ptbo\", \"Peterborough\", tweet)\n",
        "  #   tweet = re.sub(r\"cnnbrk\", \"CNN Breaking News\", tweet)\n",
        "  #   tweet = re.sub(r\"IndianNews\", \"Indian News\", tweet)\n",
        "  #   tweet = re.sub(r\"savebees\", \"save bees\", tweet)\n",
        "  #   tweet = re.sub(r\"GreenHarvard\", \"Green Harvard\", tweet)\n",
        "  #   tweet = re.sub(r\"StandwithPP\", \"Stand with planned parenthood\", tweet)\n",
        "  #   tweet = re.sub(r\"hermancranston\", \"Herman Cranston\", tweet)\n",
        "  #   tweet = re.sub(r\"WMUR9\", \"WMUR-TV\", tweet)\n",
        "  #   tweet = re.sub(r\"RockBottomRadFM\", \"Rock Bottom Radio\", tweet)\n",
        "  #   tweet = re.sub(r\"ameenshaikh3\", \"Ameen Shaikh\", tweet)\n",
        "  #   tweet = re.sub(r\"ProSyn\", \"Project Syndicate\", tweet)\n",
        "  #   tweet = re.sub(r\"Daesh\", \"ISIS\", tweet)\n",
        "  #   tweet = re.sub(r\"s2g\", \"swear to god\", tweet)\n",
        "  #   tweet = re.sub(r\"listenlive\", \"listen live\", tweet)\n",
        "  #   tweet = re.sub(r\"CDCgov\", \"Centers for Disease Control and Prevention\", tweet)\n",
        "  #   tweet = re.sub(r\"FoxNew\", \"Fox News\", tweet)\n",
        "  #   tweet = re.sub(r\"CBSBigBrother\", \"Big Brother\", tweet)\n",
        "  #   tweet = re.sub(r\"JulieDiCaro\", \"Julie DiCaro\", tweet)\n",
        "  #   tweet = re.sub(r\"theadvocatemag\", \"The Advocate Magazine\", tweet)\n",
        "  #   tweet = re.sub(r\"RohnertParkDPS\", \"Rohnert Park Police Department\", tweet)\n",
        "  #   tweet = re.sub(r\"THISIZBWRIGHT\", \"Bonnie Wright\", tweet)\n",
        "  #   tweet = re.sub(r\"Popularmmos\", \"Popular MMOs\", tweet)\n",
        "  #   tweet = re.sub(r\"WildHorses\", \"Wild Horses\", tweet)\n",
        "  #   tweet = re.sub(r\"FantasticFour\", \"Fantastic Four\", tweet)\n",
        "  #   tweet = re.sub(r\"HORNDALE\", \"Horndale\", tweet)\n",
        "  #   tweet = re.sub(r\"PINER\", \"Piner\", tweet)\n",
        "  #   tweet = re.sub(r\"BathAndNorthEastSomerset\", \"Bath and North East Somerset\", tweet)\n",
        "  #   tweet = re.sub(r\"thatswhatfriendsarefor\", \"that is what friends are for\", tweet)\n",
        "  #   tweet = re.sub(r\"residualincome\", \"residual income\", tweet)\n",
        "  #   tweet = re.sub(r\"YahooNewsDigest\", \"Yahoo News Digest\", tweet)\n",
        "  #   tweet = re.sub(r\"MalaysiaAirlines\", \"Malaysia Airlines\", tweet)\n",
        "  #   tweet = re.sub(r\"AmazonDeals\", \"Amazon Deals\", tweet)\n",
        "  #   tweet = re.sub(r\"MissCharleyWebb\", \"Charley Webb\", tweet)\n",
        "  #   tweet = re.sub(r\"shoalstraffic\", \"shoals traffic\", tweet)\n",
        "  #   tweet = re.sub(r\"GeorgeFoster72\", \"George Foster\", tweet)\n",
        "  #   tweet = re.sub(r\"pop2015\", \"pop 2015\", tweet)\n",
        "  #   tweet = re.sub(r\"_PokemonCards_\", \"Pokemon Cards\", tweet)\n",
        "  #   tweet = re.sub(r\"DianneG\", \"Dianne Gallagher\", tweet)\n",
        "  #   tweet = re.sub(r\"KashmirConflict\", \"Kashmir Conflict\", tweet)\n",
        "  #   tweet = re.sub(r\"BritishBakeOff\", \"British Bake Off\", tweet)\n",
        "  #   tweet = re.sub(r\"FreeKashmir\", \"Free Kashmir\", tweet)\n",
        "  #   tweet = re.sub(r\"mattmosley\", \"Matt Mosley\", tweet)\n",
        "  #   tweet = re.sub(r\"BishopFred\", \"Bishop Fred\", tweet)\n",
        "  #   tweet = re.sub(r\"EndConflict\", \"End Conflict\", tweet)\n",
        "  #   tweet = re.sub(r\"EndOccupation\", \"End Occupation\", tweet)\n",
        "  #   tweet = re.sub(r\"UNHEALED\", \"unhealed\", tweet)\n",
        "  #   tweet = re.sub(r\"CharlesDagnall\", \"Charles Dagnall\", tweet)\n",
        "  #   tweet = re.sub(r\"Latestnews\", \"Latest news\", tweet)\n",
        "  #   tweet = re.sub(r\"KindleCountdown\", \"Kindle Countdown\", tweet)\n",
        "  #   tweet = re.sub(r\"NoMoreHandouts\", \"No More Handouts\", tweet)\n",
        "  #   tweet = re.sub(r\"datingtips\", \"dating tips\", tweet)\n",
        "  #   tweet = re.sub(r\"charlesadler\", \"Charles Adler\", tweet)\n",
        "  #   tweet = re.sub(r\"twia\", \"Texas Windstorm Insurance Association\", tweet)\n",
        "  #   tweet = re.sub(r\"txlege\", \"Texas Legislature\", tweet)\n",
        "  #   tweet = re.sub(r\"WindstormInsurer\", \"Windstorm Insurer\", tweet)\n",
        "  #   tweet = re.sub(r\"Newss\", \"News\", tweet)\n",
        "  #   tweet = re.sub(r\"hempoil\", \"hemp oil\", tweet)\n",
        "  #   tweet = re.sub(r\"CommoditiesAre\", \"Commodities are\", tweet)\n",
        "  #   tweet = re.sub(r\"tubestrike\", \"tube strike\", tweet)\n",
        "  #   tweet = re.sub(r\"JoeNBC\", \"Joe Scarborough\", tweet)\n",
        "  #   tweet = re.sub(r\"LiteraryCakes\", \"Literary Cakes\", tweet)\n",
        "  #   tweet = re.sub(r\"TI5\", \"The International 5\", tweet)\n",
        "  #   tweet = re.sub(r\"thehill\", \"the hill\", tweet)\n",
        "  #   tweet = re.sub(r\"3others\", \"3 others\", tweet)\n",
        "  #   tweet = re.sub(r\"stighefootball\", \"Sam Tighe\", tweet)\n",
        "  #   tweet = re.sub(r\"whatstheimportantvideo\", \"what is the important video\", tweet)\n",
        "  #   tweet = re.sub(r\"ClaudioMeloni\", \"Claudio Meloni\", tweet)\n",
        "  #   tweet = re.sub(r\"DukeSkywalker\", \"Duke Skywalker\", tweet)\n",
        "  #   tweet = re.sub(r\"carsonmwr\", \"Fort Carson\", tweet)\n",
        "  #   tweet = re.sub(r\"offdishduty\", \"off dish duty\", tweet)\n",
        "  #   tweet = re.sub(r\"andword\", \"and word\", tweet)\n",
        "  #   tweet = re.sub(r\"rhodeisland\", \"Rhode Island\", tweet)\n",
        "  #   tweet = re.sub(r\"easternoregon\", \"Eastern Oregon\", tweet)\n",
        "  #   tweet = re.sub(r\"WAwildfire\", \"Washington Wildfire\", tweet)\n",
        "  #   tweet = re.sub(r\"fingerrockfire\", \"Finger Rock Fire\", tweet)\n",
        "  #   tweet = re.sub(r\"57am\", \"57 am\", tweet)\n",
        "  #   tweet = re.sub(r\"fingerrockfire\", \"Finger Rock Fire\", tweet)\n",
        "  #   tweet = re.sub(r\"JacobHoggard\", \"Jacob Hoggard\", tweet)\n",
        "  #   tweet = re.sub(r\"newnewnew\", \"new new new\", tweet)\n",
        "  #   tweet = re.sub(r\"under50\", \"under 50\", tweet)\n",
        "  #   tweet = re.sub(r\"getitbeforeitsgone\", \"get it before it is gone\", tweet)\n",
        "  #   tweet = re.sub(r\"freshoutofthebox\", \"fresh out of the box\", tweet)\n",
        "  #   tweet = re.sub(r\"amwriting\", \"am writing\", tweet)\n",
        "  #   tweet = re.sub(r\"Bokoharm\", \"Boko Haram\", tweet)\n",
        "  #   tweet = re.sub(r\"Nowlike\", \"Now like\", tweet)\n",
        "  #   tweet = re.sub(r\"seasonfrom\", \"season from\", tweet)\n",
        "  #   tweet = re.sub(r\"epicente\", \"epicenter\", tweet)\n",
        "  #   tweet = re.sub(r\"epicenterr\", \"epicenter\", tweet)\n",
        "  #   tweet = re.sub(r\"sicklife\", \"sick life\", tweet)\n",
        "  #   tweet = re.sub(r\"yycweather\", \"Calgary Weather\", tweet)\n",
        "  #   tweet = re.sub(r\"calgarysun\", \"Calgary Sun\", tweet)\n",
        "  #   tweet = re.sub(r\"approachng\", \"approaching\", tweet)\n",
        "  #   tweet = re.sub(r\"evng\", \"evening\", tweet)\n",
        "  #   tweet = re.sub(r\"Sumthng\", \"something\", tweet)\n",
        "  #   tweet = re.sub(r\"EllenPompeo\", \"Ellen Pompeo\", tweet)\n",
        "  #   tweet = re.sub(r\"shondarhimes\", \"Shonda Rhimes\", tweet)\n",
        "  #   tweet = re.sub(r\"ABCNetwork\", \"ABC Network\", tweet)\n",
        "  #   tweet = re.sub(r\"SushmaSwaraj\", \"Sushma Swaraj\", tweet)\n",
        "  #   tweet = re.sub(r\"pray4japan\", \"Pray for Japan\", tweet)\n",
        "  #   tweet = re.sub(r\"hope4japan\", \"Hope for Japan\", tweet)\n",
        "  #   tweet = re.sub(r\"Illusionimagess\", \"Illusion images\", tweet)\n",
        "  #   tweet = re.sub(r\"SummerUnderTheStars\", \"Summer Under The Stars\", tweet)\n",
        "  #   tweet = re.sub(r\"ShallWeDance\", \"Shall We Dance\", tweet)\n",
        "  #   tweet = re.sub(r\"TCMParty\", \"TCM Party\", tweet)\n",
        "  #   tweet = re.sub(r\"marijuananews\", \"marijuana news\", tweet)\n",
        "  #   tweet = re.sub(r\"onbeingwithKristaTippett\", \"on being with Krista Tippett\", tweet)\n",
        "  #   tweet = re.sub(r\"Beingtweets\", \"Being tweets\", tweet)\n",
        "  #   tweet = re.sub(r\"newauthors\", \"new authors\", tweet)\n",
        "  #   tweet = re.sub(r\"remedyyyy\", \"remedy\", tweet)\n",
        "  #   tweet = re.sub(r\"44PM\", \"44 PM\", tweet)\n",
        "  #   tweet = re.sub(r\"HeadlinesApp\", \"Headlines App\", tweet)\n",
        "  #   tweet = re.sub(r\"40PM\", \"40 PM\", tweet)\n",
        "  #   tweet = re.sub(r\"myswc\", \"Severe Weather Center\", tweet)\n",
        "  #   tweet = re.sub(r\"ithats\", \"that is\", tweet)\n",
        "  #   tweet = re.sub(r\"icouldsitinthismomentforever\", \"I could sit in this moment forever\", tweet)\n",
        "  #   tweet = re.sub(r\"FatLoss\", \"Fat Loss\", tweet)\n",
        "  #   tweet = re.sub(r\"02PM\", \"02 PM\", tweet)\n",
        "  #   tweet = re.sub(r\"MetroFmTalk\", \"Metro Fm Talk\", tweet)\n",
        "  #   tweet = re.sub(r\"Bstrd\", \"bastard\", tweet)\n",
        "  #   tweet = re.sub(r\"bldy\", \"bloody\", tweet)\n",
        "  #   tweet = re.sub(r\"MetrofmTalk\", \"Metro Fm Talk\", tweet)\n",
        "  #   tweet = re.sub(r\"terrorismturn\", \"terrorism turn\", tweet)\n",
        "  #   tweet = re.sub(r\"BBCNewsAsia\", \"BBC News Asia\", tweet)\n",
        "  #   tweet = re.sub(r\"BehindTheScenes\", \"Behind The Scenes\", tweet)\n",
        "  #   tweet = re.sub(r\"GeorgeTakei\", \"George Takei\", tweet)\n",
        "  #   tweet = re.sub(r\"WomensWeeklyMag\", \"Womens Weekly Magazine\", tweet)\n",
        "  #   tweet = re.sub(r\"SurvivorsGuidetoEarth\", \"Survivors Guide to Earth\", tweet)\n",
        "  #   tweet = re.sub(r\"incubusband\", \"incubus band\", tweet)\n",
        "  #   tweet = re.sub(r\"Babypicturethis\", \"Baby picture this\", tweet)\n",
        "  #   tweet = re.sub(r\"BombEffects\", \"Bomb Effects\", tweet)\n",
        "  #   tweet = re.sub(r\"win10\", \"Windows 10\", tweet)\n",
        "  #   tweet = re.sub(r\"idkidk\", \"I do not know I do not know\", tweet)\n",
        "  #   tweet = re.sub(r\"TheWalkingDead\", \"The Walking Dead\", tweet)\n",
        "  #   tweet = re.sub(r\"amyschumer\", \"Amy Schumer\", tweet)\n",
        "  #   tweet = re.sub(r\"crewlist\", \"crew list\", tweet)\n",
        "  #   tweet = re.sub(r\"Erdogans\", \"Erdogan\", tweet)\n",
        "  #   tweet = re.sub(r\"BBCLive\", \"BBC Live\", tweet)\n",
        "  #   tweet = re.sub(r\"TonyAbbottMHR\", \"Tony Abbott\", tweet)\n",
        "  #   tweet = re.sub(r\"paulmyerscough\", \"Paul Myerscough\", tweet)\n",
        "  #   tweet = re.sub(r\"georgegallagher\", \"George Gallagher\", tweet)\n",
        "  #   tweet = re.sub(r\"JimmieJohnson\", \"Jimmie Johnson\", tweet)\n",
        "  #   tweet = re.sub(r\"pctool\", \"pc tool\", tweet)\n",
        "  #   tweet = re.sub(r\"DoingHashtagsRight\", \"Doing Hashtags Right\", tweet)\n",
        "  #   tweet = re.sub(r\"ThrowbackThursday\", \"Throwback Thursday\", tweet)\n",
        "  #   tweet = re.sub(r\"SnowBackSunday\", \"Snowback Sunday\", tweet)\n",
        "  #   tweet = re.sub(r\"LakeEffect\", \"Lake Effect\", tweet)\n",
        "  #   tweet = re.sub(r\"RTphotographyUK\", \"Richard Thomas Photography UK\", tweet)\n",
        "  #   tweet = re.sub(r\"BigBang_CBS\", \"Big Bang CBS\", tweet)\n",
        "  #   tweet = re.sub(r\"writerslife\", \"writers life\", tweet)\n",
        "  #   tweet = re.sub(r\"NaturalBirth\", \"Natural Birth\", tweet)\n",
        "  #   tweet = re.sub(r\"UnusualWords\", \"Unusual Words\", tweet)\n",
        "  #   tweet = re.sub(r\"wizkhalifa\", \"Wiz Khalifa\", tweet)\n",
        "  #   tweet = re.sub(r\"acreativedc\", \"a creative DC\", tweet)\n",
        "  #   tweet = re.sub(r\"vscodc\", \"vsco DC\", tweet)\n",
        "  #   tweet = re.sub(r\"VSCOcam\", \"vsco camera\", tweet)\n",
        "  #   tweet = re.sub(r\"TheBEACHDC\", \"The beach DC\", tweet)\n",
        "  #   tweet = re.sub(r\"buildingmuseum\", \"building museum\", tweet)\n",
        "  #   tweet = re.sub(r\"WorldOil\", \"World Oil\", tweet)\n",
        "  #   tweet = re.sub(r\"redwedding\", \"red wedding\", tweet)\n",
        "  #   tweet = re.sub(r\"AmazingRaceCanada\", \"Amazing Race Canada\", tweet)\n",
        "  #   tweet = re.sub(r\"WakeUpAmerica\", \"Wake Up America\", tweet)\n",
        "  #   tweet = re.sub(r\"\\\\Allahuakbar\\\\\", \"Allahu Akbar\", tweet)\n",
        "  #   tweet = re.sub(r\"bleased\", \"blessed\", tweet)\n",
        "  #   tweet = re.sub(r\"nigeriantribune\", \"Nigerian Tribune\", tweet)\n",
        "  #   tweet = re.sub(r\"HIDEO_KOJIMA_EN\", \"Hideo Kojima\", tweet)\n",
        "  #   tweet = re.sub(r\"FusionFestival\", \"Fusion Festival\", tweet)\n",
        "  #   tweet = re.sub(r\"50Mixed\", \"50 Mixed\", tweet)\n",
        "  #   tweet = re.sub(r\"NoAgenda\", \"No Agenda\", tweet)\n",
        "  #   tweet = re.sub(r\"WhiteGenocide\", \"White Genocide\", tweet)\n",
        "  #   tweet = re.sub(r\"dirtylying\", \"dirty lying\", tweet)\n",
        "  #   tweet = re.sub(r\"SyrianRefugees\", \"Syrian Refugees\", tweet)\n",
        "  #   tweet = re.sub(r\"changetheworld\", \"change the world\", tweet)\n",
        "  #   tweet = re.sub(r\"Ebolacase\", \"Ebola case\", tweet)\n",
        "  #   tweet = re.sub(r\"mcgtech\", \"mcg technologies\", tweet)\n",
        "  #   tweet = re.sub(r\"withweapons\", \"with weapons\", tweet)\n",
        "  #   tweet = re.sub(r\"advancedwarfare\", \"advanced warfare\", tweet)\n",
        "  #   tweet = re.sub(r\"letsFootball\", \"let us Football\", tweet)\n",
        "  #   tweet = re.sub(r\"LateNiteMix\", \"late night mix\", tweet)\n",
        "  #   tweet = re.sub(r\"PhilCollinsFeed\", \"Phil Collins\", tweet)\n",
        "  #   tweet = re.sub(r\"RudyHavenstein\", \"Rudy Havenstein\", tweet)\n",
        "  #   tweet = re.sub(r\"22PM\", \"22 PM\", tweet)\n",
        "  #   tweet = re.sub(r\"54am\", \"54 AM\", tweet)\n",
        "  #   tweet = re.sub(r\"38am\", \"38 AM\", tweet)\n",
        "  #   tweet = re.sub(r\"OldFolkExplainStuff\", \"Old Folk Explain Stuff\", tweet)\n",
        "  #   tweet = re.sub(r\"BlacklivesMatter\", \"Black Lives Matter\", tweet)\n",
        "  #   tweet = re.sub(r\"InsaneLimits\", \"Insane Limits\", tweet)\n",
        "  #   tweet = re.sub(r\"youcantsitwithus\", \"you cannot sit with us\", tweet)\n",
        "  #   tweet = re.sub(r\"2k15\", \"2015\", tweet)\n",
        "  #   tweet = re.sub(r\"TheIran\", \"Iran\", tweet)\n",
        "  #   tweet = re.sub(r\"JimmyFallon\", \"Jimmy Fallon\", tweet)\n",
        "  #   tweet = re.sub(r\"AlbertBrooks\", \"Albert Brooks\", tweet)\n",
        "  #   tweet = re.sub(r\"defense_news\", \"defense news\", tweet)\n",
        "  #   tweet = re.sub(r\"nuclearrcSA\", \"Nuclear Risk Control Self Assessment\", tweet)\n",
        "  #   tweet = re.sub(r\"Auspol\", \"Australia Politics\", tweet)\n",
        "  #   tweet = re.sub(r\"NuclearPower\", \"Nuclear Power\", tweet)\n",
        "  #   tweet = re.sub(r\"WhiteTerrorism\", \"White Terrorism\", tweet)\n",
        "  #   tweet = re.sub(r\"truthfrequencyradio\", \"Truth Frequency Radio\", tweet)\n",
        "  #   tweet = re.sub(r\"ErasureIsNotEquality\", \"Erasure is not equality\", tweet)\n",
        "  #   tweet = re.sub(r\"ProBonoNews\", \"Pro Bono News\", tweet)\n",
        "  #   tweet = re.sub(r\"JakartaPost\", \"Jakarta Post\", tweet)\n",
        "  #   tweet = re.sub(r\"toopainful\", \"too painful\", tweet)\n",
        "  #   tweet = re.sub(r\"melindahaunton\", \"Melinda Haunton\", tweet)\n",
        "  #   tweet = re.sub(r\"NoNukes\", \"No Nukes\", tweet)\n",
        "  #   tweet = re.sub(r\"curryspcworld\", \"Currys PC World\", tweet)\n",
        "  #   tweet = re.sub(r\"ineedcake\", \"I need cake\", tweet)\n",
        "  #   tweet = re.sub(r\"blackforestgateau\", \"black forest gateau\", tweet)\n",
        "  #   tweet = re.sub(r\"BBCOne\", \"BBC One\", tweet)\n",
        "  #   tweet = re.sub(r\"AlexxPage\", \"Alex Page\", tweet)\n",
        "  #   tweet = re.sub(r\"jonathanserrie\", \"Jonathan Serrie\", tweet)\n",
        "  #   tweet = re.sub(r\"SocialJerkBlog\", \"Social Jerk Blog\", tweet)\n",
        "  #   tweet = re.sub(r\"ChelseaVPeretti\", \"Chelsea Peretti\", tweet)\n",
        "  #   tweet = re.sub(r\"irongiant\", \"iron giant\", tweet)\n",
        "  #   tweet = re.sub(r\"RonFunches\", \"Ron Funches\", tweet)\n",
        "  #   tweet = re.sub(r\"TimCook\", \"Tim Cook\", tweet)\n",
        "  #   tweet = re.sub(r\"sebastianstanisaliveandwell\", \"Sebastian Stan is alive and well\", tweet)\n",
        "  #   tweet = re.sub(r\"Madsummer\", \"Mad summer\", tweet)\n",
        "  #   tweet = re.sub(r\"NowYouKnow\", \"Now you know\", tweet)\n",
        "  #   tweet = re.sub(r\"concertphotography\", \"concert photography\", tweet)\n",
        "  #   tweet = re.sub(r\"TomLandry\", \"Tom Landry\", tweet)\n",
        "  #   tweet = re.sub(r\"showgirldayoff\", \"show girl day off\", tweet)\n",
        "  #   tweet = re.sub(r\"Yougslavia\", \"Yugoslavia\", tweet)\n",
        "  #   tweet = re.sub(r\"QuantumDataInformatics\", \"Quantum Data Informatics\", tweet)\n",
        "  #   tweet = re.sub(r\"FromTheDesk\", \"From The Desk\", tweet)\n",
        "  #   tweet = re.sub(r\"TheaterTrial\", \"Theater Trial\", tweet)\n",
        "  #   tweet = re.sub(r\"CatoInstitute\", \"Cato Institute\", tweet)\n",
        "  #   tweet = re.sub(r\"EmekaGift\", \"Emeka Gift\", tweet)\n",
        "  #   tweet = re.sub(r\"LetsBe_Rational\", \"Let us be rational\", tweet)\n",
        "  #   tweet = re.sub(r\"Cynicalreality\", \"Cynical reality\", tweet)\n",
        "  #   tweet = re.sub(r\"FredOlsenCruise\", \"Fred Olsen Cruise\", tweet)\n",
        "  #   tweet = re.sub(r\"NotSorry\", \"not sorry\", tweet)\n",
        "  #   tweet = re.sub(r\"UseYourWords\", \"use your words\", tweet)\n",
        "  #   tweet = re.sub(r\"WordoftheDay\", \"word of the day\", tweet)\n",
        "  #   tweet = re.sub(r\"Dictionarycom\", \"Dictionary.com\", tweet)\n",
        "  #   tweet = re.sub(r\"TheBrooklynLife\", \"The Brooklyn Life\", tweet)\n",
        "  #   tweet = re.sub(r\"jokethey\", \"joke they\", tweet)\n",
        "  #   tweet = re.sub(r\"nflweek1picks\", \"NFL week 1 picks\", tweet)\n",
        "  #   tweet = re.sub(r\"uiseful\", \"useful\", tweet)\n",
        "  #   tweet = re.sub(r\"JusticeDotOrg\", \"The American Association for Justice\", tweet)\n",
        "  #   tweet = re.sub(r\"autoaccidents\", \"auto accidents\", tweet)\n",
        "  #   tweet = re.sub(r\"SteveGursten\", \"Steve Gursten\", tweet)\n",
        "  #   tweet = re.sub(r\"MichiganAutoLaw\", \"Michigan Auto Law\", tweet)\n",
        "  #   tweet = re.sub(r\"birdgang\", \"bird gang\", tweet)\n",
        "  #   tweet = re.sub(r\"nflnetwork\", \"NFL Network\", tweet)\n",
        "  #   tweet = re.sub(r\"NYDNSports\", \"NY Daily News Sports\", tweet)\n",
        "  #   tweet = re.sub(r\"RVacchianoNYDN\", \"Ralph Vacchiano NY Daily News\", tweet)\n",
        "  #   tweet = re.sub(r\"EdmontonEsks\", \"Edmonton Eskimos\", tweet)\n",
        "  #   tweet = re.sub(r\"david_brelsford\", \"David Brelsford\", tweet)\n",
        "  #   tweet = re.sub(r\"TOI_India\", \"The Times of India\", tweet)\n",
        "  #   tweet = re.sub(r\"hegot\", \"he got\", tweet)\n",
        "  #   tweet = re.sub(r\"SkinsOn9\", \"Skins on 9\", tweet)\n",
        "  #   tweet = re.sub(r\"sothathappened\", \"so that happened\", tweet)\n",
        "  #   tweet = re.sub(r\"LCOutOfDoors\", \"LC Out Of Doors\", tweet)\n",
        "  #   tweet = re.sub(r\"NationFirst\", \"Nation First\", tweet)\n",
        "  #   tweet = re.sub(r\"IndiaToday\", \"India Today\", tweet)\n",
        "  #   tweet = re.sub(r\"HLPS\", \"helps\", tweet)\n",
        "  #   tweet = re.sub(r\"HOSTAGESTHROSW\", \"hostages throw\", tweet)\n",
        "  #   tweet = re.sub(r\"SNCTIONS\", \"sanctions\", tweet)\n",
        "  #   tweet = re.sub(r\"BidTime\", \"Bid Time\", tweet)\n",
        "  #   tweet = re.sub(r\"crunchysensible\", \"crunchy sensible\", tweet)\n",
        "  #   tweet = re.sub(r\"RandomActsOfRomance\", \"Random acts of romance\", tweet)\n",
        "  #   tweet = re.sub(r\"MomentsAtHill\", \"Moments at hill\", tweet)\n",
        "  #   tweet = re.sub(r\"eatshit\", \"eat shit\", tweet)\n",
        "  #   tweet = re.sub(r\"liveleakfun\", \"live leak fun\", tweet)\n",
        "  #   tweet = re.sub(r\"SahelNews\", \"Sahel News\", tweet)\n",
        "  #   tweet = re.sub(r\"abc7newsbayarea\", \"ABC 7 News Bay Area\", tweet)\n",
        "  #   tweet = re.sub(r\"facilitiesmanagement\", \"facilities management\", tweet)\n",
        "  #   tweet = re.sub(r\"facilitydude\", \"facility dude\", tweet)\n",
        "  #   tweet = re.sub(r\"CampLogistics\", \"Camp logistics\", tweet)\n",
        "  #   tweet = re.sub(r\"alaskapublic\", \"Alaska public\", tweet)\n",
        "  #   tweet = re.sub(r\"MarketResearch\", \"Market Research\", tweet)\n",
        "  #   tweet = re.sub(r\"AccuracyEsports\", \"Accuracy Esports\", tweet)\n",
        "  #   tweet = re.sub(r\"TheBodyShopAust\", \"The Body Shop Australia\", tweet)\n",
        "  #   tweet = re.sub(r\"yychail\", \"Calgary hail\", tweet)\n",
        "  #   tweet = re.sub(r\"yyctraffic\", \"Calgary traffic\", tweet)\n",
        "  #   tweet = re.sub(r\"eliotschool\", \"eliot school\", tweet)\n",
        "  #   tweet = re.sub(r\"TheBrokenCity\", \"The Broken City\", tweet)\n",
        "  #   tweet = re.sub(r\"OldsFireDept\", \"Olds Fire Department\", tweet)\n",
        "  #   tweet = re.sub(r\"RiverComplex\", \"River Complex\", tweet)\n",
        "  #   tweet = re.sub(r\"fieldworksmells\", \"field work smells\", tweet)\n",
        "  #   tweet = re.sub(r\"IranElection\", \"Iran Election\", tweet)\n",
        "  #   tweet = re.sub(r\"glowng\", \"glowing\", tweet)\n",
        "  #   tweet = re.sub(r\"kindlng\", \"kindling\", tweet)\n",
        "  #   tweet = re.sub(r\"riggd\", \"rigged\", tweet)\n",
        "  #   tweet = re.sub(r\"slownewsday\", \"slow news day\", tweet)\n",
        "  #   tweet = re.sub(r\"MyanmarFlood\", \"Myanmar Flood\", tweet)\n",
        "  #   tweet = re.sub(r\"abc7chicago\", \"ABC 7 Chicago\", tweet)\n",
        "  #   tweet = re.sub(r\"copolitics\", \"Colorado Politics\", tweet)\n",
        "  #   tweet = re.sub(r\"AdilGhumro\", \"Adil Ghumro\", tweet)\n",
        "  #   tweet = re.sub(r\"netbots\", \"net bots\", tweet)\n",
        "  #   tweet = re.sub(r\"byebyeroad\", \"bye bye road\", tweet)\n",
        "  #   tweet = re.sub(r\"massiveflooding\", \"massive flooding\", tweet)\n",
        "  #   tweet = re.sub(r\"EndofUS\", \"End of United States\", tweet)\n",
        "  #   tweet = re.sub(r\"35PM\", \"35 PM\", tweet)\n",
        "  #   tweet = re.sub(r\"greektheatrela\", \"Greek Theatre Los Angeles\", tweet)\n",
        "  #   tweet = re.sub(r\"76mins\", \"76 minutes\", tweet)\n",
        "  #   tweet = re.sub(r\"publicsafetyfirst\", \"public safety first\", tweet)\n",
        "  #   tweet = re.sub(r\"livesmatter\", \"lives matter\", tweet)\n",
        "  #   tweet = re.sub(r\"myhometown\", \"my hometown\", tweet)\n",
        "  #   tweet = re.sub(r\"tankerfire\", \"tanker fire\", tweet)\n",
        "  #   tweet = re.sub(r\"MEMORIALDAY\", \"memorial day\", tweet)\n",
        "  #   tweet = re.sub(r\"MEMORIAL_DAY\", \"memorial day\", tweet)\n",
        "  #   tweet = re.sub(r\"instaxbooty\", \"instagram booty\", tweet)\n",
        "  #   tweet = re.sub(r\"Jerusalem_Post\", \"Jerusalem Post\", tweet)\n",
        "  #   tweet = re.sub(r\"WayneRooney_INA\", \"Wayne Rooney\", tweet)\n",
        "  #   tweet = re.sub(r\"VirtualReality\", \"Virtual Reality\", tweet)\n",
        "  #   tweet = re.sub(r\"OculusRift\", \"Oculus Rift\", tweet)\n",
        "  #   tweet = re.sub(r\"OwenJones84\", \"Owen Jones\", tweet)\n",
        "  #   tweet = re.sub(r\"jeremycorbyn\", \"Jeremy Corbyn\", tweet)\n",
        "  #   tweet = re.sub(r\"paulrogers002\", \"Paul Rogers\", tweet)\n",
        "  #   tweet = re.sub(r\"mortalkombatx\", \"Mortal Kombat X\", tweet)\n",
        "  #   tweet = re.sub(r\"mortalkombat\", \"Mortal Kombat\", tweet)\n",
        "  #   tweet = re.sub(r\"FilipeCoelho92\", \"Filipe Coelho\", tweet)\n",
        "  #   tweet = re.sub(r\"OnlyQuakeNews\", \"Only Quake News\", tweet)\n",
        "  #   tweet = re.sub(r\"kostumes\", \"costumes\", tweet)\n",
        "  #   tweet = re.sub(r\"YEEESSSS\", \"yes\", tweet)\n",
        "  #   tweet = re.sub(r\"ToshikazuKatayama\", \"Toshikazu Katayama\", tweet)\n",
        "  #   tweet = re.sub(r\"IntlDevelopment\", \"Intl Development\", tweet)\n",
        "  #   tweet = re.sub(r\"ExtremeWeather\", \"Extreme Weather\", tweet)\n",
        "  #   tweet = re.sub(r\"WereNotGruberVoters\", \"We are not gruber voters\", tweet)\n",
        "  #   tweet = re.sub(r\"NewsThousands\", \"News Thousands\", tweet)\n",
        "  #   tweet = re.sub(r\"EdmundAdamus\", \"Edmund Adamus\", tweet)\n",
        "  #   tweet = re.sub(r\"EyewitnessWV\", \"Eye witness WV\", tweet)\n",
        "  #   tweet = re.sub(r\"PhiladelphiaMuseu\", \"Philadelphia Museum\", tweet)\n",
        "  #   tweet = re.sub(r\"DublinComicCon\", \"Dublin Comic Con\", tweet)\n",
        "  #   tweet = re.sub(r\"NicholasBrendon\", \"Nicholas Brendon\", tweet)\n",
        "  #   tweet = re.sub(r\"Alltheway80s\", \"All the way 80s\", tweet)\n",
        "  #   tweet = re.sub(r\"FromTheField\", \"From the field\", tweet)\n",
        "  #   tweet = re.sub(r\"NorthIowa\", \"North Iowa\", tweet)\n",
        "  #   tweet = re.sub(r\"WillowFire\", \"Willow Fire\", tweet)\n",
        "  #   tweet = re.sub(r\"MadRiverComplex\", \"Mad River Complex\", tweet)\n",
        "  #   tweet = re.sub(r\"feelingmanly\", \"feeling manly\", tweet)\n",
        "  #   tweet = re.sub(r\"stillnotoverit\", \"still not over it\", tweet)\n",
        "  #   tweet = re.sub(r\"FortitudeValley\", \"Fortitude Valley\", tweet)\n",
        "  #   tweet = re.sub(r\"CoastpowerlineTramTr\", \"Coast powerline\", tweet)\n",
        "  #   tweet = re.sub(r\"ServicesGold\", \"Services Gold\", tweet)\n",
        "  #   tweet = re.sub(r\"NewsbrokenEmergency\", \"News broken emergency\", tweet)\n",
        "  #   tweet = re.sub(r\"Evaucation\", \"evacuation\", tweet)\n",
        "  #   tweet = re.sub(r\"leaveevacuateexitbe\", \"leave evacuate exit be\", tweet)\n",
        "  #   tweet = re.sub(r\"P_EOPLE\", \"PEOPLE\", tweet)\n",
        "  #   tweet = re.sub(r\"Tubestrike\", \"tube strike\", tweet)\n",
        "  #   tweet = re.sub(r\"CLASS_SICK\", \"CLASS SICK\", tweet)\n",
        "  #   tweet = re.sub(r\"localplumber\", \"local plumber\", tweet)\n",
        "  #   tweet = re.sub(r\"awesomejobsiri\", \"awesome job siri\", tweet)\n",
        "  #   tweet = re.sub(r\"PayForItHow\", \"Pay for it how\", tweet)\n",
        "  #   tweet = re.sub(r\"ThisIsAfrica\", \"This is Africa\", tweet)\n",
        "  #   tweet = re.sub(r\"crimeairnetwork\", \"crime air network\", tweet)\n",
        "  #   tweet = re.sub(r\"KimAcheson\", \"Kim Acheson\", tweet)\n",
        "  #   tweet = re.sub(r\"cityofcalgary\", \"City of Calgary\", tweet)\n",
        "  #   tweet = re.sub(r\"prosyndicate\", \"pro syndicate\", tweet)\n",
        "  #   tweet = re.sub(r\"660NEWS\", \"660 NEWS\", tweet)\n",
        "  #   tweet = re.sub(r\"BusInsMagazine\", \"Business Insurance Magazine\", tweet)\n",
        "  #   tweet = re.sub(r\"wfocus\", \"focus\", tweet)\n",
        "  #   tweet = re.sub(r\"ShastaDam\", \"Shasta Dam\", tweet)\n",
        "  #   tweet = re.sub(r\"go2MarkFranco\", \"Mark Franco\", tweet)\n",
        "  #   tweet = re.sub(r\"StephGHinojosa\", \"Steph Hinojosa\", tweet)\n",
        "  #   tweet = re.sub(r\"Nashgrier\", \"Nash Grier\", tweet)\n",
        "  #   tweet = re.sub(r\"NashNewVideo\", \"Nash new video\", tweet)\n",
        "  #   tweet = re.sub(r\"IWouldntGetElectedBecause\", \"I would not get elected because\", tweet)\n",
        "  #   tweet = re.sub(r\"SHGames\", \"Sledgehammer Games\", tweet)\n",
        "  #   tweet = re.sub(r\"bedhair\", \"bed hair\", tweet)\n",
        "  #   tweet = re.sub(r\"JoelHeyman\", \"Joel Heyman\", tweet)\n",
        "  #   tweet = re.sub(r\"viaYouTube\", \"via YouTube\", tweet)\n",
        "           \n",
        "    # Urls\n",
        "    tweet = re.sub(r\"https?:\\/\\/t.co\\/[A-Za-z0-9]+\", \"\", tweet)\n",
        "        \n",
        "    # Words with punctuations and special characters\n",
        "    punctuations = '@#!?+&*[]-%.:/();$=><|{}^' + \"'`\"\n",
        "    for p in punctuations:\n",
        "        tweet = tweet.replace(p, f' {p} ')\n",
        "        \n",
        "    # ... and ..\n",
        "    tweet = tweet.replace('...', ' ... ')\n",
        "    if '...' not in tweet:\n",
        "        tweet = tweet.replace('..', ' ... ')      \n",
        "        \n",
        "    # # Acronyms\n",
        "    # tweet = re.sub(r\"MH370\", \"Malaysia Airlines Flight 370\", tweet)\n",
        "    # tweet = re.sub(r\"mÌ¼sica\", \"music\", tweet)\n",
        "    # tweet = re.sub(r\"okwx\", \"Oklahoma City Weather\", tweet)\n",
        "    # tweet = re.sub(r\"arwx\", \"Arkansas Weather\", tweet)    \n",
        "    # tweet = re.sub(r\"gawx\", \"Georgia Weather\", tweet)  \n",
        "    # tweet = re.sub(r\"scwx\", \"South Carolina Weather\", tweet)  \n",
        "    # tweet = re.sub(r\"cawx\", \"California Weather\", tweet)\n",
        "    # tweet = re.sub(r\"tnwx\", \"Tennessee Weather\", tweet)\n",
        "    # tweet = re.sub(r\"azwx\", \"Arizona Weather\", tweet)  \n",
        "    # tweet = re.sub(r\"alwx\", \"Alabama Weather\", tweet)\n",
        "    # tweet = re.sub(r\"wordpressdotcom\", \"wordpress\", tweet)    \n",
        "    # tweet = re.sub(r\"usNWSgov\", \"United States National Weather Service\", tweet)\n",
        "    # tweet = re.sub(r\"Suruc\", \"Sanliurfa\", tweet)   \n",
        "    \n",
        "    # Grouping same words without embeddings\n",
        "    tweet = re.sub(r\"Bestnaijamade\", \"bestnaijamade\", tweet)\n",
        "    tweet = re.sub(r\"SOUDELOR\", \"Soudelor\", tweet)\n",
        "\n",
        "    tweet = re.sub(r'https?://\\S+|www\\.\\S+',r'',tweet)\n",
        "    tweet = re.sub(r'<.*?>',r'',tweet)\n",
        "    tweet = re.sub(\"[\"\n",
        "                    u\"\\U0001F600-\\U0001F64F\"  # emoticons\n",
        "                    u\"\\U0001F300-\\U0001F5FF\"  # symbols & pictographs\n",
        "                    u\"\\U0001F680-\\U0001F6FF\"  # transport & map symbols\n",
        "                    u\"\\U0001F1E0-\\U0001F1FF\"  # flags (iOS)\n",
        "                    u\"\\U00002702-\\U000027B0\"\n",
        "                    u\"\\U000024C2-\\U0001F251\"\n",
        "                    \"]+\",r'', tweet, flags=re.UNICODE)\n",
        "    table=str.maketrans('','',string.punctuation)\n",
        "    return tweet.translate(table).lower()"
      ],
      "execution_count": null,
      "outputs": []
    },
    {
      "cell_type": "code",
      "metadata": {
        "id": "B-H3tXT54cbp"
      },
      "source": [
        "data['clean_text'] = data['text'].apply(lambda x: clean(x))"
      ],
      "execution_count": null,
      "outputs": []
    },
    {
      "cell_type": "code",
      "metadata": {
        "id": "qa2JwSpUZacu",
        "colab": {
          "base_uri": "https://localhost:8080/",
          "height": 543
        },
        "outputId": "ce05bff3-b443-456d-f048-7138d3711dfa"
      },
      "source": [
        "import regex as re\n",
        "import nltk\n",
        "from nltk.tokenize import word_tokenize\n",
        "from nltk import pos_tag\n",
        "from nltk.corpus import stopwords\n",
        "from nltk.stem import WordNetLemmatizer\n",
        "from nltk.corpus import wordnet as wn\n",
        "nltk.download('punkt')\n",
        "nltk.download('averaged_perceptron_tagger')\n",
        "nltk.download('wordnet')\n",
        "nltk.download('stopwords')\n",
        "import regex as re\n",
        "\n",
        "# Data Pre-processing - This will help in getting better results.\n",
        "data['clean_text'] = [re.sub(r'/&lt;br&gt;/', '', entry) for entry in data['clean_text']]\n",
        "data['clean_text'] = [re.sub(r'-', ' ', entry) for entry in data['clean_text']]\n",
        "# Remove blank rows if any.\n",
        "data['clean_text'].dropna(inplace=True)\n",
        "\n",
        "# Change all the text_cleaned to lower case. This is required as python interprets 'dog' and 'DOG' differently\n",
        "data['clean_text'] = [entry.lower() for entry in data['clean_text']]\n",
        "\n",
        "# Remove URLs\n",
        "data['clean_text'] = [re.sub(r'((www\\.[^\\s]+)|(https?://[^\\s]+)|(http?://[^\\s]+))', '', entry) for entry in data['clean_text']]\n",
        "data['clean_text'] = [re.sub(r'http\\S+', '', entry) for entry in data['clean_text']]\n",
        "\n",
        "#Remove Stop words\n",
        "# # Remove regular english words like am, is, are and ...\n",
        "# stop = stopwords.words('english')\n",
        "# pat = r'\\b(?:{})\\b'.format('|'.join(stop))\n",
        "# data['clean_text'] = data['clean_text'].str.replace(pat, '')\n",
        "# data['clean_text'] = data['clean_text'].str.replace(r'\\s+', ' ')\n",
        "\n",
        "#Remove non alphanumeric characters and combination of alphabet and numbers-(Example- gyj132)\n",
        "data['clean_text'] = [re.sub(r'[^a-zA-Z0-9 .]', '', entry) for entry in data['clean_text']]\n",
        "\n",
        "data['clean_text'] = [re.sub(r'\\w*[0-9]\\w*', '', entry) for entry in data['clean_text']]\n",
        "\n",
        "#Remove single alpha\n",
        "data['clean_text'] = [re.sub(r'(^| ).( |$)', '', entry) for entry in data['clean_text']]\n",
        "\n",
        "data"
      ],
      "execution_count": null,
      "outputs": [
        {
          "output_type": "stream",
          "text": [
            "[nltk_data] Downloading package punkt to /root/nltk_data...\n",
            "[nltk_data]   Unzipping tokenizers/punkt.zip.\n",
            "[nltk_data] Downloading package averaged_perceptron_tagger to\n",
            "[nltk_data]     /root/nltk_data...\n",
            "[nltk_data]   Unzipping taggers/averaged_perceptron_tagger.zip.\n",
            "[nltk_data] Downloading package wordnet to /root/nltk_data...\n",
            "[nltk_data]   Unzipping corpora/wordnet.zip.\n",
            "[nltk_data] Downloading package stopwords to /root/nltk_data...\n",
            "[nltk_data]   Unzipping corpora/stopwords.zip.\n"
          ],
          "name": "stdout"
        },
        {
          "output_type": "execute_result",
          "data": {
            "text/html": [
              "<div>\n",
              "<style scoped>\n",
              "    .dataframe tbody tr th:only-of-type {\n",
              "        vertical-align: middle;\n",
              "    }\n",
              "\n",
              "    .dataframe tbody tr th {\n",
              "        vertical-align: top;\n",
              "    }\n",
              "\n",
              "    .dataframe thead th {\n",
              "        text-align: right;\n",
              "    }\n",
              "</style>\n",
              "<table border=\"1\" class=\"dataframe\">\n",
              "  <thead>\n",
              "    <tr style=\"text-align: right;\">\n",
              "      <th></th>\n",
              "      <th>ID</th>\n",
              "      <th>Primary</th>\n",
              "      <th>text</th>\n",
              "      <th>Unnamed: 3</th>\n",
              "      <th>clean_text</th>\n",
              "    </tr>\n",
              "  </thead>\n",
              "  <tbody>\n",
              "    <tr>\n",
              "      <th>0</th>\n",
              "      <td>2.024274e+08</td>\n",
              "      <td>0</td>\n",
              "      <td>Many people have different idea #3DPrinting du...</td>\n",
              "      <td>NaN</td>\n",
              "      <td>many people have different idea during times o...</td>\n",
              "    </tr>\n",
              "    <tr>\n",
              "      <th>1</th>\n",
              "      <td>2.032557e+08</td>\n",
              "      <td>0</td>\n",
              "      <td>Enniente...\\nA me \\u2018sto #coronavirus fa an...</td>\n",
              "      <td>NaN</td>\n",
              "      <td>ennientena me coronavirus fa ancora paura nqui...</td>\n",
              "    </tr>\n",
              "    <tr>\n",
              "      <th>2</th>\n",
              "      <td>2.160349e+08</td>\n",
              "      <td>0</td>\n",
              "      <td>People, there are gonna be more of these fiasc...</td>\n",
              "      <td>NaN</td>\n",
              "      <td>people there are gonna be more of these fiasco...</td>\n",
              "    </tr>\n",
              "    <tr>\n",
              "      <th>3</th>\n",
              "      <td>2.603767e+08</td>\n",
              "      <td>0</td>\n",
              "      <td>Guidelines for your journey. \\nhttps://t.co/1F...</td>\n",
              "      <td>NaN</td>\n",
              "      <td>guidelines for your journeyn coronavirustransp...</td>\n",
              "    </tr>\n",
              "    <tr>\n",
              "      <th>4</th>\n",
              "      <td>2.780104e+08</td>\n",
              "      <td>0</td>\n",
              "      <td>If only these poor people in #Tulsa understood...</td>\n",
              "      <td>NaN</td>\n",
              "      <td>if only these poor people intulsa understood t...</td>\n",
              "    </tr>\n",
              "    <tr>\n",
              "      <th>...</th>\n",
              "      <td>...</td>\n",
              "      <td>...</td>\n",
              "      <td>...</td>\n",
              "      <td>...</td>\n",
              "      <td>...</td>\n",
              "    </tr>\n",
              "    <tr>\n",
              "      <th>1995</th>\n",
              "      <td>1.224120e+18</td>\n",
              "      <td>1</td>\n",
              "      <td>@cnnbrk 2019 novel coronavirus, the biological...</td>\n",
              "      <td>NaN</td>\n",
              "      <td>cnn breaking news  novel coronavirus the biolo...</td>\n",
              "    </tr>\n",
              "    <tr>\n",
              "      <th>1996</th>\n",
              "      <td>1.223800e+18</td>\n",
              "      <td>1</td>\n",
              "      <td>RT @flyer4life: Robert Steele: China Coronavir...</td>\n",
              "      <td>NaN</td>\n",
              "      <td>rtrobert steelechina coronavirusupdatebiowar b...</td>\n",
              "    </tr>\n",
              "    <tr>\n",
              "      <th>1997</th>\n",
              "      <td>1.223940e+18</td>\n",
              "      <td>1</td>\n",
              "      <td>Siri, Wuhan is home to China's first 5G instal...</td>\n",
              "      <td>NaN</td>\n",
              "      <td>siri wuhan is home to china first  installatio...</td>\n",
              "    </tr>\n",
              "    <tr>\n",
              "      <th>1998</th>\n",
              "      <td>1.223760e+18</td>\n",
              "      <td>1</td>\n",
              "      <td>@smashleyhamer So what I hear you say is that ...</td>\n",
              "      <td>NaN</td>\n",
              "      <td>smashleyhamer so whathear you say is that rese...</td>\n",
              "    </tr>\n",
              "    <tr>\n",
              "      <th>1999</th>\n",
              "      <td>1.223760e+18</td>\n",
              "      <td>1</td>\n",
              "      <td>RT @jespet71: Wuhan in China was the province ...</td>\n",
              "      <td>NaN</td>\n",
              "      <td>rtwuhan in china was the province where  was r...</td>\n",
              "    </tr>\n",
              "  </tbody>\n",
              "</table>\n",
              "<p>2000 rows × 5 columns</p>\n",
              "</div>"
            ],
            "text/plain": [
              "                ID  ...                                         clean_text\n",
              "0     2.024274e+08  ...  many people have different idea during times o...\n",
              "1     2.032557e+08  ...  ennientena me coronavirus fa ancora paura nqui...\n",
              "2     2.160349e+08  ...  people there are gonna be more of these fiasco...\n",
              "3     2.603767e+08  ...  guidelines for your journeyn coronavirustransp...\n",
              "4     2.780104e+08  ...  if only these poor people intulsa understood t...\n",
              "...            ...  ...                                                ...\n",
              "1995  1.224120e+18  ...  cnn breaking news  novel coronavirus the biolo...\n",
              "1996  1.223800e+18  ...  rtrobert steelechina coronavirusupdatebiowar b...\n",
              "1997  1.223940e+18  ...  siri wuhan is home to china first  installatio...\n",
              "1998  1.223760e+18  ...  smashleyhamer so whathear you say is that rese...\n",
              "1999  1.223760e+18  ...  rtwuhan in china was the province where  was r...\n",
              "\n",
              "[2000 rows x 5 columns]"
            ]
          },
          "metadata": {
            "tags": []
          },
          "execution_count": 68
        }
      ]
    },
    {
      "cell_type": "code",
      "metadata": {
        "id": "IJZkZWhamMXP",
        "colab": {
          "base_uri": "https://localhost:8080/",
          "height": 392
        },
        "outputId": "94106476-a21a-49bf-f41f-46846ec56f30"
      },
      "source": [
        "data"
      ],
      "execution_count": null,
      "outputs": [
        {
          "output_type": "execute_result",
          "data": {
            "text/html": [
              "<div>\n",
              "<style scoped>\n",
              "    .dataframe tbody tr th:only-of-type {\n",
              "        vertical-align: middle;\n",
              "    }\n",
              "\n",
              "    .dataframe tbody tr th {\n",
              "        vertical-align: top;\n",
              "    }\n",
              "\n",
              "    .dataframe thead th {\n",
              "        text-align: right;\n",
              "    }\n",
              "</style>\n",
              "<table border=\"1\" class=\"dataframe\">\n",
              "  <thead>\n",
              "    <tr style=\"text-align: right;\">\n",
              "      <th></th>\n",
              "      <th>ID</th>\n",
              "      <th>Primary</th>\n",
              "      <th>text</th>\n",
              "      <th>Unnamed: 3</th>\n",
              "      <th>clean_text</th>\n",
              "    </tr>\n",
              "  </thead>\n",
              "  <tbody>\n",
              "    <tr>\n",
              "      <th>0</th>\n",
              "      <td>2.024274e+08</td>\n",
              "      <td>0</td>\n",
              "      <td>Many people have different idea #3DPrinting du...</td>\n",
              "      <td>NaN</td>\n",
              "      <td>many people have different idea   3dprinting d...</td>\n",
              "    </tr>\n",
              "    <tr>\n",
              "      <th>1</th>\n",
              "      <td>2.032557e+08</td>\n",
              "      <td>0</td>\n",
              "      <td>Enniente...\\nA me \\u2018sto #coronavirus fa an...</td>\n",
              "      <td>NaN</td>\n",
              "      <td>enniente      na me u2018sto   coronavirus fa ...</td>\n",
              "    </tr>\n",
              "    <tr>\n",
              "      <th>2</th>\n",
              "      <td>2.160349e+08</td>\n",
              "      <td>0</td>\n",
              "      <td>People, there are gonna be more of these fiasc...</td>\n",
              "      <td>NaN</td>\n",
              "      <td>people there are gonna be more of these fiasco...</td>\n",
              "    </tr>\n",
              "    <tr>\n",
              "      <th>3</th>\n",
              "      <td>2.603767e+08</td>\n",
              "      <td>0</td>\n",
              "      <td>Guidelines for your journey. \\nhttps://t.co/1F...</td>\n",
              "      <td>NaN</td>\n",
              "      <td>guidelines for your journey   n n  coronavirus...</td>\n",
              "    </tr>\n",
              "    <tr>\n",
              "      <th>4</th>\n",
              "      <td>2.780104e+08</td>\n",
              "      <td>0</td>\n",
              "      <td>If only these poor people in #Tulsa understood...</td>\n",
              "      <td>NaN</td>\n",
              "      <td>if only these poor people in   tulsa understoo...</td>\n",
              "    </tr>\n",
              "    <tr>\n",
              "      <th>...</th>\n",
              "      <td>...</td>\n",
              "      <td>...</td>\n",
              "      <td>...</td>\n",
              "      <td>...</td>\n",
              "      <td>...</td>\n",
              "    </tr>\n",
              "    <tr>\n",
              "      <th>1995</th>\n",
              "      <td>1.224120e+18</td>\n",
              "      <td>1</td>\n",
              "      <td>@cnnbrk 2019 novel coronavirus, the biological...</td>\n",
              "      <td>NaN</td>\n",
              "      <td>cnn breaking news 2019 novel coronavirus the...</td>\n",
              "    </tr>\n",
              "    <tr>\n",
              "      <th>1996</th>\n",
              "      <td>1.223800e+18</td>\n",
              "      <td>1</td>\n",
              "      <td>RT @flyer4life: Robert Steele: China Coronavir...</td>\n",
              "      <td>NaN</td>\n",
              "      <td>rt   flyer4life   robert steele   china corona...</td>\n",
              "    </tr>\n",
              "    <tr>\n",
              "      <th>1997</th>\n",
              "      <td>1.223940e+18</td>\n",
              "      <td>1</td>\n",
              "      <td>Siri, Wuhan is home to China's first 5G instal...</td>\n",
              "      <td>NaN</td>\n",
              "      <td>siri wuhan is home to china  s first 5g instal...</td>\n",
              "    </tr>\n",
              "    <tr>\n",
              "      <th>1998</th>\n",
              "      <td>1.223760e+18</td>\n",
              "      <td>1</td>\n",
              "      <td>@smashleyhamer So what I hear you say is that ...</td>\n",
              "      <td>NaN</td>\n",
              "      <td>smashleyhamer so what i hear you say is that...</td>\n",
              "    </tr>\n",
              "    <tr>\n",
              "      <th>1999</th>\n",
              "      <td>1.223760e+18</td>\n",
              "      <td>1</td>\n",
              "      <td>RT @jespet71: Wuhan in China was the province ...</td>\n",
              "      <td>NaN</td>\n",
              "      <td>rt   jespet71   wuhan in china was the provinc...</td>\n",
              "    </tr>\n",
              "  </tbody>\n",
              "</table>\n",
              "<p>2000 rows × 5 columns</p>\n",
              "</div>"
            ],
            "text/plain": [
              "                ID  ...                                         clean_text\n",
              "0     2.024274e+08  ...  many people have different idea   3dprinting d...\n",
              "1     2.032557e+08  ...  enniente      na me u2018sto   coronavirus fa ...\n",
              "2     2.160349e+08  ...  people there are gonna be more of these fiasco...\n",
              "3     2.603767e+08  ...  guidelines for your journey   n n  coronavirus...\n",
              "4     2.780104e+08  ...  if only these poor people in   tulsa understoo...\n",
              "...            ...  ...                                                ...\n",
              "1995  1.224120e+18  ...    cnn breaking news 2019 novel coronavirus the...\n",
              "1996  1.223800e+18  ...  rt   flyer4life   robert steele   china corona...\n",
              "1997  1.223940e+18  ...  siri wuhan is home to china  s first 5g instal...\n",
              "1998  1.223760e+18  ...    smashleyhamer so what i hear you say is that...\n",
              "1999  1.223760e+18  ...  rt   jespet71   wuhan in china was the provinc...\n",
              "\n",
              "[2000 rows x 5 columns]"
            ]
          },
          "metadata": {
            "tags": []
          },
          "execution_count": 63
        }
      ]
    },
    {
      "cell_type": "code",
      "metadata": {
        "id": "akpRAwZXmOOQ"
      },
      "source": [
        "data.to_csv(\"/content/kath_tran_2.csv\")"
      ],
      "execution_count": null,
      "outputs": []
    },
    {
      "cell_type": "code",
      "metadata": {
        "id": "EEPA8-Fehb5L"
      },
      "source": [
        "from nltk.tokenize import word_tokenize\n",
        "from nltk import pos_tag\n",
        "from nltk.corpus import stopwords\n",
        "from nltk.stem import WordNetLemmatizer\n",
        "from sklearn.preprocessing import LabelEncoder\n",
        "from collections import defaultdict\n",
        "from nltk.corpus import wordnet as wn"
      ],
      "execution_count": null,
      "outputs": []
    },
    {
      "cell_type": "code",
      "metadata": {
        "id": "M67gp8kkhb1m"
      },
      "source": [
        "# Tokenization : In this each entry in the corpus will be broken into set of words\n",
        "data['clean_text']= [word_tokenize(entry) for entry in data['clean_text']]\n"
      ],
      "execution_count": null,
      "outputs": []
    },
    {
      "cell_type": "code",
      "metadata": {
        "id": "LRteUSethbzB"
      },
      "source": [
        "tag_map = defaultdict(lambda: wn.NOUN)\n",
        "tag_map['J'] = wn.ADJ\n",
        "tag_map['V'] = wn.VERB\n",
        "tag_map['R'] = wn.ADV"
      ],
      "execution_count": null,
      "outputs": []
    },
    {
      "cell_type": "code",
      "metadata": {
        "id": "gkWWKuFqhbw4"
      },
      "source": [
        "for index,entry in enumerate(data['clean_text']):\n",
        "    word_Lemmatized = WordNetLemmatizer()\n",
        "    Final_words = []\n",
        "    # pos_tag function below will provide the 'tag' i.e if the word is Noun(N) or Verb(V) or something else.\n",
        "    for word, tag in pos_tag(entry):\n",
        "      word_Final = word_Lemmatized.lemmatize(word, tag_map[tag[0]])\n",
        "      word_Final = word_Final.replace(\"..\", \"\")\n",
        "      word_Final = word_Final.replace(\"rt\", \"\")\n",
        "      Final_words.append(word_Final)\n",
        "    # The final processed set of words for each iteration will be stored in 'text_final'\n",
        "    text = \" \".join(Final_words)\n",
        "    data.loc[index, 'clean_text'] = str(text)\n",
        "    data['clean_text'].dropna(inplace=True)"
      ],
      "execution_count": null,
      "outputs": []
    },
    {
      "cell_type": "code",
      "metadata": {
        "id": "Hrs7agRVqypn"
      },
      "source": [
        "data.to_csv(\"/content/kath_cl_final.csv\")"
      ],
      "execution_count": null,
      "outputs": []
    },
    {
      "cell_type": "code",
      "metadata": {
        "id": "iBMHXbSkBsP5"
      },
      "source": [
        "import pandas as pd\n",
        "import numpy as np\n",
        "from tensorflow.keras.utils import to_categorical"
      ],
      "execution_count": null,
      "outputs": []
    },
    {
      "cell_type": "code",
      "metadata": {
        "id": "8jLSeOYmcivQ",
        "colab": {
          "base_uri": "https://localhost:8080/",
          "height": 190
        },
        "outputId": "357631a6-524f-4e07-c46b-e368213345c2"
      },
      "source": [
        "data.head()"
      ],
      "execution_count": null,
      "outputs": [
        {
          "output_type": "execute_result",
          "data": {
            "text/html": [
              "<div>\n",
              "<style scoped>\n",
              "    .dataframe tbody tr th:only-of-type {\n",
              "        vertical-align: middle;\n",
              "    }\n",
              "\n",
              "    .dataframe tbody tr th {\n",
              "        vertical-align: top;\n",
              "    }\n",
              "\n",
              "    .dataframe thead th {\n",
              "        text-align: right;\n",
              "    }\n",
              "</style>\n",
              "<table border=\"1\" class=\"dataframe\">\n",
              "  <thead>\n",
              "    <tr style=\"text-align: right;\">\n",
              "      <th></th>\n",
              "      <th>Unnamed: 0</th>\n",
              "      <th>ID</th>\n",
              "      <th>Primary</th>\n",
              "      <th>text</th>\n",
              "      <th>clean_text</th>\n",
              "    </tr>\n",
              "  </thead>\n",
              "  <tbody>\n",
              "    <tr>\n",
              "      <th>0</th>\n",
              "      <td>0</td>\n",
              "      <td>202427371.0</td>\n",
              "      <td>0</td>\n",
              "      <td>Many people have different idea #3DPrinting du...</td>\n",
              "      <td>many people different idea time coronavirus li...</td>\n",
              "    </tr>\n",
              "    <tr>\n",
              "      <th>1</th>\n",
              "      <td>1</td>\n",
              "      <td>203255669.0</td>\n",
              "      <td>0</td>\n",
              "      <td>Enniente...\\nA me \\u2018sto #coronavirus fa an...</td>\n",
              "      <td>enniente na coronavirus fa ancora paura nquind...</td>\n",
              "    </tr>\n",
              "    <tr>\n",
              "      <th>2</th>\n",
              "      <td>2</td>\n",
              "      <td>216034890.0</td>\n",
              "      <td>0</td>\n",
              "      <td>People, there are gonna be more of these fiasc...</td>\n",
              "      <td>people gon na fiascos coming month election un...</td>\n",
              "    </tr>\n",
              "    <tr>\n",
              "      <th>3</th>\n",
              "      <td>3</td>\n",
              "      <td>260376727.0</td>\n",
              "      <td>0</td>\n",
              "      <td>Guidelines for your journey. \\nhttps://t.co/1F...</td>\n",
              "      <td>guideline journeyn coronavirus transpo travel ...</td>\n",
              "    </tr>\n",
              "    <tr>\n",
              "      <th>4</th>\n",
              "      <td>4</td>\n",
              "      <td>278010380.0</td>\n",
              "      <td>0</td>\n",
              "      <td>If only these poor people in #Tulsa understood...</td>\n",
              "      <td>poor people tulsa understood danger coronaviru...</td>\n",
              "    </tr>\n",
              "  </tbody>\n",
              "</table>\n",
              "</div>"
            ],
            "text/plain": [
              "   Unnamed: 0  ...                                         clean_text\n",
              "0           0  ...  many people different idea time coronavirus li...\n",
              "1           1  ...  enniente na coronavirus fa ancora paura nquind...\n",
              "2           2  ...  people gon na fiascos coming month election un...\n",
              "3           3  ...  guideline journeyn coronavirus transpo travel ...\n",
              "4           4  ...  poor people tulsa understood danger coronaviru...\n",
              "\n",
              "[5 rows x 5 columns]"
            ]
          },
          "metadata": {
            "tags": []
          },
          "execution_count": 10
        }
      ]
    },
    {
      "cell_type": "code",
      "metadata": {
        "id": "L3jWQQEPETQm",
        "colab": {
          "base_uri": "https://localhost:8080/",
          "height": 100
        },
        "outputId": "41b13414-f8ef-4b54-f7ef-201bb18d242d"
      },
      "source": [
        "data['Primary'].value_counts()"
      ],
      "execution_count": null,
      "outputs": [
        {
          "output_type": "execute_result",
          "data": {
            "text/plain": [
              "0    768\n",
              "1    466\n",
              "2    464\n",
              "3    302\n",
              "Name: Primary, dtype: int64"
            ]
          },
          "metadata": {
            "tags": []
          },
          "execution_count": 12
        }
      ]
    },
    {
      "cell_type": "code",
      "metadata": {
        "id": "oC96K-_3EIS7",
        "colab": {
          "base_uri": "https://localhost:8080/",
          "height": 33
        },
        "outputId": "386414e6-dc16-4ce2-8d76-b6f57c6fe14e"
      },
      "source": [
        "from tqdm import tqdm\n",
        "l = []\n",
        "for text in tqdm(data['clean_text']):\n",
        "  text = str(text)\n",
        "  l = l + text.split()"
      ],
      "execution_count": null,
      "outputs": [
        {
          "output_type": "stream",
          "text": [
            "100%|██████████| 2000/2000 [00:00<00:00, 18343.93it/s]\n"
          ],
          "name": "stderr"
        }
      ]
    },
    {
      "cell_type": "code",
      "metadata": {
        "id": "i5AyxgpRJ7v1",
        "colab": {
          "base_uri": "https://localhost:8080/",
          "height": 33
        },
        "outputId": "4264221c-d429-4df5-9d22-70c040958147"
      },
      "source": [
        "len(list(set(l)))"
      ],
      "execution_count": null,
      "outputs": [
        {
          "output_type": "execute_result",
          "data": {
            "text/plain": [
              "6640"
            ]
          },
          "metadata": {
            "tags": []
          },
          "execution_count": 14
        }
      ]
    },
    {
      "cell_type": "code",
      "metadata": {
        "id": "l3SGTGTeZt10"
      },
      "source": [
        "data['clean_text'] = data['clean_text'].apply(lambda x: str(x))"
      ],
      "execution_count": null,
      "outputs": []
    },
    {
      "cell_type": "code",
      "metadata": {
        "id": "4G8TqKlrESq1",
        "colab": {
          "base_uri": "https://localhost:8080/",
          "height": 33
        },
        "outputId": "693bf76d-a599-4ae4-f372-9e76e4b2e2d8"
      },
      "source": [
        "from tensorflow.keras.preprocessing.text import Tokenizer\n",
        "from tensorflow.keras.preprocessing.sequence import pad_sequences\n",
        "\n",
        "MAX_SEQUENCE_LENGTH = 128\n",
        "MAX_NB_WORDS = len(list(set(l)))\n",
        "EMBEDDING_DIM = 300\n",
        "tokenizer = Tokenizer(num_words=MAX_NB_WORDS)\n",
        "tokenizer.fit_on_texts(data['clean_text'].values)\n",
        "sequences = tokenizer.texts_to_sequences(data['clean_text'].values)\n",
        "\n",
        "word_index = tokenizer.word_index\n",
        "print('Found %s unique tokens.' % len(word_index))\n",
        "\n",
        "pad_text = pad_sequences(sequences, maxlen=MAX_SEQUENCE_LENGTH)"
      ],
      "execution_count": null,
      "outputs": [
        {
          "output_type": "stream",
          "text": [
            "Found 6640 unique tokens.\n"
          ],
          "name": "stdout"
        }
      ]
    },
    {
      "cell_type": "code",
      "metadata": {
        "id": "qymwgQu0FBGK",
        "colab": {
          "base_uri": "https://localhost:8080/",
          "height": 134
        },
        "outputId": "f4e8f9e7-34ea-4479-8fcc-eaa8b6e5cc09"
      },
      "source": [
        "pad_text"
      ],
      "execution_count": null,
      "outputs": [
        {
          "output_type": "execute_result",
          "data": {
            "text/plain": [
              "array([[   0,    0,    0, ...,  470, 1291, 2774],\n",
              "       [   0,    0,    0, ..., 2793,  471, 2794],\n",
              "       [   0,    0,    0, ..., 2797,  103,  385],\n",
              "       ...,\n",
              "       [   0,    0,    0, ...,  349,   82, 6638],\n",
              "       [   0,    0,    0, ...,   14,    1,   14],\n",
              "       [   0,    0,    0, ...,  554,  363,    4]], dtype=int32)"
            ]
          },
          "metadata": {
            "tags": []
          },
          "execution_count": 17
        }
      ]
    },
    {
      "cell_type": "code",
      "metadata": {
        "id": "JVqu3lf2K673",
        "colab": {
          "resources": {
            "http://localhost:8080/nbextensions/google.colab/files.js": {
              "data": "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",
              "ok": true,
              "headers": [
                [
                  "content-type",
                  "application/javascript"
                ]
              ],
              "status": 200,
              "status_text": ""
            }
          },
          "base_uri": "https://localhost:8080/",
          "height": 154
        },
        "outputId": "49033aed-89ef-451c-dd46-682ce280b824"
      },
      "source": [
        "!pip install --upgrade kaggle -q\n",
        "from google.colab import files\n",
        "files.upload()\n",
        "!mkdir -p ~/.kaggle\n",
        "!cp kaggle.json ~/.kaggle/\n",
        "!chmod 600 ~/.kaggle/kaggle.json\n",
        "!kaggle datasets download -d takuok/glove840b300dtxt\n",
        "!unzip /content/glove840b300dtxt.zip\n",
        "!rm /content/glove840b300dtxt.zip\n",
        "!rm kaggle.json"
      ],
      "execution_count": null,
      "outputs": [
        {
          "output_type": "display_data",
          "data": {
            "text/html": [
              "\n",
              "     <input type=\"file\" id=\"files-2af409dc-cffc-42cd-9c07-f92c4e43d9b0\" name=\"files[]\" multiple disabled\n",
              "        style=\"border:none\" />\n",
              "     <output id=\"result-2af409dc-cffc-42cd-9c07-f92c4e43d9b0\">\n",
              "      Upload widget is only available when the cell has been executed in the\n",
              "      current browser session. Please rerun this cell to enable.\n",
              "      </output>\n",
              "      <script src=\"/nbextensions/google.colab/files.js\"></script> "
            ],
            "text/plain": [
              "<IPython.core.display.HTML object>"
            ]
          },
          "metadata": {
            "tags": []
          }
        },
        {
          "output_type": "stream",
          "text": [
            "Saving kaggle.json to kaggle.json\n",
            "Downloading glove840b300dtxt.zip to /content\n",
            "100% 2.07G/2.08G [00:26<00:00, 94.5MB/s]\n",
            "100% 2.08G/2.08G [00:26<00:00, 85.2MB/s]\n",
            "Archive:  /content/glove840b300dtxt.zip\n",
            "  inflating: glove.840B.300d.txt     \n"
          ],
          "name": "stdout"
        }
      ]
    },
    {
      "cell_type": "code",
      "metadata": {
        "id": "pA6Wr5WaLgUs",
        "colab": {
          "base_uri": "https://localhost:8080/",
          "height": 84
        },
        "outputId": "f09531d2-3a60-4183-892e-771b7f06ebec"
      },
      "source": [
        "embeddings_index = {}\n",
        "f = open('/content/glove.840B.300d.txt','r',encoding='utf-8')\n",
        "for line in tqdm(f):\n",
        "    values = line.split(' ')\n",
        "    word = values[0]\n",
        "    coefs = np.asarray([float(val) for val in values[1:]])\n",
        "    embeddings_index[word] = coefs\n",
        "f.close()\n",
        "!rm /content/glove.840B.300d.txt\n",
        "print('\\nFound %s word vectors.' % len(embeddings_index))\n",
        "embedding_matrix = np.zeros((len(word_index) + 1, EMBEDDING_DIM))\n",
        "for word, i in word_index.items():\n",
        "    embedding_vector = embeddings_index.get(word)\n",
        "    if embedding_vector is not None:\n",
        "        embedding_matrix[i] = embedding_vector\n",
        "print('Found %s word vectors.' % len(embedding_matrix))\n",
        "del embedding_vector,embeddings_index"
      ],
      "execution_count": null,
      "outputs": [
        {
          "output_type": "stream",
          "text": [
            "2196018it [03:02, 12008.32it/s]\n"
          ],
          "name": "stderr"
        },
        {
          "output_type": "stream",
          "text": [
            "\n",
            "Found 2196017 word vectors.\n",
            "Found 6641 word vectors.\n"
          ],
          "name": "stdout"
        }
      ]
    },
    {
      "cell_type": "code",
      "metadata": {
        "id": "_-dXn5CgEOp7",
        "colab": {
          "base_uri": "https://localhost:8080/",
          "height": 134
        },
        "outputId": "08b8574d-d1e2-4570-f08b-7c7f77f51d77"
      },
      "source": [
        "pad_text"
      ],
      "execution_count": null,
      "outputs": [
        {
          "output_type": "execute_result",
          "data": {
            "text/plain": [
              "array([[   0,    0,    0, ...,  470, 1291, 2774],\n",
              "       [   0,    0,    0, ..., 2793,  471, 2794],\n",
              "       [   0,    0,    0, ..., 2797,  103,  385],\n",
              "       ...,\n",
              "       [   0,    0,    0, ...,  349,   82, 6638],\n",
              "       [   0,    0,    0, ...,   14,    1,   14],\n",
              "       [   0,    0,    0, ...,  554,  363,    4]], dtype=int32)"
            ]
          },
          "metadata": {
            "tags": []
          },
          "execution_count": 20
        }
      ]
    },
    {
      "cell_type": "code",
      "metadata": {
        "id": "-QWpna2nFT9R",
        "colab": {
          "base_uri": "https://localhost:8080/",
          "height": 334
        },
        "outputId": "b68438a5-c4ec-43c4-e8b8-f6d63dc38c8b"
      },
      "source": [
        "data.head(10)"
      ],
      "execution_count": null,
      "outputs": [
        {
          "output_type": "execute_result",
          "data": {
            "text/html": [
              "<div>\n",
              "<style scoped>\n",
              "    .dataframe tbody tr th:only-of-type {\n",
              "        vertical-align: middle;\n",
              "    }\n",
              "\n",
              "    .dataframe tbody tr th {\n",
              "        vertical-align: top;\n",
              "    }\n",
              "\n",
              "    .dataframe thead th {\n",
              "        text-align: right;\n",
              "    }\n",
              "</style>\n",
              "<table border=\"1\" class=\"dataframe\">\n",
              "  <thead>\n",
              "    <tr style=\"text-align: right;\">\n",
              "      <th></th>\n",
              "      <th>Unnamed: 0</th>\n",
              "      <th>ID</th>\n",
              "      <th>Primary</th>\n",
              "      <th>text</th>\n",
              "      <th>clean_text</th>\n",
              "    </tr>\n",
              "  </thead>\n",
              "  <tbody>\n",
              "    <tr>\n",
              "      <th>0</th>\n",
              "      <td>0</td>\n",
              "      <td>202427371.0</td>\n",
              "      <td>0</td>\n",
              "      <td>Many people have different idea #3DPrinting du...</td>\n",
              "      <td>many people different idea time coronavirus li...</td>\n",
              "    </tr>\n",
              "    <tr>\n",
              "      <th>1</th>\n",
              "      <td>1</td>\n",
              "      <td>203255669.0</td>\n",
              "      <td>0</td>\n",
              "      <td>Enniente...\\nA me \\u2018sto #coronavirus fa an...</td>\n",
              "      <td>enniente na coronavirus fa ancora paura nquind...</td>\n",
              "    </tr>\n",
              "    <tr>\n",
              "      <th>2</th>\n",
              "      <td>2</td>\n",
              "      <td>216034890.0</td>\n",
              "      <td>0</td>\n",
              "      <td>People, there are gonna be more of these fiasc...</td>\n",
              "      <td>people gon na fiascos coming month election un...</td>\n",
              "    </tr>\n",
              "    <tr>\n",
              "      <th>3</th>\n",
              "      <td>3</td>\n",
              "      <td>260376727.0</td>\n",
              "      <td>0</td>\n",
              "      <td>Guidelines for your journey. \\nhttps://t.co/1F...</td>\n",
              "      <td>guideline journeyn coronavirus transpo travel ...</td>\n",
              "    </tr>\n",
              "    <tr>\n",
              "      <th>4</th>\n",
              "      <td>4</td>\n",
              "      <td>278010380.0</td>\n",
              "      <td>0</td>\n",
              "      <td>If only these poor people in #Tulsa understood...</td>\n",
              "      <td>poor people tulsa understood danger coronaviru...</td>\n",
              "    </tr>\n",
              "    <tr>\n",
              "      <th>5</th>\n",
              "      <td>5</td>\n",
              "      <td>286759324.0</td>\n",
              "      <td>0</td>\n",
              "      <td>Excellent analysis. Worth reading - #Coronavir...</td>\n",
              "      <td>excellent analysis woh read coronavirus uk dea...</td>\n",
              "    </tr>\n",
              "    <tr>\n",
              "      <th>6</th>\n",
              "      <td>6</td>\n",
              "      <td>307747405.0</td>\n",
              "      <td>0</td>\n",
              "      <td>KUNG FLU!!! You morons! Also- go fys #ChinaVirus</td>\n",
              "      <td>kung flu moron also go fys chinavirus</td>\n",
              "    </tr>\n",
              "    <tr>\n",
              "      <th>7</th>\n",
              "      <td>7</td>\n",
              "      <td>323442821.0</td>\n",
              "      <td>0</td>\n",
              "      <td>Every talk show on television Has become \\nWay...</td>\n",
              "      <td>every talk show television become nwayne world...</td>\n",
              "    </tr>\n",
              "    <tr>\n",
              "      <th>8</th>\n",
              "      <td>8</td>\n",
              "      <td>335249599.0</td>\n",
              "      <td>0</td>\n",
              "      <td>Is it me, or did Trump call #CoronaVirus \\u201...</td>\n",
              "      <td>trump call coronavirushear right trumprallytul...</td>\n",
              "    </tr>\n",
              "    <tr>\n",
              "      <th>9</th>\n",
              "      <td>9</td>\n",
              "      <td>340905223.0</td>\n",
              "      <td>0</td>\n",
              "      <td>Because.....IT IS!!!!!!!!!!!! #ChineseVirus #K...</td>\n",
              "      <td>chinesevirus kungflu wuhanflu</td>\n",
              "    </tr>\n",
              "  </tbody>\n",
              "</table>\n",
              "</div>"
            ],
            "text/plain": [
              "   Unnamed: 0  ...                                         clean_text\n",
              "0           0  ...  many people different idea time coronavirus li...\n",
              "1           1  ...  enniente na coronavirus fa ancora paura nquind...\n",
              "2           2  ...  people gon na fiascos coming month election un...\n",
              "3           3  ...  guideline journeyn coronavirus transpo travel ...\n",
              "4           4  ...  poor people tulsa understood danger coronaviru...\n",
              "5           5  ...  excellent analysis woh read coronavirus uk dea...\n",
              "6           6  ...              kung flu moron also go fys chinavirus\n",
              "7           7  ...  every talk show television become nwayne world...\n",
              "8           8  ...  trump call coronavirushear right trumprallytul...\n",
              "9           9  ...                      chinesevirus kungflu wuhanflu\n",
              "\n",
              "[10 rows x 5 columns]"
            ]
          },
          "metadata": {
            "tags": []
          },
          "execution_count": 21
        }
      ]
    },
    {
      "cell_type": "code",
      "metadata": {
        "id": "d9UXbpl2WWhk"
      },
      "source": [
        "from sklearn.model_selection import train_test_split\n",
        "from tensorflow.keras.utils import to_categorical\n",
        "X_train,X_test, y_train, y_test = train_test_split(pad_text,data['Primary'].values, test_size=0.2,shuffle=True,random_state=124, stratify=data['Primary'])\n",
        "y_train = to_categorical(y_train,num_classes=4)\n",
        "y_test = to_categorical(y_test,num_classes=4)"
      ],
      "execution_count": null,
      "outputs": []
    },
    {
      "cell_type": "code",
      "metadata": {
        "id": "uiPsybbuUNJY"
      },
      "source": [
        "from tensorflow.keras.models import Model\n",
        "from tensorflow.keras.layers import Input, Embedding, SpatialDropout1D, Dense, LSTM, Bidirectional, Lambda\n",
        "import tensorflow.keras.backend as K\n",
        "from tensorflow.keras.optimizers import Adam\n",
        "from tensorflow.keras.callbacks import ModelCheckpoint, EarlyStopping"
      ],
      "execution_count": null,
      "outputs": []
    },
    {
      "cell_type": "code",
      "metadata": {
        "id": "vA_wSX9mRKED",
        "colab": {
          "base_uri": "https://localhost:8080/",
          "height": 436
        },
        "outputId": "680018ed-3ebc-4748-8785-73ecaec57992"
      },
      "source": [
        "#@title BILSTM Model\n",
        "from tensorflow.keras.models import Model\n",
        "from tensorflow.keras.layers import Input, Embedding, SpatialDropout1D, Dense, LSTM, Bidirectional, Lambda\n",
        "import tensorflow.keras.backend as K\n",
        "from tensorflow.keras.optimizers import Adam\n",
        "from tensorflow.keras.callbacks import ModelCheckpoint, EarlyStopping\n",
        "\n",
        "input_text = Input(shape=(128,),dtype='int64')\n",
        "\n",
        "embedding_layer = Embedding(embedding_matrix.shape[0], embedding_matrix.shape[1],\n",
        "                            weights=[embedding_matrix],\n",
        "                            trainable=False, mask_zero=True)(input_text)\n",
        "text_embed = SpatialDropout1D(0.4)(embedding_layer)\n",
        "\n",
        "hidden_states = Bidirectional(LSTM(units=300, return_sequences=True))(text_embed)\n",
        "global_max_pooling = Lambda(lambda x: K.max(x, axis=1))  # GlobalMaxPooling1D didn't support masking\n",
        "sentence_embed = global_max_pooling(hidden_states)\n",
        "\n",
        "dense_layer = Dense(256, activation='relu')(sentence_embed)\n",
        "output = Dense(4, activation='softmax')(dense_layer)\n",
        "\n",
        "BiLSTM = Model(input_text, output)\n",
        "BiLSTM.compile(loss='categorical_crossentropy', metrics=(['accuracy',precision,recall,f1]), optimizer=Adam(0.001))\n",
        "model_ckpt = ModelCheckpoint(\n",
        "            filepath=\"/content/BiLSTM/cp.ckpt\",\n",
        "            monitor=\"val_loss\",\n",
        "            save_best_only=True,\n",
        "            save_weights_only=True,\n",
        "            verbose = 1)\n",
        "early_stop = EarlyStopping(\n",
        "            monitor='loss',\n",
        "            mode='max',\n",
        "            patience=5,\n",
        "            verbose = 1\n",
        "        )\n",
        "lr_callback = CyclicLR()\n",
        "history = BiLSTM.fit(X_train,y_train, batch_size=128, epochs=10,\n",
        "                       validation_data=(X_test,y_test), callbacks=[model_ckpt,early_stop,lr_callback])"
      ],
      "execution_count": null,
      "outputs": [
        {
          "output_type": "stream",
          "text": [
            "Epoch 1/10\n",
            "13/13 [==============================] - ETA: 0s - loss: 1.1126 - accuracy: 0.5344 - precision: 0.6074 - recall: 0.2043 - f1: nan\n",
            "Epoch 00001: val_loss improved from inf to 0.82741, saving model to /content/BiLSTM/cp.ckpt\n",
            "13/13 [==============================] - 9s 667ms/step - loss: 1.1126 - accuracy: 0.5344 - precision: 0.6074 - recall: 0.2043 - f1: nan - val_loss: 0.8274 - val_accuracy: 0.6775 - val_precision: 0.7407 - val_recall: 0.4551 - val_f1: 0.5621\n",
            "Epoch 2/10\n",
            "13/13 [==============================] - ETA: 0s - loss: 0.7562 - accuracy: 0.7013 - precision: 0.7557 - recall: 0.5944 - f1: 0.6638\n",
            "Epoch 00002: val_loss improved from 0.82741 to 0.69849, saving model to /content/BiLSTM/cp.ckpt\n",
            "13/13 [==============================] - 7s 523ms/step - loss: 0.7562 - accuracy: 0.7013 - precision: 0.7557 - recall: 0.5944 - f1: 0.6638 - val_loss: 0.6985 - val_accuracy: 0.6900 - val_precision: 0.7018 - val_recall: 0.6074 - val_f1: 0.6509\n",
            "Epoch 3/10\n",
            "13/13 [==============================] - ETA: 0s - loss: 0.6718 - accuracy: 0.7237 - precision: 0.7733 - recall: 0.6556 - f1: 0.7091\n",
            "Epoch 00003: val_loss improved from 0.69849 to 0.68962, saving model to /content/BiLSTM/cp.ckpt\n",
            "13/13 [==============================] - 7s 521ms/step - loss: 0.6718 - accuracy: 0.7237 - precision: 0.7733 - recall: 0.6556 - f1: 0.7091 - val_loss: 0.6896 - val_accuracy: 0.7150 - val_precision: 0.7391 - val_recall: 0.6504 - val_f1: 0.6916\n",
            "Epoch 4/10\n",
            "13/13 [==============================] - ETA: 0s - loss: 0.6034 - accuracy: 0.7650 - precision: 0.7913 - recall: 0.7079 - f1: 0.7471\n",
            "Epoch 00004: val_loss improved from 0.68962 to 0.67416, saving model to /content/BiLSTM/cp.ckpt\n",
            "13/13 [==============================] - 7s 523ms/step - loss: 0.6034 - accuracy: 0.7650 - precision: 0.7913 - recall: 0.7079 - f1: 0.7471 - val_loss: 0.6742 - val_accuracy: 0.7250 - val_precision: 0.7230 - val_recall: 0.6270 - val_f1: 0.6716\n",
            "Epoch 5/10\n",
            "13/13 [==============================] - ETA: 0s - loss: 0.5398 - accuracy: 0.8019 - precision: 0.8369 - recall: 0.7452 - f1: 0.7881\n",
            "Epoch 00005: val_loss did not improve from 0.67416\n",
            "13/13 [==============================] - 7s 525ms/step - loss: 0.5398 - accuracy: 0.8019 - precision: 0.8369 - recall: 0.7452 - f1: 0.7881 - val_loss: 0.6868 - val_accuracy: 0.7325 - val_precision: 0.7385 - val_recall: 0.6816 - val_f1: 0.7089\n",
            "Epoch 6/10\n",
            "13/13 [==============================] - ETA: 0s - loss: 0.5093 - accuracy: 0.8012 - precision: 0.8333 - recall: 0.7638 - f1: 0.7968\n",
            "Epoch 00006: val_loss did not improve from 0.67416\n",
            "13/13 [==============================] - 7s 526ms/step - loss: 0.5093 - accuracy: 0.8012 - precision: 0.8333 - recall: 0.7638 - f1: 0.7968 - val_loss: 0.7024 - val_accuracy: 0.7100 - val_precision: 0.7130 - val_recall: 0.6523 - val_f1: 0.6813\n",
            "Epoch 00006: early stopping\n"
          ],
          "name": "stdout"
        }
      ]
    },
    {
      "cell_type": "code",
      "metadata": {
        "id": "x86B47QUfAM7",
        "colab": {
          "base_uri": "https://localhost:8080/",
          "height": 436
        },
        "outputId": "890e7bdf-2aaf-4466-8e5e-c4ef794acc34"
      },
      "source": [
        "#@title BILSTM Model\n",
        "from tensorflow.keras.models import Model\n",
        "from tensorflow.keras.layers import Input, Embedding, SpatialDropout1D, Dense, LSTM, Bidirectional, Lambda\n",
        "import tensorflow.keras.backend as K\n",
        "from tensorflow.keras.optimizers import Adam\n",
        "from tensorflow.keras.callbacks import ModelCheckpoint, EarlyStopping\n",
        "\n",
        "input_text = Input(shape=(128,),dtype='int64')\n",
        "\n",
        "embedding_layer = Embedding(embedding_matrix.shape[0], embedding_matrix.shape[1],\n",
        "                            weights=[embedding_matrix],\n",
        "                            trainable=False, mask_zero=True)(input_text)\n",
        "text_embed = SpatialDropout1D(0.4)(embedding_layer)\n",
        "\n",
        "hidden_states = Bidirectional(LSTM(units=300, return_sequences=True))(text_embed)\n",
        "global_max_pooling = Lambda(lambda x: K.max(x, axis=1))  # GlobalMaxPooling1D didn't support masking\n",
        "sentence_embed = global_max_pooling(hidden_states)\n",
        "\n",
        "dense_layer = Dense(256, activation='relu')(sentence_embed)\n",
        "dense_layer = Dense(128, activation='relu')(dense_layer)\n",
        "dense_layer = Dense(64, activation='relu')(dense_layer)\n",
        "output = Dense(4, activation='softmax')(dense_layer)\n",
        "\n",
        "BiLSTM = Model(input_text, output)\n",
        "BiLSTM.compile(loss='categorical_crossentropy', metrics=(['accuracy',precision,recall,f1]), optimizer=Adam(0.001))\n",
        "model_ckpt = ModelCheckpoint(\n",
        "            filepath=\"/content/BiLSTM/cp.ckpt\",\n",
        "            monitor=\"val_loss\",\n",
        "            save_best_only=True,\n",
        "            save_weights_only=True,\n",
        "            verbose = 1)\n",
        "early_stop = EarlyStopping(\n",
        "            monitor='loss',\n",
        "            mode='max',\n",
        "            patience=5,\n",
        "            verbose = 1\n",
        "        )\n",
        "lr_callback = CyclicLR()\n",
        "history = BiLSTM.fit(X_train,y_train, batch_size=32, epochs=10,\n",
        "                       validation_data=(X_test,y_test), callbacks=[model_ckpt,early_stop,lr_callback])"
      ],
      "execution_count": null,
      "outputs": [
        {
          "output_type": "stream",
          "text": [
            "Epoch 1/10\n",
            "50/50 [==============================] - ETA: 0s - loss: 1.0245 - accuracy: 0.5600 - precision: 0.5439 - recall: 0.3212 - f1: nan\n",
            "Epoch 00001: val_loss improved from inf to 0.77482, saving model to /content/BiLSTM/cp.ckpt\n",
            "50/50 [==============================] - 14s 277ms/step - loss: 1.0245 - accuracy: 0.5600 - precision: 0.5439 - recall: 0.3212 - f1: nan - val_loss: 0.7748 - val_accuracy: 0.6800 - val_precision: 0.7379 - val_recall: 0.5457 - val_f1: 0.6258\n",
            "Epoch 2/10\n",
            "50/50 [==============================] - ETA: 0s - loss: 0.7195 - accuracy: 0.7312 - precision: 0.7737 - recall: 0.6250 - f1: 0.6905\n",
            "Epoch 00002: val_loss improved from 0.77482 to 0.70877, saving model to /content/BiLSTM/cp.ckpt\n",
            "50/50 [==============================] - 12s 240ms/step - loss: 0.7195 - accuracy: 0.7312 - precision: 0.7737 - recall: 0.6250 - f1: 0.6905 - val_loss: 0.7088 - val_accuracy: 0.7075 - val_precision: 0.7527 - val_recall: 0.6322 - val_f1: 0.6861\n",
            "Epoch 3/10\n",
            "50/50 [==============================] - ETA: 0s - loss: 0.6421 - accuracy: 0.7588 - precision: 0.7901 - recall: 0.7025 - f1: 0.7429\n",
            "Epoch 00003: val_loss improved from 0.70877 to 0.64991, saving model to /content/BiLSTM/cp.ckpt\n",
            "50/50 [==============================] - 12s 240ms/step - loss: 0.6421 - accuracy: 0.7588 - precision: 0.7901 - recall: 0.7025 - f1: 0.7429 - val_loss: 0.6499 - val_accuracy: 0.7125 - val_precision: 0.7511 - val_recall: 0.6587 - val_f1: 0.7009\n",
            "Epoch 4/10\n",
            "50/50 [==============================] - ETA: 0s - loss: 0.5939 - accuracy: 0.7631 - precision: 0.7962 - recall: 0.7144 - f1: 0.7524\n",
            "Epoch 00004: val_loss did not improve from 0.64991\n",
            "50/50 [==============================] - 12s 236ms/step - loss: 0.5939 - accuracy: 0.7631 - precision: 0.7962 - recall: 0.7144 - f1: 0.7524 - val_loss: 0.6578 - val_accuracy: 0.7300 - val_precision: 0.7389 - val_recall: 0.6779 - val_f1: 0.7068\n",
            "Epoch 5/10\n",
            "50/50 [==============================] - ETA: 0s - loss: 0.5107 - accuracy: 0.8112 - precision: 0.8301 - recall: 0.7788 - f1: 0.8032\n",
            "Epoch 00005: val_loss did not improve from 0.64991\n",
            "50/50 [==============================] - 12s 236ms/step - loss: 0.5107 - accuracy: 0.8112 - precision: 0.8301 - recall: 0.7788 - f1: 0.8032 - val_loss: 0.6602 - val_accuracy: 0.7225 - val_precision: 0.7376 - val_recall: 0.6875 - val_f1: 0.7113\n",
            "Epoch 6/10\n",
            "50/50 [==============================] - ETA: 0s - loss: 0.4690 - accuracy: 0.8256 - precision: 0.8429 - recall: 0.8050 - f1: 0.8231\n",
            "Epoch 00006: val_loss did not improve from 0.64991\n",
            "50/50 [==============================] - 12s 237ms/step - loss: 0.4690 - accuracy: 0.8256 - precision: 0.8429 - recall: 0.8050 - f1: 0.8231 - val_loss: 0.6848 - val_accuracy: 0.6875 - val_precision: 0.7321 - val_recall: 0.6298 - val_f1: 0.6767\n",
            "Epoch 00006: early stopping\n"
          ],
          "name": "stdout"
        }
      ]
    },
    {
      "cell_type": "code",
      "metadata": {
        "id": "WbhIenUZdId0",
        "colab": {
          "base_uri": "https://localhost:8080/",
          "height": 436
        },
        "outputId": "8bbef76e-e7dc-4902-eb15-bb193d031e79"
      },
      "source": [
        "#@title BILSTM Model-cln\n",
        "from tensorflow.keras.models import Model\n",
        "from tensorflow.keras.layers import Input, Embedding, SpatialDropout1D, Dense, LSTM, Bidirectional, Lambda\n",
        "import tensorflow.keras.backend as K\n",
        "from tensorflow.keras.optimizers import Adam\n",
        "from tensorflow.keras.callbacks import ModelCheckpoint, EarlyStopping\n",
        "\n",
        "input_text = Input(shape=(128,),dtype='int64')\n",
        "\n",
        "embedding_layer = Embedding(embedding_matrix.shape[0], embedding_matrix.shape[1],\n",
        "                            weights=[embedding_matrix],\n",
        "                            trainable=False, mask_zero=True)(input_text)\n",
        "text_embed = SpatialDropout1D(0.4)(embedding_layer)\n",
        "\n",
        "hidden_states = Bidirectional(LSTM(units=300, return_sequences=True))(text_embed)\n",
        "global_max_pooling = Lambda(lambda x: K.max(x, axis=1))  # GlobalMaxPooling1D didn't support masking\n",
        "sentence_embed = global_max_pooling(hidden_states)\n",
        "\n",
        "dense_layer = Dense(256, activation='relu')(sentence_embed)\n",
        "output = Dense(4, activation='softmax')(dense_layer)\n",
        "\n",
        "BiLSTM = Model(input_text, output)\n",
        "BiLSTM.compile(loss='categorical_crossentropy',  metrics=(['accuracy',precision,recall,f1]), optimizer=Adam(0.001))\n",
        "model_ckpt = ModelCheckpoint(\n",
        "            filepath=\"/content/BiLSTM/cp.ckpt\",\n",
        "            monitor=\"val_loss\",\n",
        "            save_best_only=True,\n",
        "            save_weights_only=True,\n",
        "            verbose = 1)\n",
        "early_stop = EarlyStopping(\n",
        "            monitor='loss',\n",
        "            mode='max',\n",
        "            patience=5,\n",
        "            verbose = 1\n",
        "        )\n",
        "lr_callback = CyclicLR()\n",
        "history = BiLSTM.fit(X_train,y_train, batch_size=128, epochs=10,\n",
        "                       validation_data=(X_test,y_test), callbacks=[model_ckpt,early_stop,lr_callback])"
      ],
      "execution_count": null,
      "outputs": [
        {
          "output_type": "stream",
          "text": [
            "Epoch 1/10\n",
            "13/13 [==============================] - ETA: 0s - loss: 1.0727 - accuracy: 0.5606 - precision: 0.5347 - recall: 0.2097 - f1: nan\n",
            "Epoch 00001: val_loss improved from inf to 0.84075, saving model to /content/BiLSTM/cp.ckpt\n",
            "13/13 [==============================] - 9s 676ms/step - loss: 1.0727 - accuracy: 0.5606 - precision: 0.5347 - recall: 0.2097 - f1: nan - val_loss: 0.8408 - val_accuracy: 0.6475 - val_precision: 0.6320 - val_recall: 0.5449 - val_f1: 0.5850\n",
            "Epoch 2/10\n",
            "13/13 [==============================] - ETA: 0s - loss: 0.7645 - accuracy: 0.7013 - precision: 0.7366 - recall: 0.6112 - f1: 0.6677\n",
            "Epoch 00002: val_loss improved from 0.84075 to 0.72902, saving model to /content/BiLSTM/cp.ckpt\n",
            "13/13 [==============================] - 7s 524ms/step - loss: 0.7645 - accuracy: 0.7013 - precision: 0.7366 - recall: 0.6112 - f1: 0.6677 - val_loss: 0.7290 - val_accuracy: 0.7275 - val_precision: 0.7591 - val_recall: 0.5918 - val_f1: 0.6645\n",
            "Epoch 3/10\n",
            "13/13 [==============================] - ETA: 0s - loss: 0.6754 - accuracy: 0.7475 - precision: 0.7822 - recall: 0.6641 - f1: 0.7179\n",
            "Epoch 00003: val_loss did not improve from 0.72902\n",
            "13/13 [==============================] - 7s 524ms/step - loss: 0.6754 - accuracy: 0.7475 - precision: 0.7822 - recall: 0.6641 - f1: 0.7179 - val_loss: 0.7662 - val_accuracy: 0.6875 - val_precision: 0.7346 - val_recall: 0.6055 - val_f1: 0.6636\n",
            "Epoch 4/10\n",
            "13/13 [==============================] - ETA: 0s - loss: 0.6256 - accuracy: 0.7588 - precision: 0.7871 - recall: 0.6911 - f1: 0.7358\n",
            "Epoch 00004: val_loss improved from 0.72902 to 0.65676, saving model to /content/BiLSTM/cp.ckpt\n",
            "13/13 [==============================] - 7s 532ms/step - loss: 0.6256 - accuracy: 0.7588 - precision: 0.7871 - recall: 0.6911 - f1: 0.7358 - val_loss: 0.6568 - val_accuracy: 0.7325 - val_precision: 0.7611 - val_recall: 0.6465 - val_f1: 0.6989\n",
            "Epoch 5/10\n",
            "13/13 [==============================] - ETA: 0s - loss: 0.5690 - accuracy: 0.7619 - precision: 0.8024 - recall: 0.7169 - f1: 0.7570\n",
            "Epoch 00005: val_loss did not improve from 0.65676\n",
            "13/13 [==============================] - 7s 519ms/step - loss: 0.5690 - accuracy: 0.7619 - precision: 0.8024 - recall: 0.7169 - f1: 0.7570 - val_loss: 0.6758 - val_accuracy: 0.7300 - val_precision: 0.7115 - val_recall: 0.6523 - val_f1: 0.6805\n",
            "Epoch 6/10\n",
            "13/13 [==============================] - ETA: 0s - loss: 0.5288 - accuracy: 0.8106 - precision: 0.8320 - recall: 0.7608 - f1: 0.7946\n",
            "Epoch 00006: val_loss did not improve from 0.65676\n",
            "13/13 [==============================] - 7s 520ms/step - loss: 0.5288 - accuracy: 0.8106 - precision: 0.8320 - recall: 0.7608 - f1: 0.7946 - val_loss: 0.6742 - val_accuracy: 0.7350 - val_precision: 0.7162 - val_recall: 0.6582 - val_f1: 0.6859\n",
            "Epoch 00006: early stopping\n"
          ],
          "name": "stdout"
        }
      ]
    },
    {
      "cell_type": "code",
      "metadata": {
        "id": "b3A3UEcsK0T6",
        "colab": {
          "base_uri": "https://localhost:8080/",
          "height": 572
        },
        "outputId": "79862388-1432-43ce-fb40-29c7adaf158b"
      },
      "source": [
        "import matplotlib.pyplot as plt\n",
        "\n",
        "plt.plot(history.history['accuracy'])\n",
        "plt.plot(history.history['val_accuracy'])\n",
        "plt.title('Model accuracy')\n",
        "plt.ylabel('Accuracy')\n",
        "plt.xlabel('Epoch')\n",
        "plt.legend(['Train', 'Test'], loc='upper left')\n",
        "plt.show()\n",
        "\n",
        "# Plot training & validation loss values\n",
        "plt.plot(history.history['loss'])\n",
        "plt.plot(history.history['val_loss'])\n",
        "plt.title('Model loss')\n",
        "plt.ylabel('Loss')\n",
        "plt.xlabel('Epoch')\n",
        "plt.legend(['Train', 'Test'], loc='upper left')\n",
        "plt.show()"
      ],
      "execution_count": null,
      "outputs": [
        {
          "output_type": "display_data",
          "data": {
            "image/png": "[encoded data removed]",
            "text/plain": [
              "<Figure size 432x288 with 1 Axes>"
            ]
          },
          "metadata": {
            "tags": [],
            "needs_background": "light"
          }
        },
        {
          "output_type": "display_data",
          "data": {
            "image/png": "[encoded data removed]",
            "text/plain": [
              "<Figure size 432x288 with 1 Axes>"
            ]
          },
          "metadata": {
            "tags": [],
            "needs_background": "light"
          }
        }
      ]
    },
    {
      "cell_type": "code",
      "metadata": {
        "id": "vlkVMxT8dzEH",
        "colab": {
          "base_uri": "https://localhost:8080/",
          "height": 572
        },
        "outputId": "95b0b9d2-4da5-47c3-e6fc-d5d76def352d"
      },
      "source": [
        "import matplotlib.pyplot as plt\n",
        "#clean\n",
        "plt.plot(history.history['accuracy'])\n",
        "plt.plot(history.history['val_accuracy'])\n",
        "plt.title('Model accuracy')\n",
        "plt.ylabel('Accuracy')\n",
        "plt.xlabel('Epoch')\n",
        "plt.legend(['Train', 'Test'], loc='upper left')\n",
        "plt.show()\n",
        "\n",
        "# Plot training & validation loss values\n",
        "plt.plot(history.history['loss'])\n",
        "plt.plot(history.history['val_loss'])\n",
        "plt.title('Model loss')\n",
        "plt.ylabel('Loss')\n",
        "plt.xlabel('Epoch')\n",
        "plt.legend(['Train', 'Test'], loc='upper left')\n",
        "plt.show()"
      ],
      "execution_count": null,
      "outputs": [
        {
          "output_type": "display_data",
          "data": {
            "image/png": "[encoded data removed]",
            "text/plain": [
              "<Figure size 432x288 with 1 Axes>"
            ]
          },
          "metadata": {
            "tags": [],
            "needs_background": "light"
          }
        },
        {
          "output_type": "display_data",
          "data": {
            "image/png": "[encoded data removed]",
            "text/plain": [
              "<Figure size 432x288 with 1 Axes>"
            ]
          },
          "metadata": {
            "tags": [],
            "needs_background": "light"
          }
        }
      ]
    },
    {
      "cell_type": "code",
      "metadata": {
        "id": "5fnIJtKWXvqP"
      },
      "source": [
        "#@title TEXTCNN\n",
        "from keras.models import Model\n",
        "from keras.layers import Input, Embedding, SpatialDropout1D, Conv1D, MaxPool1D, Flatten, concatenate, Dense\n",
        "# from models.keras_base_model import KerasBaseModel\n",
        "class TextCNN(KerasBaseModel):\n",
        "def __init__(self, config, **kwargs):\n",
        "super(TextCNN, self).__init__(config, **kwargs)\n",
        "def build(self):\n",
        "input_text = Input(shape=(self.max_len,))\n",
        "embedding_layer = Embedding(self.word_embeddings.shape[0], self.word_embeddings.shape[1],\n",
        "weights=[self.word_embeddings],\n",
        "trainable=self.config.word_embed_trainable)(input_text)\n",
        "text_embed = SpatialDropout1D(0.2)(embedding_layer)\n",
        "filter_lengths = [2, 3, 4, 5]\n",
        "conv_layers = []\n",
        "for filter_length in filter_lengths:\n",
        "conv_layer = Conv1D(filters=300, kernel_size=filter_length, padding='valid',\n",
        "strides=1, activation='relu')(text_embed)\n",
        "maxpooling = MaxPool1D(pool_size=self.max_len - filter_length + 1)(conv_layer)\n",
        "flatten = Flatten()(maxpooling)\n",
        "conv_layers.append(flatten)\n",
        "sentence_embed = concatenate(inputs=conv_layers)\n",
        "dense_layer = Dense(256, activation='relu')(sentence_embed)\n",
        "output = Dense(self.n_class, activation='softmax')(dense_layer)\n",
        "model = Model(input_text, output)\n",
        "model.compile(loss='categorical_crossentropy', metrics=['acc'], optimizer=self.config.optimizer)\n",
        "return model\n",
        "\n",
        "config = Config()\n",
        "config.word_embeddings = embedding_matrix\n",
        "config.checkpoint_dir = \"/content/TextCNN/cp.ckpt\"\n",
        "config.batch_size = 64\n",
        "textCNN = TextCNN(config)"
      ],
      "execution_count": null,
      "outputs": []
    },
    {
      "cell_type": "code",
      "metadata": {
        "id": "K6snbMBdxJGv"
      },
      "source": [
        "#@title CNNRNN\n",
        "from tensorflow.keras.models import Model\n",
        "from tensorflow.keras.layers import Input, Embedding, SpatialDropout1D, Dense, LSTM, Bidirectional, Lambda\n",
        "import tensorflow.keras.backend as K\n",
        "from tensorflow.keras.optimizers import Adam\n",
        "from tensorflow.keras.callbacks import ModelCheckpoint, EarlyStopping\n",
        "from tensorflow.keras.layers import Conv1D, MaxPooling1D, GRU,GlobalMaxPooling1D\n",
        "class CNNRNN(KerasBaseModel):\n",
        "    def __init__(self, config):\n",
        "        super(CNNRNN, self).__init__(config)\n",
        "\n",
        "    def build(self):\n",
        "        input_text = Input(shape=(self.max_len,),dtype = 'int64')\n",
        "\n",
        "        embedding_layer = Embedding(self.word_embeddings.shape[0], self.word_embeddings.shape[1],\n",
        "                                    weights=[self.word_embeddings],\n",
        "                                    trainable=self.config.word_embed_trainable)(input_text)\n",
        "        text_embed = SpatialDropout1D(0.4)(embedding_layer)\n",
        "\n",
        "        conv_layer = Conv1D(300, kernel_size=3, padding=\"valid\", activation='relu')(text_embed)\n",
        "        conv_max_pool = MaxPooling1D(pool_size=2)(conv_layer)\n",
        "\n",
        "        gru_layer = Bidirectional(GRU(self.config.rnn_units, return_sequences=True))(conv_max_pool)\n",
        "        sentence_embed = GlobalMaxPooling1D()(gru_layer)\n",
        "\n",
        "        dense_layer = Dense(256, activation='relu')(sentence_embed)\n",
        "        output = Dense(self.n_class, activation='softmax')(dense_layer)\n",
        "\n",
        "        model = Model(input_text, output)\n",
        "        model.compile(loss='categorical_crossentropy', metrics=(['accuracy',precision,recall,f1]), optimizer=self.config.optimizer)\n",
        "        return model\n",
        "config = Config()\n",
        "config.word_embeddings = embedding_matrix\n",
        "config.checkpoint_dir = \"/content/CNNRNN/cp.ckpt\"\n",
        "config.batch_size = 64\n",
        "cnnrnn = CNNRNN(config)"
      ],
      "execution_count": null,
      "outputs": []
    },
    {
      "cell_type": "code",
      "metadata": {
        "id": "y4gx46tnRONb",
        "colab": {
          "base_uri": "https://localhost:8080/",
          "height": 520
        },
        "outputId": "a589f3f0-1b6b-4ec4-cfb4-a29c4fb18710"
      },
      "source": [
        "cnnrnn.train(data_train = (X_train,y_train),data_dev=(X_test,y_test))"
      ],
      "execution_count": null,
      "outputs": [
        {
          "output_type": "stream",
          "text": [
            "Train on 1600 samples, validate on 400 samples\n",
            "Epoch 1/10\n",
            "1408/1600 [=========================>....] - ETA: 1s - loss: 1.1934 - acc: 0.4759\n",
            "Epoch 00001: val_loss improved from inf to 0.76987, saving model to /content/CNNRNN/cp.ckpt\n",
            "1600/1600 [==============================] - 8s 5ms/sample - loss: 1.1493 - acc: 0.5000 - val_loss: 0.7699 - val_acc: 0.6450\n",
            "Epoch 2/10\n",
            "1536/1600 [===========================>..] - ETA: 0s - loss: 0.7360 - acc: 0.6934\n",
            "Epoch 00002: val_loss improved from 0.76987 to 0.62890, saving model to /content/CNNRNN/cp.ckpt\n",
            "1600/1600 [==============================] - 1s 478us/sample - loss: 0.7353 - acc: 0.6950 - val_loss: 0.6289 - val_acc: 0.7350\n",
            "Epoch 3/10\n",
            "1536/1600 [===========================>..] - ETA: 0s - loss: 0.6309 - acc: 0.7357\n",
            "Epoch 00003: val_loss did not improve from 0.62890\n",
            "1600/1600 [==============================] - 1s 428us/sample - loss: 0.6315 - acc: 0.7375 - val_loss: 0.6877 - val_acc: 0.7300\n",
            "Epoch 4/10\n",
            "1408/1600 [=========================>....] - ETA: 0s - loss: 0.5759 - acc: 0.7642\n",
            "Epoch 00004: val_loss did not improve from 0.62890\n",
            "1600/1600 [==============================] - 1s 435us/sample - loss: 0.5708 - acc: 0.7700 - val_loss: 0.6334 - val_acc: 0.7450\n",
            "Epoch 5/10\n",
            "1472/1600 [==========================>...] - ETA: 0s - loss: 0.5735 - acc: 0.7649\n",
            "Epoch 00005: val_loss did not improve from 0.62890\n",
            "1600/1600 [==============================] - 1s 433us/sample - loss: 0.5779 - acc: 0.7600 - val_loss: 0.6706 - val_acc: 0.7225\n",
            "Epoch 6/10\n",
            "1536/1600 [===========================>..] - ETA: 0s - loss: 0.4602 - acc: 0.8171\n",
            "Epoch 00006: val_loss did not improve from 0.62890\n",
            "1600/1600 [==============================] - 1s 429us/sample - loss: 0.4617 - acc: 0.8163 - val_loss: 0.6549 - val_acc: 0.7400\n",
            "Epoch 7/10\n",
            "1472/1600 [==========================>...] - ETA: 0s - loss: 0.4059 - acc: 0.8485\n",
            "Epoch 00007: val_loss did not improve from 0.62890\n",
            "1600/1600 [==============================] - 1s 431us/sample - loss: 0.4016 - acc: 0.8512 - val_loss: 0.6683 - val_acc: 0.7350\n",
            "Epoch 00007: early stopping\n"
          ],
          "name": "stdout"
        }
      ]
    },
    {
      "cell_type": "code",
      "metadata": {
        "id": "pknbV99Nd5l6",
        "colab": {
          "base_uri": "https://localhost:8080/",
          "height": 759
        },
        "outputId": "89afacf8-562b-4ca7-c2d2-842fc90f69b2"
      },
      "source": [
        "cnnrnn.train(data_train = (X_train,y_train),data_dev=(X_test,y_test))"
      ],
      "execution_count": null,
      "outputs": [
        {
          "output_type": "stream",
          "text": [
            "Epoch 1/10\n",
            " 1/25 [>.............................] - ETA: 0s - loss: 1.3837 - acc: 0.2656WARNING:tensorflow:Callbacks method `on_train_batch_end` is slow compared to the batch time (batch time: 0.0129s vs `on_train_batch_end` time: 0.0253s). Check your callbacks.\n"
          ],
          "name": "stdout"
        },
        {
          "output_type": "stream",
          "text": [
            "WARNING:tensorflow:Callbacks method `on_train_batch_end` is slow compared to the batch time (batch time: 0.0129s vs `on_train_batch_end` time: 0.0253s). Check your callbacks.\n"
          ],
          "name": "stderr"
        },
        {
          "output_type": "stream",
          "text": [
            "25/25 [==============================] - ETA: 0s - loss: 1.1095 - acc: 0.5325\n",
            "Epoch 00001: val_loss improved from inf to 0.77733, saving model to /content/CNNRNN/cp.ckpt\n",
            "25/25 [==============================] - 2s 63ms/step - loss: 1.1095 - acc: 0.5325 - val_loss: 0.7773 - val_acc: 0.6675\n",
            "Epoch 2/10\n",
            "25/25 [==============================] - ETA: 0s - loss: 0.7457 - acc: 0.7019\n",
            "Epoch 00002: val_loss improved from 0.77733 to 0.69375, saving model to /content/CNNRNN/cp.ckpt\n",
            "25/25 [==============================] - 1s 40ms/step - loss: 0.7457 - acc: 0.7019 - val_loss: 0.6938 - val_acc: 0.7075\n",
            "Epoch 3/10\n",
            "25/25 [==============================] - ETA: 0s - loss: 0.6420 - acc: 0.7487\n",
            "Epoch 00003: val_loss did not improve from 0.69375\n",
            "25/25 [==============================] - 1s 36ms/step - loss: 0.6420 - acc: 0.7487 - val_loss: 0.7229 - val_acc: 0.7125\n",
            "Epoch 4/10\n",
            "25/25 [==============================] - ETA: 0s - loss: 0.5616 - acc: 0.7837\n",
            "Epoch 00004: val_loss did not improve from 0.69375\n",
            "25/25 [==============================] - 1s 36ms/step - loss: 0.5616 - acc: 0.7837 - val_loss: 0.7044 - val_acc: 0.7225\n",
            "Epoch 5/10\n",
            "25/25 [==============================] - ETA: 0s - loss: 0.5085 - acc: 0.8006\n",
            "Epoch 00005: val_loss improved from 0.69375 to 0.67022, saving model to /content/CNNRNN/cp.ckpt\n",
            "25/25 [==============================] - 1s 40ms/step - loss: 0.5085 - acc: 0.8006 - val_loss: 0.6702 - val_acc: 0.7275\n",
            "Epoch 6/10\n",
            "25/25 [==============================] - ETA: 0s - loss: 0.4660 - acc: 0.8069\n",
            "Epoch 00006: val_loss did not improve from 0.67022\n",
            "25/25 [==============================] - 1s 35ms/step - loss: 0.4660 - acc: 0.8069 - val_loss: 0.7494 - val_acc: 0.7250\n",
            "Epoch 7/10\n",
            "25/25 [==============================] - ETA: 0s - loss: 0.3910 - acc: 0.8550\n",
            "Epoch 00007: val_loss did not improve from 0.67022\n",
            "25/25 [==============================] - 1s 36ms/step - loss: 0.3910 - acc: 0.8550 - val_loss: 0.8001 - val_acc: 0.7250\n",
            "Epoch 8/10\n",
            "25/25 [==============================] - ETA: 0s - loss: 0.3037 - acc: 0.8788\n",
            "Epoch 00008: val_loss did not improve from 0.67022\n",
            "25/25 [==============================] - 1s 36ms/step - loss: 0.3037 - acc: 0.8788 - val_loss: 0.7892 - val_acc: 0.7150\n",
            "Epoch 9/10\n",
            "25/25 [==============================] - ETA: 0s - loss: 0.2540 - acc: 0.9038\n",
            "Epoch 00009: val_loss did not improve from 0.67022\n",
            "25/25 [==============================] - 1s 35ms/step - loss: 0.2540 - acc: 0.9038 - val_loss: 0.8270 - val_acc: 0.7100\n",
            "Epoch 10/10\n",
            "25/25 [==============================] - ETA: 0s - loss: 0.2501 - acc: 0.9044\n",
            "Epoch 00010: val_loss did not improve from 0.67022\n",
            "25/25 [==============================] - 1s 35ms/step - loss: 0.2501 - acc: 0.9044 - val_loss: 0.8463 - val_acc: 0.7100\n",
            "Epoch 00010: early stopping\n"
          ],
          "name": "stdout"
        }
      ]
    },
    {
      "cell_type": "code",
      "metadata": {
        "id": "7UXO0YIULbJG",
        "colab": {
          "base_uri": "https://localhost:8080/",
          "height": 572
        },
        "outputId": "49ed871b-09df-43e9-bee8-5e17a118c32a"
      },
      "source": [
        "import matplotlib.pyplot as plt\n",
        "plt.plot(cnnrnn.model.history.history['accuracy'])\n",
        "plt.plot(cnnrnn.model.history.history['val_acc'])\n",
        "plt.title('Model accuracy')\n",
        "plt.ylabel('Accuracy')\n",
        "plt.xlabel('Epoch')\n",
        "plt.legend(['Train', 'Test'], loc='upper left')\n",
        "plt.show()\n",
        "\n",
        "# Plot training & validation loss values\n",
        "plt.plot(cnnrnn.model.history.history['loss'])\n",
        "plt.plot(cnnrnn.model.history.history['val_loss'])\n",
        "plt.title('Model loss')\n",
        "plt.ylabel('Loss')\n",
        "plt.xlabel('Epoch')\n",
        "plt.legend(['Train', 'Test'], loc='upper left')\n",
        "plt.show()"
      ],
      "execution_count": null,
      "outputs": [
        {
          "output_type": "display_data",
          "data": {
            "image/png": "[encoded data removed]",
            "text/plain": [
              "<Figure size 432x288 with 1 Axes>"
            ]
          },
          "metadata": {
            "tags": [],
            "needs_background": "light"
          }
        },
        {
          "output_type": "display_data",
          "data": {
            "image/png": "[encoded data removed]",
            "text/plain": [
              "<Figure size 432x288 with 1 Axes>"
            ]
          },
          "metadata": {
            "tags": [],
            "needs_background": "light"
          }
        }
      ]
    },
    {
      "cell_type": "code",
      "metadata": {
        "id": "aN-FzB_jg6Ej",
        "colab": {
          "base_uri": "https://localhost:8080/",
          "height": 572
        },
        "outputId": "bfe41907-8d94-45c3-8de7-8b8c2c6e87a6"
      },
      "source": [
        "import matplotlib.pyplot as plt\n",
        "plt.plot(cnnrnn.model.history.history['accuracy'])\n",
        "plt.plot(cnnrnn.model.history.history['val_acc'])\n",
        "plt.title('Model accuracy')\n",
        "plt.ylabel('Accuracy')\n",
        "plt.xlabel('Epoch')\n",
        "plt.legend(['Train', 'Test'], loc='upper left')\n",
        "plt.show()\n",
        "\n",
        "# Plot training & validation loss values\n",
        "plt.plot(cnnrnn.model.history.history['loss'])\n",
        "plt.plot(cnnrnn.model.history.history['val_loss'])\n",
        "plt.title('Model loss')\n",
        "plt.ylabel('Loss')\n",
        "plt.xlabel('Epoch')\n",
        "plt.legend(['Train', 'Test'], loc='upper left')\n",
        "plt.show()"
      ],
      "execution_count": null,
      "outputs": [
        {
          "output_type": "display_data",
          "data": {
            "image/png": "[encoded data removed]",
            "text/plain": [
              "<Figure size 432x288 with 1 Axes>"
            ]
          },
          "metadata": {
            "tags": [],
            "needs_background": "light"
          }
        },
        {
          "output_type": "display_data",
          "data": {
            "image/png": "[encoded data removed]",
            "text/plain": [
              "<Figure size 432x288 with 1 Axes>"
            ]
          },
          "metadata": {
            "tags": [],
            "needs_background": "light"
          }
        }
      ]
    },
    {
      "cell_type": "code",
      "metadata": {
        "id": "a7pjcFrNSMpx"
      },
      "source": [
        "#@title RNNCNN\n",
        "from tensorflow.keras.layers import GlobalAveragePooling1D, concatenate\n",
        "class RNNCNN(KerasBaseModel):\n",
        "    def __init__(self, config, **kwargs):\n",
        "        super(RNNCNN, self).__init__(config, **kwargs)\n",
        "\n",
        "    def build(self):\n",
        "        input_text = Input(shape=(self.max_len,))\n",
        "\n",
        "        embedding_layer = Embedding(self.word_embeddings.shape[0], self.word_embeddings.shape[1],\n",
        "                                    weights=[self.word_embeddings],\n",
        "                                    trainable=self.config.word_embed_trainable)(input_text)\n",
        "        text_embed = SpatialDropout1D(0.4)(embedding_layer)\n",
        "\n",
        "        gru_layer = Bidirectional(GRU(self.config.rnn_units, return_sequences=True))(text_embed)\n",
        "\n",
        "        conv_layer = Conv1D(64, kernel_size=2, padding=\"valid\", kernel_initializer=\"he_uniform\")(gru_layer)\n",
        "\n",
        "        avg_pool = GlobalAveragePooling1D()(conv_layer)\n",
        "        max_pool = GlobalMaxPooling1D()(conv_layer)\n",
        "        sentence_embed = concatenate([avg_pool, max_pool])\n",
        "\n",
        "        dense_layer = Dense(256, activation='relu')(sentence_embed)\n",
        "        output = Dense(self.n_class, activation='softmax')(dense_layer)\n",
        "\n",
        "        model = Model(input_text, output)\n",
        "        model.compile(loss='categorical_crossentropy', metrics=(['accuracy',precision,recall,f1]), optimizer=self.config.optimizer)\n",
        "        return model\n",
        "\n",
        "config.checkpoint_dir = \"/content/RNNCNN/cp.ckpt\"\n",
        "rnncnn = RNNCNN(config)"
      ],
      "execution_count": null,
      "outputs": []
    },
    {
      "cell_type": "code",
      "metadata": {
        "id": "NNY7_oXAYOKn",
        "colab": {
          "base_uri": "https://localhost:8080/",
          "height": 520
        },
        "outputId": "5aa01fd8-e892-479f-eeea-b0e7800d7e0d"
      },
      "source": [
        "rnncnn.train(data_train = (X_train,y_train),data_dev=(X_test,y_test))"
      ],
      "execution_count": null,
      "outputs": [
        {
          "output_type": "stream",
          "text": [
            "Train on 1600 samples, validate on 400 samples\n",
            "Epoch 1/10\n",
            "1472/1600 [==========================>...] - ETA: 0s - loss: 1.0031 - acc: 0.5720\n",
            "Epoch 00001: val_loss improved from inf to 0.66227, saving model to /content/RNNCNN/cp.ckpt\n",
            "1600/1600 [==============================] - 3s 2ms/sample - loss: 0.9866 - acc: 0.5794 - val_loss: 0.6623 - val_acc: 0.7550\n",
            "Epoch 2/10\n",
            "1472/1600 [==========================>...] - ETA: 0s - loss: 0.6920 - acc: 0.7167\n",
            "Epoch 00002: val_loss improved from 0.66227 to 0.57616, saving model to /content/RNNCNN/cp.ckpt\n",
            "1600/1600 [==============================] - 1s 678us/sample - loss: 0.6821 - acc: 0.7200 - val_loss: 0.5762 - val_acc: 0.7550\n",
            "Epoch 3/10\n",
            "1472/1600 [==========================>...] - ETA: 0s - loss: 0.5489 - acc: 0.7833\n",
            "Epoch 00003: val_loss did not improve from 0.57616\n",
            "1600/1600 [==============================] - 1s 634us/sample - loss: 0.5493 - acc: 0.7825 - val_loss: 0.5819 - val_acc: 0.7775\n",
            "Epoch 4/10\n",
            "1472/1600 [==========================>...] - ETA: 0s - loss: 0.5013 - acc: 0.7989\n",
            "Epoch 00004: val_loss did not improve from 0.57616\n",
            "1600/1600 [==============================] - 1s 637us/sample - loss: 0.5003 - acc: 0.7987 - val_loss: 0.6454 - val_acc: 0.7475\n",
            "Epoch 5/10\n",
            "1472/1600 [==========================>...] - ETA: 0s - loss: 0.4141 - acc: 0.8363\n",
            "Epoch 00005: val_loss did not improve from 0.57616\n",
            "1600/1600 [==============================] - 1s 636us/sample - loss: 0.4196 - acc: 0.8331 - val_loss: 0.6850 - val_acc: 0.7350\n",
            "Epoch 6/10\n",
            "1472/1600 [==========================>...] - ETA: 0s - loss: 0.3280 - acc: 0.8832\n",
            "Epoch 00006: val_loss did not improve from 0.57616\n",
            "1600/1600 [==============================] - 1s 640us/sample - loss: 0.3265 - acc: 0.8831 - val_loss: 0.7090 - val_acc: 0.7275\n",
            "Epoch 7/10\n",
            "1472/1600 [==========================>...] - ETA: 0s - loss: 0.2938 - acc: 0.8906\n",
            "Epoch 00007: val_loss did not improve from 0.57616\n",
            "1600/1600 [==============================] - 1s 639us/sample - loss: 0.2927 - acc: 0.8919 - val_loss: 0.7628 - val_acc: 0.7125\n",
            "Epoch 00007: early stopping\n"
          ],
          "name": "stdout"
        }
      ]
    },
    {
      "cell_type": "code",
      "metadata": {
        "id": "vNcWOcfrLyCP"
      },
      "source": [
        ""
      ],
      "execution_count": null,
      "outputs": []
    },
    {
      "cell_type": "code",
      "metadata": {
        "id": "odBLKZiELxsU",
        "colab": {
          "base_uri": "https://localhost:8080/",
          "height": 572
        },
        "outputId": "0fa3170f-4602-4700-d4f8-3d66b3ea7d73"
      },
      "source": [
        "plt.plot(rnncnn.model.history.history['accuracy'])\n",
        "plt.plot(rnncnn.model.history.history['val_acc'])\n",
        "plt.title('Model accuracy')\n",
        "plt.ylabel('Accuracy')\n",
        "plt.xlabel('Epoch')\n",
        "plt.legend(['Train', 'Test'], loc='upper left')\n",
        "plt.show()\n",
        "\n",
        "# Plot training & validation loss values\n",
        "plt.plot(rnncnn.model.history.history['loss'])\n",
        "plt.plot(rnncnn.model.history.history['val_loss'])\n",
        "plt.title('Model loss')\n",
        "plt.ylabel('Loss')\n",
        "plt.xlabel('Epoch')\n",
        "plt.legend(['Train', 'Test'], loc='upper left')\n",
        "plt.show()"
      ],
      "execution_count": null,
      "outputs": [
        {
          "output_type": "display_data",
          "data": {
            "image/png": "[encoded data removed]",
            "text/plain": [
              "<Figure size 432x288 with 1 Axes>"
            ]
          },
          "metadata": {
            "tags": [],
            "needs_background": "light"
          }
        },
        {
          "output_type": "display_data",
          "data": {
            "image/png": "[encoded data removed]",
            "text/plain": [
              "<Figure size 432x288 with 1 Axes>"
            ]
          },
          "metadata": {
            "tags": [],
            "needs_background": "light"
          }
        }
      ]
    },
    {
      "cell_type": "code",
      "metadata": {
        "id": "ZMFEkhSHGsXK"
      },
      "source": [
        "#@title VDCNN\n",
        "from tensorflow.keras.models import Model\n",
        "from tensorflow.keras.layers import Input, Embedding, Conv1D, BatchNormalization, Activation, Add, MaxPooling1D, Dense, Flatten\n",
        "from tensorflow.keras.utils import get_source_inputs\n",
        "from tensorflow.keras.layers import Flatten, Layer, InputSpec\n",
        "import tensorflow as tf\n",
        "\n",
        "class KMaxPooling(Layer):\n",
        "    \"\"\"\n",
        "    Implemetation of temporal k-max pooling layer, which was first proposed in Kalchbrenner et al.\n",
        "    [http://www.aclweb.org/anthology/P14-1062]\n",
        "    \"A Convolutional Neural Network for Modelling Sentences\"\n",
        "    This layer allows to detect the k most important features in a sentence, independent of their\n",
        "    specific position, preserving their relative order.\n",
        "    \"\"\"\n",
        "    def __init__(self, k=1, sorted=True, **kwargs):\n",
        "        super().__init__(**kwargs)\n",
        "        self.input_spec = InputSpec(ndim=3)\n",
        "        self.k = k\n",
        "        self.sorted = sorted\n",
        "\n",
        "    def compute_output_shape(self, input_shape):\n",
        "        return (input_shape[0], self.k, input_shape[2])\n",
        "\n",
        "    def call(self, inputs):\n",
        "        # swap last two dimensions since top_k will be applied along the last dimension\n",
        "        shifted_inputs = tf.transpose(inputs, [0, 2, 1])\n",
        "        \n",
        "        # extract top_k, returns two tensors [values, indices]\n",
        "        top_k = tf.nn.top_k(shifted_inputs, k=self.k, sorted=self.sorted)[0]\n",
        "        \n",
        "        # return flattened output\n",
        "        return tf.transpose(top_k, [0,2,1])\n",
        "\n",
        "def identity_block(inputs, filters, kernel_size=3, use_bias=False, shortcut=False):\n",
        "    conv1 = Conv1D(filters=filters, kernel_size=kernel_size, strides=1, padding='same')(inputs)\n",
        "    bn1 = BatchNormalization()(conv1)\n",
        "    relu = Activation('relu')(bn1)\n",
        "    conv2 = Conv1D(filters=filters, kernel_size=kernel_size, strides=1, padding='same')(relu)\n",
        "    out = BatchNormalization()(conv2)\n",
        "    if shortcut:\n",
        "        out = Add()([out, inputs])\n",
        "    return Activation('relu')(out)\n",
        "\n",
        "def conv_block(inputs, filters, kernel_size=3, use_bias=False, shortcut=False, \n",
        "               pool_type='max', sorted=True, stage=1):\n",
        "    conv1 = Conv1D(filters=filters, kernel_size=kernel_size, strides=1, padding='same')(inputs)\n",
        "    bn1 = BatchNormalization()(conv1)\n",
        "    relu1 = Activation('relu')(bn1)\n",
        "\n",
        "    conv2 = Conv1D(filters=filters, kernel_size=kernel_size, strides=1, padding='same')(relu1)\n",
        "    out = BatchNormalization()(conv2)\n",
        "\n",
        "    if shortcut:\n",
        "        residual = Conv1D(filters=filters, kernel_size=1, strides=2, name='shortcut_conv1d_%d' % stage)(inputs)\n",
        "        residual = BatchNormalization(name='shortcut_batch_normalization_%d' % stage)(residual)\n",
        "        out = downsample(out, pool_type=pool_type, sorted=sorted, stage=stage)\n",
        "        out = Add()([out, residual])\n",
        "        out = Activation('relu')(out)\n",
        "    else:\n",
        "        out = Activation('relu')(out)\n",
        "        out = downsample(out, pool_type=pool_type, sorted=sorted, stage=stage)\n",
        "    if pool_type is not None:\n",
        "        out = Conv1D(filters=2*filters, kernel_size=1, strides=1, padding='same', name='1_1_conv_%d' % stage)(out)\n",
        "        out = BatchNormalization(name='1_1_batch_normalization_%d' % stage)(out)\n",
        "    return out\n",
        "\n",
        "def downsample(inputs, pool_type='max', sorted=True, stage=1):\n",
        "    if pool_type == 'max':\n",
        "        out = MaxPooling1D(pool_size=3, strides=2, padding='same', name='pool_%d' % stage)(inputs)\n",
        "    elif pool_type == 'k_max':\n",
        "        k = int(inputs._keras_shape[1]/2)\n",
        "        out = KMaxPooling(k=k, sorted=sorted, name='pool_%d' % stage)(inputs)\n",
        "    elif pool_type == 'conv':\n",
        "        out = Conv1D(filters=inputs._keras_shape[-1], kernel_size=3, strides=2, padding='same', name='pool_%d' % stage)(inputs)\n",
        "        out = BatchNormalization()(out)\n",
        "    elif pool_type is None:\n",
        "        out = inputs\n",
        "    else:\n",
        "        raise ValueError('unsupported pooling type!')\n",
        "    return out\n",
        "\n",
        "def VDCNN(num_classes=4, depth=9, sequence_length=128, embedding_dim=300, \n",
        "          shortcut=False, pool_type='max', sorted=True, use_bias=False, input_tensor=None):\n",
        "    if depth == 9:\n",
        "        num_conv_blocks = (1, 1, 1, 1)\n",
        "    elif depth == 17:\n",
        "        num_conv_blocks = (2, 2, 2, 2)\n",
        "    elif depth == 29:\n",
        "        num_conv_blocks = (5, 5, 2, 2)\n",
        "    elif depth == 49:\n",
        "        num_conv_blocks = (8, 8, 5, 3)\n",
        "    else:\n",
        "        raise ValueError('unsupported depth for VDCNN.')\n",
        "  \n",
        "    inputs = Input(shape=(sequence_length, ), name='inputs')\n",
        "    embedded_chars = Embedding(len(word_index) + 1,\n",
        "                            EMBEDDING_DIM,\n",
        "                            weights=[embedding_matrix],\n",
        "                            input_length=MAX_SEQUENCE_LENGTH,\n",
        "                            trainable=False)(inputs)\n",
        "    out = Conv1D(filters=64, kernel_size=3, strides=1, padding='same', name='temp_conv')(embedded_chars)\n",
        "\n",
        "    # Convolutional Block 64\n",
        "    for _ in range(num_conv_blocks[0] - 1):\n",
        "        out = identity_block(out, filters=64, kernel_size=3, use_bias=use_bias, shortcut=shortcut)\n",
        "    out = conv_block(out, filters=64, kernel_size=3, use_bias=use_bias, shortcut=shortcut, \n",
        "                     pool_type=pool_type, sorted=sorted, stage=1)\n",
        "\n",
        "    # Convolutional Block 128\n",
        "    for _ in range(num_conv_blocks[1] - 1):\n",
        "        out = identity_block(out, filters=128, kernel_size=3, use_bias=use_bias, shortcut=shortcut)\n",
        "    out = conv_block(out, filters=128, kernel_size=3, use_bias=use_bias, shortcut=shortcut, \n",
        "                     pool_type=pool_type, sorted=sorted, stage=2)\n",
        "\n",
        "    # Convolutional Block 256\n",
        "    for _ in range(num_conv_blocks[2] - 1):\n",
        "        out = identity_block(out, filters=256, kernel_size=3, use_bias=use_bias, shortcut=shortcut)\n",
        "    out = conv_block(out, filters=256, kernel_size=3, use_bias=use_bias, shortcut=shortcut, \n",
        "                     pool_type=pool_type, sorted=sorted, stage=3)\n",
        "\n",
        "    # Convolutional Block 512\n",
        "    for _ in range(num_conv_blocks[3] - 1):\n",
        "        out = identity_block(out, filters=512, kernel_size=3, use_bias=use_bias, shortcut=shortcut)\n",
        "    out = conv_block(out, filters=512, kernel_size=3, use_bias=use_bias, shortcut=False, \n",
        "                     pool_type=None, stage=4)\n",
        "\n",
        "    # k-max pooling with k = 8\n",
        "    out = KMaxPooling(k=8, sorted=True)(out)\n",
        "    out = Flatten()(out)\n",
        "\n",
        "    # Dense Layers\n",
        "    out = Dense(2048, activation='relu')(out)\n",
        "    out = Dense(2048, activation='relu')(out)\n",
        "    out = Dense(num_classes, activation='softmax')(out)\n",
        "\n",
        "    if input_tensor is not None:\n",
        "        inputs = get_source_inputs(input_tensor)\n",
        "    else:\n",
        "        inputs = inputs\n",
        "\n",
        "    # Create model.\n",
        "    model = Model(inputs=inputs, outputs=out, name='VDCNN')\n",
        "    return model\n"
      ],
      "execution_count": null,
      "outputs": []
    },
    {
      "cell_type": "code",
      "metadata": {
        "id": "P-LukGX9G8g_",
        "colab": {
          "base_uri": "https://localhost:8080/",
          "height": 389
        },
        "outputId": "28387a40-9525-4ea8-c19c-c9745db30583"
      },
      "source": [
        "model = VDCNN()\n",
        "model.compile(Adam(lr=1e-4), loss='categorical_crossentropy',metrics=(['accuracy',precision,recall,f1]))\n",
        "model.fit(X_train,y_train, batch_size=128, epochs=10,\n",
        "                       validation_data=(X_test,y_test))"
      ],
      "execution_count": null,
      "outputs": [
        {
          "output_type": "stream",
          "text": [
            "Epoch 1/10\n",
            "13/13 [==============================] - 2s 155ms/step - loss: 1.7715 - accuracy: 0.3750 - precision: 0.4166 - recall: 0.2362 - f1: 0.2820 - val_loss: 1.3671 - val_accuracy: 0.3850 - val_precision: 0.0000e+00 - val_recall: 0.0000e+00 - val_f1: nan\n",
            "Epoch 2/10\n",
            "13/13 [==============================] - 2s 119ms/step - loss: 1.0106 - accuracy: 0.5725 - precision: 0.7012 - recall: 0.3660 - f1: 0.4704 - val_loss: 1.3450 - val_accuracy: 0.3850 - val_precision: 0.0000e+00 - val_recall: 0.0000e+00 - val_f1: nan\n",
            "Epoch 3/10\n",
            "13/13 [==============================] - 2s 120ms/step - loss: 0.7459 - accuracy: 0.7094 - precision: 0.7850 - recall: 0.5817 - f1: 0.6672 - val_loss: 1.3407 - val_accuracy: 0.3850 - val_precision: 0.0000e+00 - val_recall: 0.0000e+00 - val_f1: nan\n",
            "Epoch 4/10\n",
            "13/13 [==============================] - 2s 119ms/step - loss: 0.5073 - accuracy: 0.8356 - precision: 0.8799 - recall: 0.7614 - f1: 0.8163 - val_loss: 1.3520 - val_accuracy: 0.3850 - val_precision: 0.0000e+00 - val_recall: 0.0000e+00 - val_f1: nan\n",
            "Epoch 5/10\n",
            "13/13 [==============================] - 2s 120ms/step - loss: 0.2974 - accuracy: 0.9169 - precision: 0.9332 - recall: 0.8876 - f1: 0.9096 - val_loss: 1.4413 - val_accuracy: 0.3850 - val_precision: 0.3691 - val_recall: 0.3691 - val_f1: 0.3691\n",
            "Epoch 6/10\n",
            "13/13 [==============================] - 2s 119ms/step - loss: 0.1664 - accuracy: 0.9675 - precision: 0.9731 - recall: 0.9561 - f1: 0.9645 - val_loss: 1.6440 - val_accuracy: 0.3850 - val_precision: 0.3691 - val_recall: 0.3691 - val_f1: 0.3691\n",
            "Epoch 7/10\n",
            "13/13 [==============================] - 2s 120ms/step - loss: 0.0865 - accuracy: 0.9844 - precision: 0.9856 - recall: 0.9832 - f1: 0.9844 - val_loss: 1.9363 - val_accuracy: 0.3850 - val_precision: 0.3691 - val_recall: 0.3691 - val_f1: 0.3691\n",
            "Epoch 8/10\n",
            "13/13 [==============================] - 2s 120ms/step - loss: 0.0582 - accuracy: 0.9869 - precision: 0.9880 - recall: 0.9868 - f1: 0.9874 - val_loss: 2.1398 - val_accuracy: 0.3850 - val_precision: 0.3691 - val_recall: 0.3691 - val_f1: 0.3691\n",
            "Epoch 9/10\n",
            "13/13 [==============================] - 2s 120ms/step - loss: 0.0671 - accuracy: 0.9837 - precision: 0.9844 - recall: 0.9832 - f1: 0.9838 - val_loss: 2.7427 - val_accuracy: 0.3850 - val_precision: 0.3691 - val_recall: 0.3691 - val_f1: 0.3691\n",
            "Epoch 10/10\n",
            "13/13 [==============================] - 2s 120ms/step - loss: 0.0688 - accuracy: 0.9856 - precision: 0.9862 - recall: 0.9862 - f1: 0.9862 - val_loss: 2.8476 - val_accuracy: 0.3850 - val_precision: 0.3691 - val_recall: 0.3691 - val_f1: 0.3691\n"
          ],
          "name": "stdout"
        },
        {
          "output_type": "execute_result",
          "data": {
            "text/plain": [
              "<tensorflow.python.keras.callbacks.History at 0x7fe25bde8780>"
            ]
          },
          "metadata": {
            "tags": []
          },
          "execution_count": 36
        }
      ]
    },
    {
      "cell_type": "code",
      "metadata": {
        "id": "hStJ_J1WURAK",
        "colab": {
          "base_uri": "https://localhost:8080/",
          "height": 1000
        },
        "outputId": "8d185855-e137-44a8-ddb2-5bd326988194"
      },
      "source": [
        "model = VDCNN()\n",
        "model.compile(Adam(lr=1e-4), loss='categorical_crossentropy',metrics=(['accuracy',precision,recall,f1]))\n",
        "model.fit(X_train,y_train, batch_size=6, epochs=30,\n",
        "                       validation_data=(X_test,y_test))"
      ],
      "execution_count": null,
      "outputs": [
        {
          "output_type": "stream",
          "text": [
            "Epoch 1/30\n",
            "267/267 [==============================] - 6s 23ms/step - loss: 1.3943 - accuracy: 0.4231 - precision: 0.4655 - recall: 0.2694 - f1: nan - val_loss: 1.3786 - val_accuracy: 0.3875 - val_precision: 0.4085 - val_recall: 0.3831 - val_f1: nan\n",
            "Epoch 2/30\n",
            "267/267 [==============================] - 6s 21ms/step - loss: 0.9855 - accuracy: 0.5869 - precision: 0.6648 - recall: 0.4710 - f1: nan - val_loss: 0.9037 - val_accuracy: 0.6400 - val_precision: 0.6908 - val_recall: 0.5547 - val_f1: nan\n",
            "Epoch 3/30\n",
            "267/267 [==============================] - 5s 21ms/step - loss: 0.8384 - accuracy: 0.6456 - precision: 0.7141 - recall: 0.5646 - f1: nan - val_loss: 0.9224 - val_accuracy: 0.6325 - val_precision: 0.6746 - val_recall: 0.5647 - val_f1: nan\n",
            "Epoch 4/30\n",
            "267/267 [==============================] - 5s 20ms/step - loss: 0.7119 - accuracy: 0.7150 - precision: 0.7624 - recall: 0.6442 - f1: nan - val_loss: 1.1257 - val_accuracy: 0.5625 - val_precision: 0.5774 - val_recall: 0.5249 - val_f1: 0.5473\n",
            "Epoch 5/30\n",
            "267/267 [==============================] - 6s 21ms/step - loss: 0.5813 - accuracy: 0.7675 - precision: 0.8083 - recall: 0.7278 - f1: 0.7623 - val_loss: 1.0884 - val_accuracy: 0.6375 - val_precision: 0.6562 - val_recall: 0.6132 - val_f1: 0.6321\n",
            "Epoch 6/30\n",
            "267/267 [==============================] - 5s 20ms/step - loss: 0.4808 - accuracy: 0.8206 - precision: 0.8441 - recall: 0.7974 - f1: 0.8176 - val_loss: 1.4145 - val_accuracy: 0.5475 - val_precision: 0.5692 - val_recall: 0.5149 - val_f1: 0.5385\n",
            "Epoch 7/30\n",
            "267/267 [==============================] - 5s 20ms/step - loss: 0.4146 - accuracy: 0.8537 - precision: 0.8695 - recall: 0.8390 - f1: 0.8526 - val_loss: 1.1459 - val_accuracy: 0.6375 - val_precision: 0.6500 - val_recall: 0.6256 - val_f1: 0.6367\n",
            "Epoch 8/30\n",
            "267/267 [==============================] - 5s 20ms/step - loss: 0.3873 - accuracy: 0.8537 - precision: 0.8756 - recall: 0.8374 - f1: 0.8539 - val_loss: 1.7268 - val_accuracy: 0.5900 - val_precision: 0.6005 - val_recall: 0.5709 - val_f1: nan\n",
            "Epoch 9/30\n",
            "267/267 [==============================] - 5s 20ms/step - loss: 0.2932 - accuracy: 0.9013 - precision: 0.9132 - recall: 0.8870 - f1: 0.8986 - val_loss: 1.2871 - val_accuracy: 0.6425 - val_precision: 0.6460 - val_recall: 0.6331 - val_f1: 0.6390\n",
            "Epoch 10/30\n",
            "267/267 [==============================] - 5s 20ms/step - loss: 0.2886 - accuracy: 0.8975 - precision: 0.9059 - recall: 0.8889 - f1: 0.8965 - val_loss: 1.4555 - val_accuracy: 0.6100 - val_precision: 0.6132 - val_recall: 0.6032 - val_f1: 0.6078\n",
            "Epoch 11/30\n",
            "267/267 [==============================] - 6s 21ms/step - loss: 0.2454 - accuracy: 0.9250 - precision: 0.9319 - recall: 0.9182 - f1: 0.9244 - val_loss: 1.4265 - val_accuracy: 0.6375 - val_precision: 0.6405 - val_recall: 0.6306 - val_f1: 0.6351\n",
            "Epoch 12/30\n",
            "267/267 [==============================] - 6s 21ms/step - loss: 0.2352 - accuracy: 0.9137 - precision: 0.9198 - recall: 0.9064 - f1: 0.9124 - val_loss: 1.3741 - val_accuracy: 0.6625 - val_precision: 0.6741 - val_recall: 0.6580 - val_f1: 0.6650\n",
            "Epoch 13/30\n",
            "267/267 [==============================] - 5s 21ms/step - loss: 0.2208 - accuracy: 0.9306 - precision: 0.9385 - recall: 0.9226 - f1: 0.9297 - val_loss: 1.6145 - val_accuracy: 0.6600 - val_precision: 0.6719 - val_recall: 0.6480 - val_f1: 0.6586\n",
            "Epoch 14/30\n",
            "267/267 [==============================] - 5s 21ms/step - loss: 0.2050 - accuracy: 0.9312 - precision: 0.9385 - recall: 0.9251 - f1: 0.9311 - val_loss: 1.4475 - val_accuracy: 0.6575 - val_precision: 0.6692 - val_recall: 0.6480 - val_f1: 0.6574\n",
            "Epoch 15/30\n",
            "267/267 [==============================] - 6s 21ms/step - loss: 0.1658 - accuracy: 0.9513 - precision: 0.9537 - recall: 0.9469 - f1: 0.9500 - val_loss: 1.9998 - val_accuracy: 0.6675 - val_precision: 0.6697 - val_recall: 0.6604 - val_f1: 0.6644\n",
            "Epoch 16/30\n",
            "267/267 [==============================] - 5s 20ms/step - loss: 0.1816 - accuracy: 0.9488 - precision: 0.9526 - recall: 0.9451 - f1: 0.9484 - val_loss: 1.7670 - val_accuracy: 0.6400 - val_precision: 0.6430 - val_recall: 0.6331 - val_f1: 0.6376\n",
            "Epoch 17/30\n",
            "267/267 [==============================] - 5s 20ms/step - loss: 0.1547 - accuracy: 0.9519 - precision: 0.9556 - recall: 0.9491 - f1: 0.9521 - val_loss: 1.3972 - val_accuracy: 0.6600 - val_precision: 0.6627 - val_recall: 0.6530 - val_f1: 0.6572\n",
            "Epoch 18/30\n",
            "267/267 [==============================] - 5s 20ms/step - loss: 0.1340 - accuracy: 0.9550 - precision: 0.9581 - recall: 0.9513 - f1: 0.9543 - val_loss: 1.3873 - val_accuracy: 0.6600 - val_precision: 0.6682 - val_recall: 0.6505 - val_f1: 0.6583\n",
            "Epoch 19/30\n",
            "267/267 [==============================] - 6s 21ms/step - loss: 0.1328 - accuracy: 0.9569 - precision: 0.9605 - recall: 0.9541 - f1: 0.9569 - val_loss: 1.3957 - val_accuracy: 0.6675 - val_precision: 0.6734 - val_recall: 0.6480 - val_f1: 0.6590\n",
            "Epoch 20/30\n",
            "267/267 [==============================] - 6s 22ms/step - loss: 0.1027 - accuracy: 0.9681 - precision: 0.9698 - recall: 0.9657 - f1: 0.9675 - val_loss: 1.5551 - val_accuracy: 0.6650 - val_precision: 0.6669 - val_recall: 0.6555 - val_f1: 0.6607\n",
            "Epoch 21/30\n",
            "267/267 [==============================] - 6s 21ms/step - loss: 0.1129 - accuracy: 0.9650 - precision: 0.9670 - recall: 0.9632 - f1: 0.9649 - val_loss: 1.4613 - val_accuracy: 0.6850 - val_precision: 0.6905 - val_recall: 0.6729 - val_f1: 0.6807\n",
            "Epoch 22/30\n",
            "267/267 [==============================] - 6s 21ms/step - loss: 0.0996 - accuracy: 0.9644 - precision: 0.9672 - recall: 0.9613 - f1: 0.9640 - val_loss: 1.6137 - val_accuracy: 0.6550 - val_precision: 0.6619 - val_recall: 0.6443 - val_f1: 0.6521\n",
            "Epoch 23/30\n",
            "267/267 [==============================] - 5s 20ms/step - loss: 0.1410 - accuracy: 0.9525 - precision: 0.9551 - recall: 0.9494 - f1: 0.9520 - val_loss: 1.4499 - val_accuracy: 0.6225 - val_precision: 0.6400 - val_recall: 0.6107 - val_f1: 0.6238\n",
            "Epoch 24/30\n",
            "267/267 [==============================] - 6s 21ms/step - loss: 0.0885 - accuracy: 0.9694 - precision: 0.9694 - recall: 0.9675 - f1: 0.9684 - val_loss: 1.7150 - val_accuracy: 0.6850 - val_precision: 0.6940 - val_recall: 0.6741 - val_f1: 0.6832\n",
            "Epoch 25/30\n",
            "267/267 [==============================] - 6s 21ms/step - loss: 0.0928 - accuracy: 0.9731 - precision: 0.9737 - recall: 0.9707 - f1: 0.9720 - val_loss: 1.9738 - val_accuracy: 0.6975 - val_precision: 0.6978 - val_recall: 0.6953 - val_f1: 0.6964\n",
            "Epoch 26/30\n",
            "267/267 [==============================] - 5s 21ms/step - loss: 0.0772 - accuracy: 0.9775 - precision: 0.9782 - recall: 0.9775 - f1: 0.9778 - val_loss: 1.6149 - val_accuracy: 0.6550 - val_precision: 0.6694 - val_recall: 0.6480 - val_f1: 0.6577\n",
            "Epoch 27/30\n",
            "267/267 [==============================] - 6s 21ms/step - loss: 0.1081 - accuracy: 0.9650 - precision: 0.9677 - recall: 0.9638 - f1: 0.9656 - val_loss: 1.9597 - val_accuracy: 0.5700 - val_precision: 0.5843 - val_recall: 0.5659 - val_f1: 0.5743\n",
            "Epoch 28/30\n",
            "267/267 [==============================] - 5s 20ms/step - loss: 0.0953 - accuracy: 0.9688 - precision: 0.9698 - recall: 0.9663 - f1: 0.9679 - val_loss: 1.5789 - val_accuracy: 0.6675 - val_precision: 0.6694 - val_recall: 0.6530 - val_f1: 0.6604\n",
            "Epoch 29/30\n",
            "267/267 [==============================] - 6s 21ms/step - loss: 0.0523 - accuracy: 0.9819 - precision: 0.9816 - recall: 0.9816 - f1: 0.9816 - val_loss: 1.4322 - val_accuracy: 0.6675 - val_precision: 0.6756 - val_recall: 0.6542 - val_f1: 0.6637\n",
            "Epoch 30/30\n",
            "267/267 [==============================] - 6s 21ms/step - loss: 0.1086 - accuracy: 0.9700 - precision: 0.9728 - recall: 0.9663 - f1: 0.9692 - val_loss: 2.2857 - val_accuracy: 0.6925 - val_precision: 0.6913 - val_recall: 0.6853 - val_f1: 0.6880\n"
          ],
          "name": "stdout"
        },
        {
          "output_type": "execute_result",
          "data": {
            "text/plain": [
              "<tensorflow.python.keras.callbacks.History at 0x7fe258a13550>"
            ]
          },
          "metadata": {
            "tags": []
          },
          "execution_count": 38
        }
      ]
    },
    {
      "cell_type": "code",
      "metadata": {
        "id": "84x0KUUOb-FC",
        "colab": {
          "base_uri": "https://localhost:8080/",
          "height": 162
        },
        "outputId": "fcb9f4ad-a8b2-4d03-d200-c926d4e63685"
      },
      "source": [
        "model.history.history['val_accuracy']"
      ],
      "execution_count": null,
      "outputs": [
        {
          "output_type": "error",
          "ename": "TypeError",
          "evalue": "ignored",
          "traceback": [
            "\u001b[0;31m---------------------------------------------------------------------------\u001b[0m",
            "\u001b[0;31mTypeError\u001b[0m                                 Traceback (most recent call last)",
            "\u001b[0;32m<ipython-input-49-5747183b3ca8>\u001b[0m in \u001b[0;36m<module>\u001b[0;34m()\u001b[0m\n\u001b[0;32m----> 1\u001b[0;31m \u001b[0mmodel\u001b[0m\u001b[0;34m.\u001b[0m\u001b[0mhistory\u001b[0m\u001b[0;34m(\u001b[0m\u001b[0;34m)\u001b[0m\u001b[0;34m\u001b[0m\u001b[0;34m\u001b[0m\u001b[0m\n\u001b[0m",
            "\u001b[0;31mTypeError\u001b[0m: 'History' object is not callable"
          ]
        }
      ]
    },
    {
      "cell_type": "code",
      "metadata": {
        "id": "SsY177c0Y586",
        "colab": {
          "base_uri": "https://localhost:8080/",
          "height": 572
        },
        "outputId": "71340513-b295-4e59-deec-fb793d1b5ebf"
      },
      "source": [
        "plt.plot(model.history.history['accuracy'])\n",
        "plt.plot(model.history.history['val_accuracy'])\n",
        "plt.title('Model accuracy')\n",
        "plt.ylabel('Accuracy')\n",
        "plt.xlabel('Epoch')\n",
        "plt.legend(['Train', 'Test'], loc='upper left')\n",
        "plt.show()\n",
        "\n",
        "# Plot training & validation loss values\n",
        "plt.plot(model.history.history['loss'])\n",
        "plt.plot(model.history.history['val_loss'])\n",
        "plt.title('Model loss')\n",
        "plt.ylabel('Loss')\n",
        "plt.xlabel('Epoch')\n",
        "plt.legend(['Train', 'Test'], loc='upper left')\n",
        "plt.show()"
      ],
      "execution_count": null,
      "outputs": [
        {
          "output_type": "display_data",
          "data": {
            "image/png": "[encoded data removed]",
            "text/plain": [
              "<Figure size 432x288 with 1 Axes>"
            ]
          },
          "metadata": {
            "tags": [],
            "needs_background": "light"
          }
        },
        {
          "output_type": "display_data",
          "data": {
            "image/png": "[encoded data removed]",
            "text/plain": [
              "<Figure size 432x288 with 1 Axes>"
            ]
          },
          "metadata": {
            "tags": [],
            "needs_background": "light"
          }
        }
      ]
    },
    {
      "cell_type": "code",
      "metadata": {
        "id": "-raG1GaeHe2c"
      },
      "source": [
        "#@title DCNN\n",
        "import tensorflow as tf\n",
        "from tensorflow.keras import backend as K\n",
        "from tensorflow.keras.layers import *\n",
        "\n",
        "\n",
        "class Folding(Layer):\n",
        "    def __init__(self, **kwargs):\n",
        "        super(Folding, self).__init__(**kwargs)\n",
        "\n",
        "    def build(self, input_shape):\n",
        "        if len(input_shape) != 3:\n",
        "            raise ValueError('Input into Folding Layer must be a 3D tensor!')\n",
        "        super(Folding, self).build(input_shape)\n",
        "\n",
        "    def call(self, inputs):\n",
        "        # split the tensor along dimension 2 into dimension_axis_size/2\n",
        "        # which will give us 2 tensors.\n",
        "        # will raise ValueError if K.int_shape(inputs) is odd\n",
        "        splits = tf.split(inputs, int(K.int_shape(inputs)[-1] / 2), axis=-1)\n",
        "\n",
        "        # reduce sums of the pair of rows we have split onto\n",
        "        reduce_sums = [tf.reduce_sum(split, axis=-1) for split in splits]\n",
        "\n",
        "        # stack them up along the same axis we have reduced\n",
        "        row_reduced = tf.stack(reduce_sums, axis=-1)\n",
        "        return row_reduced\n",
        "\n",
        "    def compute_output_shape(self, input_shape):\n",
        "        return input_shape[0], input_shape[1], int(input_shape[2] / 2)\n",
        "\n",
        "class DCNN(KerasBaseModel):\n",
        "    def __init__(self, config, **kwargs):\n",
        "        super(DCNN, self).__init__(config, **kwargs)\n",
        "\n",
        "    def build(self):\n",
        "        input_text = Input(shape=(self.max_len,))\n",
        "\n",
        "        embedding_layer = Embedding(self.word_embeddings.shape[0], self.word_embeddings.shape[1],\n",
        "                                    weights=[self.word_embeddings],\n",
        "                                    trainable=self.config.word_embed_trainable)(input_text)\n",
        "        text_embed = SpatialDropout1D(0.2)(embedding_layer)\n",
        "\n",
        "        # wide convolution\n",
        "        zero_padded_1 = ZeroPadding1D((6, 6))(text_embed)\n",
        "        conv_1 = Conv1D(filters=128, kernel_size=7, strides=1, padding='valid')(zero_padded_1)\n",
        "        # dynamic k-max pooling\n",
        "        k_maxpool_1 = KMaxPooling(int(self.max_len / 3 * 2))(conv_1)\n",
        "        # non-linear feature function\n",
        "        non_linear_1 = ReLU()(k_maxpool_1)\n",
        "\n",
        "        # wide convolution\n",
        "        zero_padded_2 = ZeroPadding1D((4, 4))(non_linear_1)\n",
        "        conv_2 = Conv1D(filters=128, kernel_size=5, strides=1, padding='valid')(zero_padded_2)\n",
        "        # dynamic k-max pooling\n",
        "        k_maxpool_2 = KMaxPooling(int(self.max_len / 3 * 1))(conv_2)\n",
        "        # non-linear feature function\n",
        "        non_linear_2 = ReLU()(k_maxpool_2)\n",
        "\n",
        "        # wide convolution\n",
        "        zero_padded_3 = ZeroPadding1D((2, 2))(non_linear_2)\n",
        "        conv_3 = Conv1D(filters=128, kernel_size=5, strides=1, padding='valid')(zero_padded_3)\n",
        "        # folding\n",
        "        folded = Folding()(conv_3)\n",
        "        # dynamic k-max pooling\n",
        "        k_maxpool_3 = KMaxPooling(k=10)(folded)\n",
        "        # non-linear feature function\n",
        "        non_linear_3 = ReLU()(k_maxpool_3)\n",
        "\n",
        "        sentence_embed = Flatten()(non_linear_3)\n",
        "\n",
        "        dense_layer = Dense(256, activation='relu')(sentence_embed)\n",
        "        output = Dense(self.n_class, activation='softmax')(dense_layer)\n",
        "\n",
        "        model = Model(input_text, output)\n",
        "        model.compile(loss='categorical_crossentropy', metrics=(['accuracy',precision,recall,f1]), optimizer=self.config.optimizer)\n",
        "        return model"
      ],
      "execution_count": null,
      "outputs": []
    },
    {
      "cell_type": "code",
      "metadata": {
        "id": "KunCruOzH0X0",
        "colab": {
          "base_uri": "https://localhost:8080/",
          "height": 638
        },
        "outputId": "986a5921-d50f-4180-9a1d-12814ebd1d5b"
      },
      "source": [
        "config = Config()\n",
        "config.word_embeddings = embedding_matrix\n",
        "config.checkpoint_dir = \"/content/DCNN/cp.ckpt\"\n",
        "config.batch_size = 64\n",
        "dcnn = DCNN(config)\n",
        "dcnn.train(data_train = (X_train,y_train),data_dev=(X_test,y_test))"
      ],
      "execution_count": null,
      "outputs": [
        {
          "output_type": "stream",
          "text": [
            "Epoch 1/10\n",
            "25/25 [==============================] - ETA: 0s - loss: 1.1583 - accuracy: 0.4888 - precision: 0.4427 - recall: 0.2175 - f1: nan\n",
            "Epoch 00001: val_loss improved from inf to 0.88670, saving model to /content/DCNN/cp.ckpt\n",
            "25/25 [==============================] - 2s 70ms/step - loss: 1.1583 - accuracy: 0.4888 - precision: 0.4427 - recall: 0.2175 - f1: nan - val_loss: 0.8867 - val_accuracy: 0.5975 - val_precision: 0.6520 - val_recall: 0.4196 - val_f1: 0.5103\n",
            "Epoch 2/10\n",
            "25/25 [==============================] - ETA: 0s - loss: 0.7770 - accuracy: 0.6844 - precision: 0.7413 - recall: 0.5719 - f1: 0.6435\n",
            "Epoch 00002: val_loss improved from 0.88670 to 0.73609, saving model to /content/DCNN/cp.ckpt\n",
            "25/25 [==============================] - 1s 45ms/step - loss: 0.7770 - accuracy: 0.6844 - precision: 0.7413 - recall: 0.5719 - f1: 0.6435 - val_loss: 0.7361 - val_accuracy: 0.6925 - val_precision: 0.7240 - val_recall: 0.6317 - val_f1: 0.6740\n",
            "Epoch 3/10\n",
            "25/25 [==============================] - ETA: 0s - loss: 0.6295 - accuracy: 0.7550 - precision: 0.7897 - recall: 0.6919 - f1: 0.7369\n",
            "Epoch 00003: val_loss did not improve from 0.73609\n",
            "25/25 [==============================] - 1s 43ms/step - loss: 0.6295 - accuracy: 0.7550 - precision: 0.7897 - recall: 0.6919 - f1: 0.7369 - val_loss: 0.7503 - val_accuracy: 0.6875 - val_precision: 0.7275 - val_recall: 0.6339 - val_f1: 0.6773\n",
            "Epoch 4/10\n",
            "25/25 [==============================] - ETA: 0s - loss: 0.5585 - accuracy: 0.7756 - precision: 0.8143 - recall: 0.7275 - f1: 0.7680\n",
            "Epoch 00004: val_loss improved from 0.73609 to 0.69284, saving model to /content/DCNN/cp.ckpt\n",
            "25/25 [==============================] - 1s 46ms/step - loss: 0.5585 - accuracy: 0.7756 - precision: 0.8143 - recall: 0.7275 - f1: 0.7680 - val_loss: 0.6928 - val_accuracy: 0.7200 - val_precision: 0.7423 - val_recall: 0.6674 - val_f1: 0.7022\n",
            "Epoch 5/10\n",
            "25/25 [==============================] - ETA: 0s - loss: 0.4828 - accuracy: 0.8156 - precision: 0.8393 - recall: 0.7881 - f1: 0.8127\n",
            "Epoch 00005: val_loss did not improve from 0.69284\n",
            "25/25 [==============================] - 1s 42ms/step - loss: 0.4828 - accuracy: 0.8156 - precision: 0.8393 - recall: 0.7881 - f1: 0.8127 - val_loss: 0.7294 - val_accuracy: 0.6875 - val_precision: 0.7224 - val_recall: 0.6540 - val_f1: 0.6860\n",
            "Epoch 6/10\n",
            "25/25 [==============================] - ETA: 0s - loss: 0.3583 - accuracy: 0.8625 - precision: 0.8717 - recall: 0.8462 - f1: 0.8587\n",
            "Epoch 00006: val_loss did not improve from 0.69284\n",
            "25/25 [==============================] - 1s 43ms/step - loss: 0.3583 - accuracy: 0.8625 - precision: 0.8717 - recall: 0.8462 - f1: 0.8587 - val_loss: 0.8446 - val_accuracy: 0.7150 - val_precision: 0.7154 - val_recall: 0.6808 - val_f1: 0.6975\n",
            "Epoch 7/10\n",
            "25/25 [==============================] - ETA: 0s - loss: 0.2923 - accuracy: 0.8894 - precision: 0.9023 - recall: 0.8731 - f1: 0.8873\n",
            "Epoch 00007: val_loss did not improve from 0.69284\n",
            "25/25 [==============================] - 1s 42ms/step - loss: 0.2923 - accuracy: 0.8894 - precision: 0.9023 - recall: 0.8731 - f1: 0.8873 - val_loss: 0.9095 - val_accuracy: 0.6900 - val_precision: 0.7085 - val_recall: 0.6674 - val_f1: 0.6869\n",
            "Epoch 8/10\n",
            "25/25 [==============================] - ETA: 0s - loss: 0.1956 - accuracy: 0.9312 - precision: 0.9378 - recall: 0.9231 - f1: 0.9303\n",
            "Epoch 00008: val_loss did not improve from 0.69284\n",
            "25/25 [==============================] - 1s 43ms/step - loss: 0.1956 - accuracy: 0.9312 - precision: 0.9378 - recall: 0.9231 - f1: 0.9303 - val_loss: 1.1415 - val_accuracy: 0.6625 - val_precision: 0.6678 - val_recall: 0.6496 - val_f1: 0.6585\n",
            "Epoch 9/10\n",
            "25/25 [==============================] - ETA: 0s - loss: 0.1930 - accuracy: 0.9362 - precision: 0.9377 - recall: 0.9306 - f1: 0.9341\n",
            "Epoch 00009: val_loss did not improve from 0.69284\n",
            "25/25 [==============================] - 1s 43ms/step - loss: 0.1930 - accuracy: 0.9362 - precision: 0.9377 - recall: 0.9306 - f1: 0.9341 - val_loss: 1.0062 - val_accuracy: 0.7200 - val_precision: 0.7150 - val_recall: 0.7031 - val_f1: 0.7089\n",
            "Epoch 00009: early stopping\n"
          ],
          "name": "stdout"
        }
      ]
    },
    {
      "cell_type": "code",
      "metadata": {
        "id": "7xSj0wsjcrvY"
      },
      "source": [
        "plt.plot(model.history.history['accuracy'])\n",
        "plt.plot(model.history.history['val_accuracy'])\n",
        "plt.title('Model accuracy')\n",
        "plt.ylabel('Accuracy')\n",
        "plt.xlabel('Epoch')\n",
        "plt.legend(['Train', 'Test'], loc='upper left')\n",
        "plt.show()\n",
        "\n",
        "# Plot training & validation loss values\n",
        "plt.plot(model.history.history['loss'])\n",
        "plt.plot(model.history.history['val_loss'])\n",
        "plt.title('Model loss')\n",
        "plt.ylabel('Loss')\n",
        "plt.xlabel('Epoch')\n",
        "plt.legend(['Train', 'Test'], loc='upper left')\n",
        "plt.show()"
      ],
      "execution_count": null,
      "outputs": []
    },
    {
      "cell_type": "code",
      "metadata": {
        "id": "0t3BCxWKi_aZ",
        "colab": {
          "base_uri": "https://localhost:8080/",
          "height": 571
        },
        "outputId": "1e8f09e6-6bf8-40c5-c0d6-df0805dfa6ed"
      },
      "source": [
        "config = Config()\n",
        "config.word_embeddings = embedding_matrix\n",
        "config.checkpoint_dir = \"/content/DCNN/cp.ckpt\"\n",
        "config.batch_size = 64\n",
        "dcnn = DCNN(config)\n",
        "dcnn.train(data_train = (X_train,y_train),data_dev=(X_test,y_test))"
      ],
      "execution_count": null,
      "outputs": [
        {
          "output_type": "stream",
          "text": [
            "Epoch 1/10\n",
            "25/25 [==============================] - ETA: 0s - loss: 1.1437 - acc: 0.4844\n",
            "Epoch 00001: val_loss improved from inf to 0.86055, saving model to /content/DCNN/cp.ckpt\n",
            "25/25 [==============================] - 2s 96ms/step - loss: 1.1437 - acc: 0.4844 - val_loss: 0.8605 - val_acc: 0.6425\n",
            "Epoch 2/10\n",
            "25/25 [==============================] - ETA: 0s - loss: 0.7669 - acc: 0.6975\n",
            "Epoch 00002: val_loss improved from 0.86055 to 0.84435, saving model to /content/DCNN/cp.ckpt\n",
            "25/25 [==============================] - 2s 83ms/step - loss: 0.7669 - acc: 0.6975 - val_loss: 0.8443 - val_acc: 0.6750\n",
            "Epoch 3/10\n",
            "25/25 [==============================] - ETA: 0s - loss: 0.6444 - acc: 0.7606\n",
            "Epoch 00003: val_loss improved from 0.84435 to 0.70003, saving model to /content/DCNN/cp.ckpt\n",
            "25/25 [==============================] - 2s 84ms/step - loss: 0.6444 - acc: 0.7606 - val_loss: 0.7000 - val_acc: 0.7275\n",
            "Epoch 4/10\n",
            "25/25 [==============================] - ETA: 0s - loss: 0.5363 - acc: 0.7950\n",
            "Epoch 00004: val_loss did not improve from 0.70003\n",
            "25/25 [==============================] - 2s 81ms/step - loss: 0.5363 - acc: 0.7950 - val_loss: 0.7233 - val_acc: 0.7350\n",
            "Epoch 5/10\n",
            "25/25 [==============================] - ETA: 0s - loss: 0.4192 - acc: 0.8406\n",
            "Epoch 00005: val_loss did not improve from 0.70003\n",
            "25/25 [==============================] - 2s 81ms/step - loss: 0.4192 - acc: 0.8406 - val_loss: 0.8224 - val_acc: 0.7000\n",
            "Epoch 6/10\n",
            "25/25 [==============================] - ETA: 0s - loss: 0.3390 - acc: 0.8863\n",
            "Epoch 00006: val_loss did not improve from 0.70003\n",
            "25/25 [==============================] - 2s 81ms/step - loss: 0.3390 - acc: 0.8863 - val_loss: 0.9216 - val_acc: 0.6675\n",
            "Epoch 7/10\n",
            "25/25 [==============================] - ETA: 0s - loss: 0.2594 - acc: 0.9106\n",
            "Epoch 00007: val_loss did not improve from 0.70003\n",
            "25/25 [==============================] - 2s 82ms/step - loss: 0.2594 - acc: 0.9106 - val_loss: 0.9971 - val_acc: 0.7100\n",
            "Epoch 8/10\n",
            "25/25 [==============================] - ETA: 0s - loss: 0.1906 - acc: 0.9369\n",
            "Epoch 00008: val_loss did not improve from 0.70003\n",
            "25/25 [==============================] - 2s 82ms/step - loss: 0.1906 - acc: 0.9369 - val_loss: 1.1602 - val_acc: 0.6700\n",
            "Epoch 00008: early stopping\n"
          ],
          "name": "stdout"
        }
      ]
    },
    {
      "cell_type": "code",
      "metadata": {
        "id": "RQpuKVMD9DFy",
        "colab": {
          "base_uri": "https://localhost:8080/",
          "height": 168
        },
        "outputId": "66d4756b-5c6d-453c-e929-a01d1bf21c18"
      },
      "source": [
        "!pip install sacrebleu -q\n",
        "!pip install fastBPE -q\n",
        "!pip install fairseq -q\n",
        "!pip install transformers -q"
      ],
      "execution_count": null,
      "outputs": [
        {
          "output_type": "stream",
          "text": [
            "\u001b[?25l\r\u001b[K     |█████                           | 10kB 28.9MB/s eta 0:00:01\r\u001b[K     |██████████▏                     | 20kB 2.8MB/s eta 0:00:01\r\u001b[K     |███████████████▏                | 30kB 3.4MB/s eta 0:00:01\r\u001b[K     |████████████████████▎           | 40kB 3.7MB/s eta 0:00:01\r\u001b[K     |█████████████████████████▎      | 51kB 3.3MB/s eta 0:00:01\r\u001b[K     |██████████████████████████████▍ | 61kB 3.6MB/s eta 0:00:01\r\u001b[K     |████████████████████████████████| 71kB 2.8MB/s \n",
            "\u001b[?25h  Building wheel for fastBPE (setup.py) ... \u001b[?25l\u001b[?25hdone\n",
            "\u001b[K     |████████████████████████████████| 307kB 4.6MB/s \n",
            "\u001b[?25h  Building wheel for fairseq (setup.py) ... \u001b[?25l\u001b[?25hdone\n",
            "\u001b[K     |████████████████████████████████| 1.1MB 4.4MB/s \n",
            "\u001b[K     |████████████████████████████████| 890kB 12.6MB/s \n",
            "\u001b[K     |████████████████████████████████| 1.1MB 22.9MB/s \n",
            "\u001b[K     |████████████████████████████████| 3.0MB 41.7MB/s \n",
            "\u001b[?25h  Building wheel for sacremoses (setup.py) ... \u001b[?25l\u001b[?25hdone\n"
          ],
          "name": "stdout"
        }
      ]
    },
    {
      "cell_type": "code",
      "metadata": {
        "id": "6VdJnKyuEFJf"
      },
      "source": [
        "import tensorflow as tf\n",
        "import tensorflow.keras.backend as K\n",
        "from sklearn.model_selection import StratifiedKFold\n",
        "from transformers import TFBertModel,BertTokenizer\n",
        "from tensorflow.keras.layers import Dense, Input\n",
        "from tensorflow.keras.optimizers import Adam\n",
        "from tensorflow.keras.models import Model\n",
        "from tensorflow.keras.callbacks import ModelCheckpoint"
      ],
      "execution_count": null,
      "outputs": []
    },
    {
      "cell_type": "code",
      "metadata": {
        "id": "7oYp5jR_E8nb",
        "colab": {
          "base_uri": "https://localhost:8080/",
          "height": 247,
          "referenced_widgets": [
            "f785c16027d04ca388176612cc5de457",
            "4166ec463f4740f8a8bba3c0c8e977f7",
            "6207edee484748f3a00c8953e9538a48",
            "f98e1d507916482bae54d1f21cce9940",
            "7c6934b9fead4d0eb612a1c09e684a67",
            "45f6e416d93b4165995b166fabce1887",
            "5ade5057f11d4a6d872a61a5491bb3a9",
            "e2caf7cf7c494a0585cc3610c59eafb0",
            "28110b2709264954a02f14fcc849a0ef",
            "cf790430530c457d86634ad0a1e44824",
            "0ee5968ce22e495fa9cd482dcf703c3b",
            "687b3a4b5ad846c4813246e87936b631",
            "e45406fb3d974d1c80ce09b40ab6b8c9",
            "5bcb25cb65734b1998d909cf65e564c3",
            "a8745a82a8d541edba388953af9ddd17",
            "5355ee4750a945ff90f5ef264b8cc2fb",
            "8350a8afc6d04c399503769a6b33239f",
            "d2f6dd65db074350a71940ebea193aa7",
            "ac5b4c5e4ced4523bffe1da7d69206f6",
            "5f623f96546d465285300ac35d63f72d",
            "d5f632fa13464318b5cbe9bb0b0a1671",
            "5a0ae3e1a07d4fb494a65b27213a325a",
            "7bc284bdc7cd41bcb0ba08b80e5fdad0",
            "9ededbce85384dd38fd885c6f6f205d6"
          ]
        },
        "outputId": "80c81c47-db39-496a-86fc-08320df015aa"
      },
      "source": [
        "#@title BERT (Without Fine Tuning)\n",
        "bert_layer = TFBertModel.from_pretrained('bert-large-cased')\n",
        "bert_layer.trainable = False\n",
        "tokenizer = BertTokenizer.from_pretrained('bert-large-cased')"
      ],
      "execution_count": null,
      "outputs": [
        {
          "output_type": "display_data",
          "data": {
            "application/vnd.jupyter.widget-view+json": {
              "model_id": "f785c16027d04ca388176612cc5de457",
              "version_minor": 0,
              "version_major": 2
            },
            "text/plain": [
              "HBox(children=(FloatProgress(value=0.0, description='Downloading', max=625.0, style=ProgressStyle(description_…"
            ]
          },
          "metadata": {
            "tags": []
          }
        },
        {
          "output_type": "stream",
          "text": [
            "\n"
          ],
          "name": "stdout"
        },
        {
          "output_type": "display_data",
          "data": {
            "application/vnd.jupyter.widget-view+json": {
              "model_id": "28110b2709264954a02f14fcc849a0ef",
              "version_minor": 0,
              "version_major": 2
            },
            "text/plain": [
              "HBox(children=(FloatProgress(value=0.0, description='Downloading', max=1460062736.0, style=ProgressStyle(descr…"
            ]
          },
          "metadata": {
            "tags": []
          }
        },
        {
          "output_type": "stream",
          "text": [
            "\n"
          ],
          "name": "stdout"
        },
        {
          "output_type": "stream",
          "text": [
            "Some weights of the model checkpoint at bert-large-cased were not used when initializing TFBertModel: ['nsp___cls', 'mlm___cls']\n",
            "- This IS expected if you are initializing TFBertModel from the checkpoint of a model trained on another task or with another architecture (e.g. initializing a BertForSequenceClassification model from a BertForPretraining model).\n",
            "- This IS NOT expected if you are initializing TFBertModel from the checkpoint of a model that you expect to be exactly identical (initializing a BertForSequenceClassification model from a BertForSequenceClassification model).\n",
            "All the weights of TFBertModel were initialized from the model checkpoint at bert-large-cased.\n",
            "If your task is similar to the task the model of the checkpoint was trained on, you can already use TFBertModel for predictions without further training.\n"
          ],
          "name": "stderr"
        },
        {
          "output_type": "display_data",
          "data": {
            "application/vnd.jupyter.widget-view+json": {
              "model_id": "8350a8afc6d04c399503769a6b33239f",
              "version_minor": 0,
              "version_major": 2
            },
            "text/plain": [
              "HBox(children=(FloatProgress(value=0.0, description='Downloading', max=213450.0, style=ProgressStyle(descripti…"
            ]
          },
          "metadata": {
            "tags": []
          }
        },
        {
          "output_type": "stream",
          "text": [
            "\n"
          ],
          "name": "stdout"
        }
      ]
    },
    {
      "cell_type": "code",
      "metadata": {
        "id": "Kms-P_BSWeD-"
      },
      "source": [
        "from sklearn.preprocessing import LabelEncoder\n",
        "le = LabelEncoder()\n",
        "le.fit(data['Primary'].values)\n",
        "data['bert_target'] = le.transform(data['Primary'])"
      ],
      "execution_count": null,
      "outputs": []
    },
    {
      "cell_type": "code",
      "metadata": {
        "id": "KgO2t6Mr6QkF",
        "colab": {
          "base_uri": "https://localhost:8080/",
          "height": 218
        },
        "outputId": "fcb60ebc-7a24-42ab-eb7f-a2dfca08f0e5"
      },
      "source": [
        "data['bert_target']"
      ],
      "execution_count": null,
      "outputs": [
        {
          "output_type": "execute_result",
          "data": {
            "text/plain": [
              "0       0\n",
              "1       0\n",
              "2       0\n",
              "3       0\n",
              "4       0\n",
              "       ..\n",
              "1995    1\n",
              "1996    1\n",
              "1997    1\n",
              "1998    1\n",
              "1999    1\n",
              "Name: bert_target, Length: 2000, dtype: int64"
            ]
          },
          "metadata": {
            "tags": []
          },
          "execution_count": 56
        }
      ]
    },
    {
      "cell_type": "code",
      "metadata": {
        "id": "osu9bf6HGrli"
      },
      "source": [
        "def encode(texts):\n",
        "    input_id = []\n",
        "    # token_type_id = []\n",
        "    attention_mask = []\n",
        "    for text in texts:\n",
        "      dictIn = tokenizer.encode_plus(text,max_length=60,pad_to_max_length=True,truncation=True)\n",
        "      input_id.append(dictIn['input_ids'])\n",
        "      # token_type_id.append(dictIn['token_type_ids'])\n",
        "      attention_mask.append(dictIn['attention_mask'])\n",
        "    # return np.array(input_id), np.array(token_type_id),np.array(attention_mask)\n",
        "    return np.array(input_id),np.array(attention_mask)"
      ],
      "execution_count": null,
      "outputs": []
    },
    {
      "cell_type": "code",
      "metadata": {
        "id": "ikap8ri6XdDk",
        "colab": {
          "base_uri": "https://localhost:8080/",
          "height": 70
        },
        "outputId": "14f91c47-3f15-41ad-be1b-7e9c62c892a3"
      },
      "source": [
        "from sklearn.model_selection import train_test_split\n",
        "X_train,X_test, y_train, y_test = train_test_split(data['clean_text'].values,data['bert_target'].values, test_size=0.2,shuffle=True,random_state=124, stratify=data['bert_target'])\n",
        "X_train = encode(X_train)\n",
        "X_test = encode(X_test)\n",
        "# y_train = to_categorical(y_train)\n",
        "# y_test = to_categorical(y_test)"
      ],
      "execution_count": null,
      "outputs": [
        {
          "output_type": "stream",
          "text": [
            "/usr/local/lib/python3.6/dist-packages/transformers/tokenization_utils_base.py:1770: FutureWarning: The `pad_to_max_length` argument is deprecated and will be removed in a future version, use `padding=True` or `padding='longest'` to pad to the longest sequence in the batch, or use `padding='max_length'` to pad to a max length. In this case, you can give a specific length with `max_length` (e.g. `max_length=45`) or leave max_length to None to pad to the maximal input size of the model (e.g. 512 for Bert).\n",
            "  FutureWarning,\n"
          ],
          "name": "stderr"
        }
      ]
    },
    {
      "cell_type": "code",
      "metadata": {
        "id": "RTQEvaSkFOSc",
        "colab": {
          "base_uri": "https://localhost:8080/",
          "height": 33
        },
        "outputId": "951f54f1-4725-4e1d-c6e1-162f761a730a"
      },
      "source": [
        "y_train"
      ],
      "execution_count": null,
      "outputs": [
        {
          "output_type": "execute_result",
          "data": {
            "text/plain": [
              "array([2, 0, 0, ..., 2, 1, 0])"
            ]
          },
          "metadata": {
            "tags": []
          },
          "execution_count": 59
        }
      ]
    },
    {
      "cell_type": "code",
      "metadata": {
        "id": "sg8ZNiMIVmdW"
      },
      "source": [
        "input_word_ids = Input(shape=(60,), dtype=tf.int32, name=\"input_word_ids\")\n",
        "input_mask = Input(shape=(60,), dtype=tf.int32, name=\"input_mask\")\n",
        "# segment_ids = Input(shape=(128,), dtype=tf.int32, name=\"segment_ids\")\n",
        "\n",
        "_, output = bert_layer([input_word_ids, input_mask])\n",
        "output = Dense(32,activation='relu')(output)\n",
        "output = Dropout(0.2)(output)\n",
        "# out = SpatialDropout1D(0.4)(sequence_output)\n",
        "# out = Dense(200, activation='sigmoid')(out)\n",
        "out1 = Dense(1,activation='sigmoid')(output)\n",
        "bert_model = Model(inputs=[input_word_ids, input_mask], outputs=out1)\n",
        "bert_model.compile(Adam(lr=6e-5), loss='binary_crossentropy', metrics=['accuracy'])\n",
        "model_ckpt = ModelCheckpoint(\n",
        "            filepath=\"/content/BERT/cp.ckpt\",\n",
        "            monitor=\"val_loss\",\n",
        "            save_best_only=True,\n",
        "            save_weights_only=True,\n",
        "            verbose = 1)\n",
        "early_stop = EarlyStopping(\n",
        "            monitor='loss',\n",
        "            mode='max',\n",
        "            patience=20,\n",
        "            verbose = 1\n",
        "        )\n",
        "lr_callback = CyclicLR()"
      ],
      "execution_count": null,
      "outputs": []
    },
    {
      "cell_type": "code",
      "metadata": {
        "id": "DERwmiX2ZlyD",
        "colab": {
          "base_uri": "https://localhost:8080/",
          "height": 305
        },
        "outputId": "76a0c031-1165-47c3-cad2-47fb454069eb"
      },
      "source": [
        "history = bert_model.fit(X_train,y_train, batch_size=10, epochs=3,\n",
        "                       validation_data=(X_test,y_test), callbacks=[model_ckpt,early_stop,lr_callback])"
      ],
      "execution_count": null,
      "outputs": [
        {
          "output_type": "stream",
          "text": [
            "Epoch 1/3\n",
            "  2/160 [..............................] - ETA: 13s - loss: -0.2115 - accuracy: 0.2500WARNING:tensorflow:Callbacks method `on_train_batch_end` is slow compared to the batch time (batch time: 0.0524s vs `on_train_batch_end` time: 0.1206s). Check your callbacks.\n"
          ],
          "name": "stdout"
        },
        {
          "output_type": "stream",
          "text": [
            "WARNING:tensorflow:Callbacks method `on_train_batch_end` is slow compared to the batch time (batch time: 0.0524s vs `on_train_batch_end` time: 0.1206s). Check your callbacks.\n"
          ],
          "name": "stderr"
        },
        {
          "output_type": "stream",
          "text": [
            "160/160 [==============================] - ETA: 0s - loss: -12.1380 - accuracy: 0.2362WARNING:tensorflow:Callbacks method `on_test_batch_end` is slow compared to the batch time (batch time: 0.0307s vs `on_test_batch_end` time: 0.1241s). Check your callbacks.\n"
          ],
          "name": "stdout"
        },
        {
          "output_type": "stream",
          "text": [
            "WARNING:tensorflow:Callbacks method `on_test_batch_end` is slow compared to the batch time (batch time: 0.0307s vs `on_test_batch_end` time: 0.1241s). Check your callbacks.\n"
          ],
          "name": "stderr"
        },
        {
          "output_type": "stream",
          "text": [
            "\n",
            "Epoch 00001: val_loss improved from inf to -32.79806, saving model to /content/BERT/cp.ckpt\n",
            "160/160 [==============================] - 40s 248ms/step - loss: -12.1380 - accuracy: 0.2362 - val_loss: -32.7981 - val_accuracy: 0.2325\n",
            "Epoch 2/3\n",
            "160/160 [==============================] - ETA: 0s - loss: -64.6843 - accuracy: 0.2338\n",
            "Epoch 00002: val_loss improved from -32.79806 to -127.35713, saving model to /content/BERT/cp.ckpt\n",
            "160/160 [==============================] - 38s 240ms/step - loss: -64.6843 - accuracy: 0.2338 - val_loss: -127.3571 - val_accuracy: 0.2325\n",
            "Epoch 3/3\n",
            "160/160 [==============================] - ETA: 0s - loss: -230.4436 - accuracy: 0.2350\n",
            "Epoch 00003: val_loss improved from -127.35713 to -399.16196, saving model to /content/BERT/cp.ckpt\n",
            "160/160 [==============================] - 40s 247ms/step - loss: -230.4436 - accuracy: 0.2350 - val_loss: -399.1620 - val_accuracy: 0.2325\n"
          ],
          "name": "stdout"
        }
      ]
    },
    {
      "cell_type": "code",
      "metadata": {
        "id": "N5Y59gRsZzZ4"
      },
      "source": [
        ""
      ],
      "execution_count": null,
      "outputs": []
    }
  ]
}